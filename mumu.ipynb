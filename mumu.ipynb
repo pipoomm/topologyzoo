{
  "nbformat": 4,
  "nbformat_minor": 0,
  "metadata": {
    "colab": {
      "provenance": [],
      "collapsed_sections": [
        "bV4vHeo6DRt0",
        "um_DaevYzI0J",
        "PtTCyzQg0cHP",
        "7_VemJRFrcNp",
        "s43NIJKzGDqw",
        "tzy5cUMlD5Yt",
        "ztu41av3ASiO"
      ],
      "authorship_tag": "ABX9TyNbmC70NclOcTXC5NiBEVV8",
      "include_colab_link": true
    },
    "kernelspec": {
      "name": "python3",
      "display_name": "Python 3"
    },
    "language_info": {
      "name": "python"
    }
  },
  "cells": [
    {
      "cell_type": "markdown",
      "metadata": {
        "id": "view-in-github",
        "colab_type": "text"
      },
      "source": [
        "<a href=\"https://colab.research.google.com/github/pipoomm/topologyzoo/blob/main/mumu.ipynb\" target=\"_parent\"><img src=\"https://colab.research.google.com/assets/colab-badge.svg\" alt=\"Open In Colab\"/></a>"
      ]
    },
    {
      "cell_type": "code",
      "execution_count": 1,
      "metadata": {
        "id": "OO4vUcQu6Aca"
      },
      "outputs": [],
      "source": [
        "import numpy as np\n",
        "import math\n",
        "import random\n",
        "import networkx as nx\n",
        "\n",
        "import requests\n",
        "from io import StringIO, BytesIO\n",
        "import traceback\n",
        "\n",
        "import matplotlib.pyplot as plt\n",
        "from tabulate import tabulate"
      ]
    },
    {
      "cell_type": "markdown",
      "source": [
        "## Preparing graph"
      ],
      "metadata": {
        "id": "VouoRa50mIRj"
      }
    },
    {
      "cell_type": "markdown",
      "source": [
        "###From k-random graph"
      ],
      "metadata": {
        "id": "Jj1cvuHs1veU"
      }
    },
    {
      "cell_type": "code",
      "source": [
        "def read_json_city_from_url(url):\n",
        "  # Fetch JSON city list data from the URL\n",
        "  response = requests.get(url)\n",
        "\n",
        "  # Check if the request was successful\n",
        "  if response.status_code == 200:\n",
        "      # Convert JSON data to a Python list\n",
        "      city_list = response.json()\n",
        "  else:\n",
        "      print(f\"Error fetching data: {response.status_code}\")\n",
        "\n",
        "  return city_list"
      ],
      "metadata": {
        "id": "WYoKx8AA3OIP"
      },
      "execution_count": null,
      "outputs": []
    },
    {
      "cell_type": "code",
      "source": [
        "# Parameters for the random k-regular graph\n",
        "k = 3   # Degree of each node\n",
        "n = 20  # Number of nodes in the graph\n",
        "\n",
        "# Generate a random k-regular graph\n",
        "G = nx.random_regular_graph(k, n)\n",
        "\n",
        "# Covert to graph with string node labels\n",
        "G = nx.relabel_nodes(G, {node: str(node) for node in G.nodes})"
      ],
      "metadata": {
        "id": "GSdyipOX15c2"
      },
      "execution_count": null,
      "outputs": []
    },
    {
      "cell_type": "code",
      "source": [
        "# Add city information to node attributes\n",
        "url = \"https://raw.githubusercontent.com/pipoomm/topologyzoo/main/citylist.json\"\n",
        "city_list = read_json_city_from_url(url)\n",
        "\n",
        "node_attributes = {}\n",
        "seed_value = 610615011\n",
        "\n",
        "for i, node in enumerate(G.nodes):\n",
        "    random.seed(seed_value)\n",
        "    random_number = random.randint(0, 205)\n",
        "\n",
        "    node_attributes[str(node)] = {\n",
        "        'Internal': 1,  \n",
        "        'Latitude': city_list[random_number]['latitude'],  \n",
        "        'Country': city_list[random_number]['country'],  \n",
        "        'type': 'node',\n",
        "        'id': int(node),\n",
        "        'Longitude': city_list[random_number]['longitude'], \n",
        "        'label': city_list[random_number]['capital']\n",
        "    }\n",
        "    seed_value *= 3\n",
        "\n",
        "# Set node attributes\n",
        "for node, attributes in node_attributes.items():\n",
        "     for attr_key, attr_value in attributes.items():\n",
        "         G.nodes[node][attr_key] = attr_value"
      ],
      "metadata": {
        "id": "-ukWjTRA18Yf"
      },
      "execution_count": null,
      "outputs": []
    },
    {
      "cell_type": "markdown",
      "source": [
        "###From The Internet Topology Zoo"
      ],
      "metadata": {
        "id": "vcD_sjI41aiv"
      }
    },
    {
      "cell_type": "code",
      "source": [
        "def read_graphml_from_url(url):\n",
        "    # Download the GraphML file\n",
        "    response = requests.get(url)\n",
        "    if response.status_code == 200:\n",
        "        # Parse the GraphML content using NetworkX\n",
        "        graphml_data = response.text\n",
        "        graphml_file = StringIO(graphml_data)\n",
        "        graph = nx.read_graphml(graphml_file)\n",
        "        return graph\n",
        "    else:\n",
        "        raise Exception(f\"Error downloading GraphML file. Status code: {response.status_code}\")"
      ],
      "metadata": {
        "id": "ICCyT6ozj56v"
      },
      "execution_count": 2,
      "outputs": []
    },
    {
      "cell_type": "code",
      "source": [
        "# Topology dataset\n",
        "att = \"https://raw.githubusercontent.com/pipoomm/topologyzoo/main/AttMpls.graphml\"      # (25 Nodes, 57 Edges)\n",
        "geant = \"https://raw.githubusercontent.com/pipoomm/topologyzoo/main/Geant2012.graphml\"  # (37 Nodes, 58 Edges)\n",
        "\n",
        "certnet = \"https://raw.githubusercontent.com/pipoomm/topologyzoo/main/Cernet.graphml\"   # Small network (37 Nodes, 55 Edges)\n",
        "tw = \"https://raw.githubusercontent.com/pipoomm/topologyzoo/main/Tw.graphml\"            # Medium network (76 Nodes, 118 Edges)\n",
        "colt = \"https://raw.githubusercontent.com/pipoomm/topologyzoo/main/Colt.graphml\"        # Large network (149 Node, 178 Edges)\n",
        "\n",
        "# Load GraphML file\n",
        "G = read_graphml_from_url(geant)"
      ],
      "metadata": {
        "id": "v2qow5pYldIM"
      },
      "execution_count": 3,
      "outputs": []
    },
    {
      "cell_type": "code",
      "source": [
        "# Remove nodes without 'Latitude' or 'Longitude' attributes\n",
        "nodes_to_remove = [n for n, d in G.nodes(data=True) if 'Latitude' not in d or 'Longitude' not in d]\n",
        "G.remove_nodes_from(nodes_to_remove)\n",
        "\n",
        "# Remove isolated nodes\n",
        "isolated_nodes = list(nx.isolates(G))\n",
        "G.remove_nodes_from(isolated_nodes)"
      ],
      "metadata": {
        "id": "zq8NMWR2-BGR"
      },
      "execution_count": 4,
      "outputs": []
    },
    {
      "cell_type": "markdown",
      "source": [
        "### Attribute added and graph virtualization"
      ],
      "metadata": {
        "id": "AzFWXoKj1f7C"
      }
    },
    {
      "cell_type": "code",
      "source": [
        "# Set the initial role of all nodes to \"none\"\n",
        "roles = {}\n",
        "for n in G.nodes():\n",
        "    roles[n] = \"none\""
      ],
      "metadata": {
        "id": "2xzluSk1GcYD"
      },
      "execution_count": null,
      "outputs": []
    },
    {
      "cell_type": "code",
      "source": [
        "amount_of_controller = 0\n",
        "amount_of_switch = 0\n",
        "# Repeatedly identify \"controller\" and \"switch\" nodes until all nodes are defined\n",
        "while \"none\" in roles.values():\n",
        "    # Select the node with the highest number of connected neighbors and no role assigned\n",
        "    candidates = [n for n in G.nodes() if roles[n] == \"none\"]\n",
        "    node_degrees = [(n, G.degree(n)) for n in candidates]\n",
        "    node_degrees.sort(key=lambda x: (-x[1], x[0]))\n",
        "    node_i = node_degrees[0][0]\n",
        "\n",
        "    # Assign the \"controller\" role to node i\n",
        "    roles[node_i] = \"controller\"\n",
        "    amount_of_controller += 1\n",
        "\n",
        "    # Assign the \"switch\" role to all 1-hop connected nodes (neighbors) of node i with no role assigned\n",
        "    for neighbor in G.neighbors(node_i):\n",
        "        if roles[neighbor] == \"none\":\n",
        "            roles[neighbor] = \"switch\"\n",
        "            amount_of_switch += 1\n",
        "            \n",
        "# Set the role attribute for each node\n",
        "nx.set_node_attributes(G, roles, \"role\")\n",
        "print(f'Amount of controller: {amount_of_controller}\\nAmount of switch: {amount_of_switch}\\nTotal: {amount_of_controller+amount_of_switch}')"
      ],
      "metadata": {
        "id": "krWD-ZAKJKsH",
        "colab": {
          "base_uri": "https://localhost:8080/"
        },
        "outputId": "f0be9d8f-a531-4ce5-918e-ef43e2b873eb"
      },
      "execution_count": null,
      "outputs": [
        {
          "output_type": "stream",
          "name": "stdout",
          "text": [
            "Amount of controller: 11\n",
            "Amount of switch: 26\n",
            "Total: 37\n"
          ]
        }
      ]
    },
    {
      "cell_type": "code",
      "source": [
        "num_edges = G.number_of_edges()\n",
        "print(\"Number of edges in the graph:\", num_edges)"
      ],
      "metadata": {
        "id": "eL20CV_oM2e1"
      },
      "execution_count": null,
      "outputs": []
    },
    {
      "cell_type": "code",
      "source": [
        "# Print the node roles\n",
        "for n, r in nx.get_node_attributes(G, \"role\").items():\n",
        "    print(f\"Node {n} is a {r}\")"
      ],
      "metadata": {
        "id": "NbAdveNRG0r4"
      },
      "execution_count": null,
      "outputs": []
    },
    {
      "cell_type": "code",
      "source": [
        "for n, data in G.nodes(data=True):\n",
        "    print(f\"Node {n}: {data}\")"
      ],
      "metadata": {
        "id": "_M_vk95SG6ul"
      },
      "execution_count": null,
      "outputs": []
    },
    {
      "cell_type": "code",
      "source": [
        "[n for n in G.neighbors('0')]"
      ],
      "metadata": {
        "id": "OnNGOkdnJ9Io"
      },
      "execution_count": null,
      "outputs": []
    },
    {
      "cell_type": "code",
      "source": [
        "node_positions = {}\n",
        "for node in G.nodes():\n",
        "  label = G.nodes[node]['id']\n",
        "  node_positions[node] = (G.nodes[node]['Longitude'], G.nodes[node]['Latitude'])\n",
        "\n",
        "# Define node colors based on their roles (controller: blue, switch: green)\n",
        "node_colors = {\"controller\": \"#3f84e5\", \"switch\": \"#84e296\"}\n",
        "\n",
        "# Draw the graph with node colors\n",
        "nx.draw(G, node_color=[node_colors[G.nodes[n][\"role\"]] for n in G.nodes()], pos=node_positions, labels={node: G.nodes[node]['label'] for node in G.nodes()},with_labels=True,node_size=100, font_size=9)\n",
        "\n",
        "# Show the plot\n",
        "plt.show()"
      ],
      "metadata": {
        "id": "nPrrHYO0Ball",
        "colab": {
          "base_uri": "https://localhost:8080/",
          "height": 516
        },
        "outputId": "90543375-00cd-4838-e5ae-f2f6ac665896"
      },
      "execution_count": null,
      "outputs": [
        {
          "output_type": "display_data",
          "data": {
            "text/plain": [
              "<Figure size 640x480 with 1 Axes>"
            ],
            "image/png": "[encoded data removed]"
          },
          "metadata": {}
        }
      ]
    },
    {
      "cell_type": "code",
      "source": [],
      "metadata": {
        "id": "ibQbiuH9x0Kj"
      },
      "execution_count": null,
      "outputs": []
    },
    {
      "cell_type": "markdown",
      "source": [
        "### Stage 1 - Matching switch wth nearest controller"
      ],
      "metadata": {
        "id": "UBNphsn1mgjv"
      }
    },
    {
      "cell_type": "code",
      "source": [
        "def haversine_distance(u, v):\n",
        "    lat1, lon1 = G.nodes[u]['Latitude'], G.nodes[u]['Longitude']\n",
        "    lat2, lon2 = G.nodes[v]['Latitude'], G.nodes[v]['Longitude']\n",
        "    \n",
        "    R = 6371  # Earth's radius in kilometers\n",
        "    \n",
        "    dlat = math.radians(lat2 - lat1)\n",
        "    dlon = math.radians(lon2 - lon1)\n",
        "    \n",
        "    a = (math.sin(dlat / 2) * math.sin(dlat / 2) +\n",
        "         math.cos(math.radians(lat1)) * math.cos(math.radians(lat2)) *\n",
        "         math.sin(dlon / 2) * math.sin(dlon / 2))\n",
        "    \n",
        "    c = 2 * math.atan2(math.sqrt(a), math.sqrt(1 - a))\n",
        "    distance = R * c\n",
        "    return distance"
      ],
      "metadata": {
        "id": "XS8s4vyXaycq"
      },
      "execution_count": null,
      "outputs": []
    },
    {
      "cell_type": "code",
      "source": [
        "# Step 4: Set `selected_con` attribute for switch nodes\n",
        "def setSelectedCon():\n",
        "  candidate_controllers = [n for n, d in G.nodes(data=True) if d['role'] == \"controller\"]\n",
        "  global switch_to_controller_list\n",
        "  switch_to_controller_list = [] \n",
        "  for node_id in G.nodes():\n",
        "    if G.nodes[node_id]['role'] == 'switch':\n",
        "      hop_counts = []\n",
        "      for con in candidate_controllers:\n",
        "        path = nx.astar_path(G, source=node_id, target=con, heuristic=haversine_distance)\n",
        "        hop_count = len(path) - 1\n",
        "        hop_counts.append([con, hop_count, 0])\n",
        "      sorted_hops = sorted(hop_counts, key=lambda x: (x[1]), reverse=False)\n",
        "      G.nodes[node_id]['selected_con'] = sorted_hops[0][0]\n",
        "      switch_to_controller_list.append([node_id,0]+sorted_hops)\n",
        "\n",
        "setSelectedCon()"
      ],
      "metadata": {
        "id": "lF3CbIJjOfps"
      },
      "execution_count": null,
      "outputs": []
    },
    {
      "cell_type": "code",
      "source": [
        "switch_to_controller_list"
      ],
      "metadata": {
        "id": "2pGL0h_WOg7U"
      },
      "execution_count": null,
      "outputs": []
    },
    {
      "cell_type": "code",
      "source": [
        "def printSwitchController():\n",
        "    # Find controlled switches for each controller node\n",
        "    controllers = {node_id: [] for node_id in G.nodes() if G.nodes[node_id]['role'] == 'controller'}\n",
        "    switches = {node_id: G.nodes[node_id][\"selected_con\"] for node_id in G.nodes() if G.nodes[node_id]['role'] == 'switch'}\n",
        "    controlled_switches = {controller: [switch for switch, selected_con in switches.items() if selected_con == controller] for controller in controllers}\n",
        "\n",
        "    # Print the list of controlled switches for each controller node\n",
        "    # Create a list to store the table rows\n",
        "    table_rows = []\n",
        "\n",
        "    # Iterate over the controlled switches for each controller node\n",
        "    for controller_id, switches in controlled_switches.items():\n",
        "        # Combine the switch IDs into a single string separated by commas\n",
        "        switch_list = ', '.join(switch_id for switch_id in switches)\n",
        "        \n",
        "        # Add a row to the table with the controller ID and the combined switch list\n",
        "        table_rows.append([controller_id, switch_list])\n",
        "\n",
        "    # Define the table headers\n",
        "    headers = [\"Controller node\", \"Switch nodes\"]\n",
        "\n",
        "    # Print the table using tabulate\n",
        "    print(tabulate(table_rows, headers=headers))"
      ],
      "metadata": {
        "id": "hZ0YtusXgzZb"
      },
      "execution_count": null,
      "outputs": []
    },
    {
      "cell_type": "code",
      "source": [
        "printSwitchController()"
      ],
      "metadata": {
        "id": "Y8DK2zDYTIa4"
      },
      "execution_count": null,
      "outputs": []
    },
    {
      "cell_type": "code",
      "source": [
        "def findHopcount(switch_source, controller_dest):\n",
        "    matching_switch = next((item for item in switch_to_controller_list if item[0] == switch_source), None)\n",
        "\n",
        "    if matching_switch:\n",
        "        hop_count = next((j[1] for j in matching_switch[2:] if j[0] == controller_dest), None)\n",
        "        return hop_count\n",
        "\n",
        "    return None"
      ],
      "metadata": {
        "id": "7jNv3Zovr6o5"
      },
      "execution_count": null,
      "outputs": []
    },
    {
      "cell_type": "code",
      "source": [
        "setSelectedCon()"
      ],
      "metadata": {
        "id": "tN5Jvjsb-7E6"
      },
      "execution_count": null,
      "outputs": []
    },
    {
      "cell_type": "markdown",
      "source": [
        "# Update controller and switch (Stage 2 - Load balancing for overload controller)\n",
        "\n"
      ],
      "metadata": {
        "id": "JlXsSTg0mUTH"
      }
    },
    {
      "cell_type": "code",
      "source": [
        "def findSwitchtoMigrateList():\n",
        "  #List of ovelload controlller and swich that need to do migation list\n",
        "  switches_to_migrate = {}\n",
        "  overloaded_controllers = [node for node in G.nodes() if G.nodes[node]['role'] == 'controller' and controller_loads[node] > (capacity)]\n",
        "  for node in G.nodes():\n",
        "    if G.nodes[node]['role'] == 'switch' and G.nodes[node]['selected_con'] in overloaded_controllers:\n",
        "      overloaded_controller = G.nodes[node]['selected_con']\n",
        "      if overloaded_controller not in switches_to_migrate:\n",
        "        switches_to_migrate[overloaded_controller] = []\n",
        "      switches_to_migrate[overloaded_controller].append([node,packet_amount[node]])\n",
        "      # switches_to_migrate[node] = packet_amount[node]\n",
        "  \n",
        "  # Sort the keys of switches_to_migrate based on the values in controller_loads\n",
        "  sorted_keys = sorted(switches_to_migrate.keys(), key=lambda x: controller_loads[x], reverse=True)\n",
        "\n",
        "  # Reconstruct the switches_to_migrate dictionary using the sorted keys\n",
        "  sorted_switches_to_migrate = {key: switches_to_migrate[key] for key in sorted_keys}\n",
        "  \n",
        "  return(sorted_switches_to_migrate)\n",
        "# {'Overload ControllerID : [['SwitchID','Switch load'], ['SwitchID','Switch load'] ]'}"
      ],
      "metadata": {
        "id": "iwtyMfux2SDm"
      },
      "execution_count": null,
      "outputs": []
    },
    {
      "cell_type": "code",
      "source": [
        "def findCandidateControllerList(switches_to_migrate):\n",
        "    # Find new candidate controllers for overloaded controllers\n",
        "    switch_to_candidate_controller = []\n",
        "    \n",
        "    for overload_controller, switches in switches_to_migrate.items():\n",
        "        candidate_controllers = []\n",
        "        \n",
        "        for switch, load in switches:\n",
        "            selected_con = overload_controller\n",
        "            conlist = next((item for item in switch_to_controller_list if item[0] == switch), None)\n",
        "            \n",
        "            if conlist:\n",
        "                hop_count = [\n",
        "                    [con[0], con[1], capacity - controller_loads[con[0]]] for con in conlist[2:]\n",
        "                    if con[0] != selected_con and controller_loads[con[0]] < capacity\n",
        "                ]\n",
        "                \n",
        "                sorted_hop_count = sorted(hop_count, key=lambda x: (x[1], -x[2]))\n",
        "                switch_to_candidate_controller.append([switch, load] + sorted_hop_count)\n",
        "    \n",
        "    return switch_to_candidate_controller\n",
        "# ['SwitchID', 'Switch load', ['Dest.ControllerID', 'Hop count from switch to controller', 'Controller capacity left']]"
      ],
      "metadata": {
        "id": "X3gGykuJqVDP"
      },
      "execution_count": null,
      "outputs": []
    },
    {
      "cell_type": "code",
      "source": [
        "switch_to_candidate_controller = findCandidateControllerList(switches_to_migrate)\n",
        "# Show candidate controller list of switch that connected with overload controller\n",
        "for i in switch_to_candidate_controller:\n",
        "    print(f\"Switch {i[0]} ({i[1]} pps) can migrate to the following controllers:\")\n",
        "    \n",
        "    # Create a list of dictionaries for tabulate\n",
        "    data = [\n",
        "        {\"Controller\": con[0], \"Hop count\": con[1], \"Capacity left\": con[2]} for con in i[2:]\n",
        "    ]\n",
        "    \n",
        "    # Print the table\n",
        "    print(tabulate(data, headers=\"keys\"))\n",
        "    print()"
      ],
      "metadata": {
        "id": "HsTJe1WgzWqH"
      },
      "execution_count": null,
      "outputs": []
    },
    {
      "cell_type": "markdown",
      "source": [
        "## Min-Knapsack"
      ],
      "metadata": {
        "id": "tMx6317XZ2aq"
      }
    },
    {
      "cell_type": "markdown",
      "source": [
        "### By sorting lowest delta_E"
      ],
      "metadata": {
        "id": "bV4vHeo6DRt0"
      }
    },
    {
      "cell_type": "code",
      "source": [
        "def min_knapsack2_mod(switches_to_migrate, capacity):\n",
        "    # Calculate the target load for each overloaded controller (weight of knapsack)\n",
        "    target_loads = {overloaded_controller: controller_loads[overloaded_controller] - (0.9 * capacity) for overloaded_controller in switches_to_migrate}\n",
        "    print(f'target_loads: {target_loads}')\n",
        "\n",
        "    # Initialize the result dictionary that `min_knapsack2` will return as an output of this function\n",
        "    delta_E_per_controller = {}\n",
        "\n",
        "    for overloaded_controllers in switches_to_migrate:\n",
        "      x1 = []\n",
        "      switches = {switch[0]: switch[1] for switch in switches_to_migrate[overloaded_controllers]}\n",
        "      switch_to_candidate_controller = findCandidateControllerList(switches_to_migrate)\n",
        "\n",
        "      for switch, load in switches.items():\n",
        "        # Find the corresponding candidate controllers list for this switch\n",
        "        controller_candidates = [ candidate for item in switch_to_candidate_controller if item[0] == switch and overloaded_controllers == G.nodes[switch][\"selected_con\"] for candidate in item[2:] if candidate[2] >= load]\n",
        "        # Calculate delta_E for each candidate controller\n",
        "        delta_Es = [[switch, candidate[0], load * (candidate[1] - findHopcount(switch_source=switch, controller_dest=overloaded_controllers))] for candidate in controller_candidates]\n",
        "        if delta_Es:\n",
        "          min_element = min(delta_Es, key=lambda x: x[2])\n",
        "          result = [min_element]\n",
        "          x1.append(result)\n",
        "      x1 = sorted(x1, key=lambda x: min(sublist[2] for sublist in x))\n",
        "      print(f'from con{overloaded_controllers}: {x1}')\n",
        "\n",
        "      x2 = []\n",
        "      controller_load_update = {}\n",
        "      total_loads = 0\n",
        "      for sublist in x1:\n",
        "        passed_condition = True\n",
        "        new_total_loads = total_loads\n",
        "        for switch, con, delta_E in sublist:\n",
        "          passed_condition = True\n",
        "          new_total_loads = total_loads\n",
        "          for switch, con, delta_E in sublist:\n",
        "            if switch in switches and new_total_loads < target_loads[overloaded_controllers]:\n",
        "                new_total_loads += switches[switch]\n",
        "                load = switches[switch]\n",
        "                if con in controller_load_update:\n",
        "                    controller_load_update[con] += load\n",
        "                else:\n",
        "                    controller_load_update[con] = load\n",
        "            else:\n",
        "                passed_condition = False\n",
        "                break\n",
        "          \n",
        "          if passed_condition:\n",
        "              x2.append(sublist)\n",
        "              total_loads = new_total_loads\n",
        "\n",
        "      # Update controller load before going next overload controller \n",
        "      controller_loads[overloaded_controllers] -= total_loads\n",
        "      for key in controller_load_update:\n",
        "        controller_loads[key] += controller_load_update[key]\n",
        "\n",
        "      if overloaded_controllers in delta_E_per_controller:\n",
        "          delta_E_per_controller[overloaded_controllers].append(x2)\n",
        "      else:\n",
        "          delta_E_per_controller[overloaded_controllers] = x2\n",
        "    \n",
        "    return delta_E_per_controller"
      ],
      "metadata": {
        "id": "pTi9fCa-yDxf"
      },
      "execution_count": null,
      "outputs": []
    },
    {
      "cell_type": "code",
      "source": [
        "result = min_knapsack2_mod(switches_to_migrate, capacity)\n",
        "result"
      ],
      "metadata": {
        "id": "7S-0mNMvyKav",
        "colab": {
          "base_uri": "https://localhost:8080/"
        },
        "outputId": "b005215f-b831-4f2b-deb0-91584757fa61"
      },
      "execution_count": null,
      "outputs": [
        {
          "output_type": "stream",
          "name": "stdout",
          "text": [
            "target_loads: {'13': 1111.0, '2': 1042.0, '7': 1013.0, '18': 338.0, '1': 255.0, '14': 181.0}\n",
            "from con13: [[['12', '24', 0]], [['22', '24', 0]], [['8', '24', 772]]]\n",
            "from con2: [[['15', '19', 376]], [['16', '19', 432]], [['9', '19', 710]]]\n",
            "from con7: []\n",
            "from con18: []\n",
            "from con1: []\n",
            "from con14: []\n"
          ]
        },
        {
          "output_type": "execute_result",
          "data": {
            "text/plain": [
              "{'13': [[['12', '24', 0]], [['22', '24', 0]], [['8', '24', 772]]],\n",
              " '2': [[['15', '19', 376]], [['16', '19', 432]], [['9', '19', 710]]],\n",
              " '7': [],\n",
              " '18': [],\n",
              " '1': [],\n",
              " '14': []}"
            ]
          },
          "metadata": {},
          "execution_count": 63
        }
      ]
    },
    {
      "cell_type": "markdown",
      "source": [
        "### sim"
      ],
      "metadata": {
        "id": "um_DaevYzI0J"
      }
    },
    {
      "cell_type": "markdown",
      "source": [
        "OpCon is a term used to describe the ratio of the number of switches to the number of controllers in a network topology. For example, if a network has 10 switches and 2 controllers, the OpCon value would be 5. [GreCo](https://ieeexplore.ieee.org/document/7017522)"
      ],
      "metadata": {
        "id": "gFDdTvs01SRg"
      }
    },
    {
      "cell_type": "code",
      "source": [
        "# Define the packet handling capacity for controllers (10^6 packets/second)\n",
        "capacity = 600000\n",
        "\n",
        "# Find all controller nodes\n",
        "controllers = [n for n, d in G.nodes(data=True) if d['role'] == \"controller\"]\n",
        "\n",
        "# Dictionary to keep track of controller loads\n",
        "controller_loads = {c: 0 for c in controllers}\n",
        "\n",
        "seed = 650631030  # seed value for reproducibility\n",
        "random.seed(seed)\n",
        "\n",
        "packet_rate = [15500,31500,47500]    # average rate or expected value\n",
        "\n",
        "size = amount_of_switch  # number of switch\n",
        "packet_size = {}\n",
        "p = 1\n",
        "for t in range(65):\n",
        "    # Creating a random number generator with a fixed seed\n",
        "    rng = np.random.default_rng(seed)\n",
        "    seed += seed\n",
        "    if t % 5 == 0:\n",
        "      print(f'{\"-\"*50} Period {p} {\"-\"*50}')\n",
        "      p += 1\n",
        "      lamb = random.choices(packet_rate, k=size)\n",
        "    # Generating values from a Poisson distribution using the seeded generator\n",
        "    packet_size[t] = rng.poisson(lam=lamb)\n",
        "    print(f'Generated Poisson samples with fixed seed t={t}: {packet_size[t]}')"
      ],
      "metadata": {
        "id": "dyLw9leXzLE7"
      },
      "execution_count": null,
      "outputs": []
    },
    {
      "cell_type": "code",
      "source": [
        "for i in packet_size:\n",
        "  print(f'{packet_size[i][1]}',end = \", \")"
      ],
      "metadata": {
        "id": "fDc6Eq3oEhHn",
        "colab": {
          "base_uri": "https://localhost:8080/"
        },
        "outputId": "2135588a-6f98-4600-a483-93454511ad7e"
      },
      "execution_count": null,
      "outputs": [
        {
          "output_type": "stream",
          "name": "stdout",
          "text": [
            "31280, 31432, 31274, 31121, 31732, 47733, 47610, 47480, 47877, 47415, 31335, 31560, 31580, 31578, 31522, 15624, 15511, 15612, 15611, 15548, 47540, 47365, 47314, 47504, 47626, 47674, 47345, 47456, 47282, 47412, 31201, 31253, 31761, 31542, 31573, 31495, 31377, 31512, 31456, 31895, 47472, 47488, 47530, 47733, 48078, 47136, 47612, 47792, 47443, 47505, 15523, 15552, 15302, 15484, 15424, 31508, 31453, 31766, 31489, 31733, 15498, 15551, 15677, 15412, 15571, "
          ]
        }
      ]
    },
    {
      "cell_type": "code",
      "source": [
        "# Simulate packet generation and handling for a given number of seconds (e.g. 10 seconds)\n",
        "sim_time = 65\n",
        "packet_amount = {}\n",
        "setSelectedCon()\n",
        "for i in range(sim_time):\n",
        "    # Update controller load every 5 second\n",
        "    if i != 0 and i % 5 == 0:\n",
        "        print()\n",
        "        print(\"Controller loads at\", i, \"seconds:\")\n",
        "        print(f\"Controller capacity: {capacity} Threshold: 60% ({0.6*capacity})\",end='\\n\\n')\n",
        "        for node in G.nodes():\n",
        "            if G.nodes[node]['role'] == 'controller':\n",
        "                print(f\"Controller {node} load: {controller_loads[node]} pps\")\n",
        "                if controller_loads[node] > (capacity):\n",
        "                  print(f\"Controller {node} is overloaded!\")\n",
        "            else:\n",
        "                print(f'SW {node} load:{packet_amount[node]}')\n",
        "                packet_amount[node] = 0\n",
        "        controller_loads = {c: 0 for c in controllers}\n",
        "        print()\n",
        "\n",
        "    # Generate packets for each switch and send to its selected controller\n",
        "    k = 0\n",
        "    for node in G.nodes():\n",
        "        if G.nodes[node]['role'] == 'switch':\n",
        "            selected_con = G.nodes[node]['selected_con']\n",
        "            packet_count = packet_size[i][k]\n",
        "            k += 1\n",
        "\n",
        "            if node in packet_amount:\n",
        "                packet_amount[node] += packet_count\n",
        "            else:\n",
        "                packet_amount[node] = packet_count\n",
        "            \n",
        "            controller_loads[selected_con] += packet_count\n",
        "            print(f\"Switch {node} generated {packet_count} packets and sent to controller {selected_con}\")\n",
        "    print(f'{\"*\"*5} Finish round {i}. {\"*\"*5}\\n')\n",
        "    "
      ],
      "metadata": {
        "id": "EjsCQaEkzUb0"
      },
      "execution_count": null,
      "outputs": []
    },
    {
      "cell_type": "code",
      "source": [
        "switches_to_migrate = findSwitchtoMigrateList()\n",
        "switch_to_candidate_controller = findCandidateControllerList(switches_to_migrate)"
      ],
      "metadata": {
        "id": "OoTzb9_izd8F"
      },
      "execution_count": null,
      "outputs": []
    },
    {
      "cell_type": "markdown",
      "source": [
        "### By using min-knapsack soving algorithm (**dynamic programming** approach)"
      ],
      "metadata": {
        "id": "eA7BxkntdMTR"
      }
    },
    {
      "cell_type": "code",
      "source": [
        "def min_knapsack_GPT(target_weight, items):\n",
        "    # Get the number of items\n",
        "    n = len(items)\n",
        "\n",
        "    print(f'target_weight: {target_weight}, items{items}')\n",
        "    \n",
        "    # Calculate the maximum possible weight and initialize the dynamic programming table\n",
        "    sum_total_weight = 0\n",
        "    for x in items:\n",
        "      sum_total_weight += x[1]\n",
        "      if sum_total_weight >= target_weight:\n",
        "        break\n",
        "    \n",
        "    init_max_weight = int(sum_total_weight) + 1\n",
        "\n",
        "    print(f'init_max_weight: {init_max_weight}')\n",
        "\n",
        "    dp = [[float('inf')] * init_max_weight for _ in range(n + 1)]\n",
        "\n",
        "    # Initialize the first column of the table with 0\n",
        "    for i in range(n + 1):\n",
        "        dp[i][0] = 0\n",
        "\n",
        "    # Iterate through the items and fill in the dynamic programming table\n",
        "    for i in range(1, n + 1):\n",
        "        weight, value = items[i - 1][1], items[i - 1][3]\n",
        "\n",
        "        # weight = weight.astype(np.int64)\n",
        "        # value = value.astype(np.int64)\n",
        "\n",
        "        for j in range(init_max_weight):\n",
        "            if weight <= j:\n",
        "                # If the item can be included, find the minimum value with or without the item\n",
        "                dp[i][j] = min(dp[i - 1][j], dp[i - 1][j - weight] + value)\n",
        "            else:\n",
        "                # If the item cannot be included, the value remains the same as the previous row\n",
        "                dp[i][j] = dp[i - 1][j]\n",
        "\n",
        "    # Find the minimum value for the target weight or greater\n",
        "    min_value = float('inf')\n",
        "    min_weight = -1\n",
        "\n",
        "    # Loop over each possible weight of the knapsack, starting from 0, and extract the corresponding minimum value from the last row of the dp list\n",
        "    for weight, value in enumerate(dp[n][target_weight:], start=target_weight):\n",
        "        if value < min_value:\n",
        "            min_value = value\n",
        "            min_weight = weight\n",
        "\n",
        "    # If there is no solution, return -1 and an empty list\n",
        "    if min_value == float('inf'):\n",
        "        return -1, []\n",
        "\n",
        "    # Backtrack through the dynamic programming table to find the selected items\n",
        "    selected_items = []\n",
        "    i, j = n, min_weight\n",
        "    while i > 0 and j > 0:\n",
        "        if dp[i][j] != dp[i - 1][j]:\n",
        "            selected_items.append([items[i - 1][0],items[i - 1][2],items[i - 1][3]])\n",
        "            j -= items[i - 1][1]\n",
        "        i -= 1\n",
        "\n",
        "    # Return the minimum value and the selected items    \n",
        "    return min_value, selected_items, min_weight"
      ],
      "metadata": {
        "id": "XMWWVvBkY2Ez"
      },
      "execution_count": null,
      "outputs": []
    },
    {
      "cell_type": "code",
      "source": [
        "def min_knapsack3_dp(switches_to_migrate, capacity):\n",
        "    # Calculate the target load for each overloaded controller (weight of knapsack)\n",
        "    target_loads = {overloaded_controller: controller_loads[overloaded_controller] - (1 * capacity) for overloaded_controller in switches_to_migrate}\n",
        "    print(f'target_loads: {target_loads}')\n",
        "\n",
        "    # Initialize the result dictionary that `min_knapsack2` will return as an output of this function\n",
        "    delta_E_per_controller = {}\n",
        "\n",
        "    for overloaded_controllers in switches_to_migrate:\n",
        "      x1 = []\n",
        "      controller_candidates = []\n",
        "      switches = {switch[0]: switch[1] for switch in switches_to_migrate[overloaded_controllers]}\n",
        "      switch_to_candidate_controller = findCandidateControllerList(switches_to_migrate)\n",
        "\n",
        "      for switch, load in switches.items():\n",
        "        # Find the corresponding candidate controllers list for this switch\n",
        "        controller_candidates = [ candidate for item in switch_to_candidate_controller if item[0] == switch and overloaded_controllers == G.nodes[switch][\"selected_con\"] for candidate in item[2:] if candidate[2] >= load]\n",
        "        \n",
        "        # Calculate delta_E for each candidate controller\n",
        "        delta_Es = [[switch, load, candidate[0], load * (candidate[1] - findHopcount(switch_source=switch, controller_dest=overloaded_controllers))] for candidate in controller_candidates]\n",
        "        # Select pairs of switch and controller with highest capacity controller left and lowest delta_E of each switch to filtered out of duplicate switch\n",
        "        \n",
        "        if delta_Es:\n",
        "          min_element = min(delta_Es, key=lambda x: x[3])\n",
        "          result = min_element\n",
        "          x1.append(result)\n",
        "      sorted_x1 = sorted(x1, key=lambda sublist: sublist[3])\n",
        "      result_x1, x1, total_loads = min_knapsack_GPT(target_loads[overloaded_controllers], sorted_x1)\n",
        "      print(f'Selected it: {x1}')\n",
        "      print(f\"Minimum value (sum delta_E): {result_x1}\")\n",
        "      print(f\"Weight (sum switches load): {total_loads}\")\n",
        "\n",
        "      controller_load_update = {}\n",
        "      for switch, con, delta_E in x1:\n",
        "        load = switches[switch]\n",
        "        if con in controller_load_update:\n",
        "            controller_load_update[con] += load\n",
        "        else:\n",
        "            controller_load_update[con] = load\n",
        "      # Update controller load before going next overload controller \n",
        "      controller_loads[overloaded_controllers] -= total_loads\n",
        "      for key in controller_load_update:\n",
        "        controller_loads[key] += controller_load_update[key]\n",
        "      \n",
        "      if overloaded_controllers in delta_E_per_controller:\n",
        "          delta_E_per_controller[overloaded_controllers].append(x1)\n",
        "      else:\n",
        "          delta_E_per_controller[overloaded_controllers] = x1\n",
        "\n",
        "    return delta_E_per_controller"
      ],
      "metadata": {
        "id": "Tx8yVo5WdRfi"
      },
      "execution_count": null,
      "outputs": []
    },
    {
      "cell_type": "code",
      "source": [
        "result2 = min_knapsack3_dp(switches_to_migrate, capacity)\n",
        "print(result2)"
      ],
      "metadata": {
        "id": "ExP73tlSdixf"
      },
      "execution_count": null,
      "outputs": []
    },
    {
      "cell_type": "markdown",
      "source": [
        "### By using min-knapsack soving algorithm (**greedy** approach)"
      ],
      "metadata": {
        "id": "PtTCyzQg0cHP"
      }
    },
    {
      "cell_type": "code",
      "source": [
        "def min_knapsack_GPT2(target_weight, items):\n",
        "    print(f'target_weight: {target_weight}, items{items}')\n",
        "    n = len(items)\n",
        "    ratios = [(items[i][3]/items[i][1], items[i][1], items[i][3], i) for i in range(n)]\n",
        "    ratios.sort()\n",
        "    total_weight = 0\n",
        "    total_value = 0\n",
        "    knapsack = []\n",
        "    for i in range(n):\n",
        "        if total_weight + ratios[i][1] <= target_weight:\n",
        "            total_weight += ratios[i][1]\n",
        "            total_value += ratios[i][2]\n",
        "            knapsack.append(ratios[i][3])\n",
        "        else:\n",
        "            break\n",
        "    while total_weight < target_weight:\n",
        "        total_weight += ratios[i][1]\n",
        "        total_value += ratios[i][2]\n",
        "        knapsack.append(ratios[i][3])\n",
        "    knapsack_items = [[items[i][0], items[i][2], items[i][3]] for i in knapsack]\n",
        "\n",
        "    return total_value, total_weight, knapsack_items"
      ],
      "metadata": {
        "id": "DUqnFmi60htW"
      },
      "execution_count": null,
      "outputs": []
    },
    {
      "cell_type": "code",
      "source": [
        "def min_knapsack3_gd(switches_to_migrate, capacity):\n",
        "    # Calculate the target load for each overloaded controller (weight of knapsack)\n",
        "    target_loads = {overloaded_controller: controller_loads[overloaded_controller] - (1* capacity) for overloaded_controller in switches_to_migrate}\n",
        "    print(f'target_loads: {target_loads}')\n",
        "\n",
        "    # Initialize the result dictionary that `min_knapsack2` will return as an output of this function\n",
        "    delta_E_per_controller = {}\n",
        "\n",
        "    for overloaded_controllers in switches_to_migrate:\n",
        "      x1 = []\n",
        "      switches = {switch[0]: switch[1] for switch in switches_to_migrate[overloaded_controllers]}\n",
        "      switch_to_candidate_controller = findCandidateControllerList(switches_to_migrate)\n",
        "\n",
        "      for switch, load in switches.items():\n",
        "        # Find the corresponding candidate controllers list for this switch\n",
        "        controller_candidates = [ candidate for item in switch_to_candidate_controller if item[0] == switch and overloaded_controllers == G.nodes[switch][\"selected_con\"] for candidate in item[2:] if candidate[2] >= load]\n",
        "        # Calculate delta_E for each candidate controller\n",
        "        delta_Es = [[switch, load, candidate[0], load * (candidate[1] - findHopcount(switch_source=switch, controller_dest=overloaded_controllers))] for candidate in controller_candidates]\n",
        "        # Select pairs of switch and controller with highest capacity controller left and lowest delta_E of each switch to filtered out of duplicate switch\n",
        "        if delta_Es:\n",
        "          min_element = min(delta_Es, key=lambda x: x[3])\n",
        "          result = min_element\n",
        "          x1.append(result)\n",
        "      result_x1, total_loads, x1 = min_knapsack_GPT2(target_loads[overloaded_controllers], x1)\n",
        "\n",
        "      print(\"Minimum cost:\", result_x1)\n",
        "      print(\"Total weight of the knapsack:\", total_loads)\n",
        "      print(\"Selected items:\", x1)\n",
        "\n",
        "      controller_load_update = {}\n",
        "      for switch, con, delta_E in x1:\n",
        "        load = switches[switch]\n",
        "        if con in controller_load_update:\n",
        "            controller_load_update[con] += load\n",
        "        else:\n",
        "            controller_load_update[con] = load\n",
        "      # Update controller load before going next overload controller \n",
        "      controller_loads[overloaded_controllers] -= total_loads\n",
        "      for key in controller_load_update:\n",
        "        controller_loads[key] += controller_load_update[key]\n",
        "\n",
        "      if overloaded_controllers in delta_E_per_controller:\n",
        "          delta_E_per_controller[overloaded_controllers].append(x1)\n",
        "      else:\n",
        "          delta_E_per_controller[overloaded_controllers] = x1\n",
        "\n",
        "    \n",
        "    return delta_E_per_controller"
      ],
      "metadata": {
        "id": "ZrNTAGFe0n4i"
      },
      "execution_count": null,
      "outputs": []
    },
    {
      "cell_type": "code",
      "source": [
        "result3 = min_knapsack3_gd(switches_to_migrate, capacity)\n",
        "result3"
      ],
      "metadata": {
        "id": "x0F0Os2u02o1"
      },
      "execution_count": null,
      "outputs": []
    },
    {
      "cell_type": "markdown",
      "source": [
        "### Greedy approach (Fill lowest hop item first)"
      ],
      "metadata": {
        "id": "7_VemJRFrcNp"
      }
    },
    {
      "cell_type": "code",
      "source": [
        "def lhf_gd(target_weight, items):\n",
        "  n = len(items)\n",
        "  total_weight = 0\n",
        "  items_list = [(items[i][1], i) for i in range(n)]\n",
        "\n",
        "  knapsack = []\n",
        "  knapsack_items = []\n",
        "\n",
        "  for i in range(n):\n",
        "      if total_weight + items_list[i][0] <= target_weight:\n",
        "          total_weight += items_list[i][0]\n",
        "          knapsack.append(items_list[i][1])\n",
        "      else:\n",
        "          break\n",
        "  while total_weight < target_weight:\n",
        "      total_weight += items_list[i][0]\n",
        "      knapsack.append(items_list[i][1])\n",
        "\n",
        "  knapsack_items = [[items[i][0], items[i][2], items[i][4]] for i in knapsack]\n",
        "\n",
        "  return total_weight, knapsack_items"
      ],
      "metadata": {
        "id": "c1QEVX0sy-oc"
      },
      "execution_count": null,
      "outputs": []
    },
    {
      "cell_type": "code",
      "source": [
        "def fill_lowest_gd(switches_to_migrate, capacity):\n",
        "    # Calculate the target load for each overloaded controller (weight of knapsack)\n",
        "    target_loads = {overloaded_controller: controller_loads[overloaded_controller] - (1* capacity) for overloaded_controller in switches_to_migrate}\n",
        "    print(f'target_loads: {target_loads}')\n",
        "\n",
        "    # Initialize the result dictionary that `min_knapsack2` will return as an output of this function\n",
        "    delta_E_per_controller = {}\n",
        "\n",
        "    for overloaded_controllers in switches_to_migrate:\n",
        "      x1 = []\n",
        "      switches = {switch[0]: switch[1] for switch in switches_to_migrate[overloaded_controllers]}\n",
        "      switch_to_candidate_controller = findCandidateControllerList(switches_to_migrate)\n",
        "\n",
        "      for switch, load in switches.items():\n",
        "        # Find the corresponding candidate controllers list for this switch\n",
        "        controller_candidates = [ candidate for item in switch_to_candidate_controller if item[0] == switch and overloaded_controllers == G.nodes[switch][\"selected_con\"] for candidate in item[2:] if candidate[2] >= load]\n",
        "        # Calculate delta_E for each candidate controller\n",
        "        hop_candidate_con = [[switch, load, candidate[0],candidate[1], (load * (candidate[1] - findHopcount(switch_source=switch, controller_dest=overloaded_controllers)))] for candidate in controller_candidates]\n",
        "        # Select pairs of switch and controller with highest capacity controller left and lowest delta_E of each switch to filtered out of duplicate switch\n",
        "        if hop_candidate_con:\n",
        "          min_element = min(hop_candidate_con, key=lambda x: x[3])\n",
        "          result = min_element\n",
        "          x1.append(result)\n",
        "      sorted_x1 = sorted(x1, key=lambda sublist: (sublist[3], sublist[1]))\n",
        "      load, x1 = lhf_gd(target_loads[overloaded_controllers], sorted_x1)\n",
        "\n",
        "      # print(\"Minimum cost:\", result_x1)\n",
        "      # print(\"Total weight of the knapsack:\", load)\n",
        "      # print(\"Selected items:\", x1)\n",
        "\n",
        "      controller_load_update = {}\n",
        "      for switch, con, delta_E in x1:\n",
        "        load = switches[switch]\n",
        "        if con in controller_load_update:\n",
        "            controller_load_update[con] += load\n",
        "        else:\n",
        "            controller_load_update[con] = load\n",
        "      # Update controller load before going next overload controller \n",
        "      controller_loads[overloaded_controllers] -= total_loads\n",
        "      for key in controller_load_update:\n",
        "        controller_loads[key] += controller_load_update[key]\n",
        "\n",
        "      if overloaded_controllers in delta_E_per_controller:\n",
        "          delta_E_per_controller[overloaded_controllers].append(x1)\n",
        "      else:\n",
        "          delta_E_per_controller[overloaded_controllers] = x1\n",
        "\n",
        "    \n",
        "    return delta_E_per_controller"
      ],
      "metadata": {
        "id": "3zAvY5PirpGK"
      },
      "execution_count": null,
      "outputs": []
    },
    {
      "cell_type": "code",
      "source": [
        "result3 = fill_lowest_gd(switches_to_migrate, capacity)\n",
        "result3"
      ],
      "metadata": {
        "id": "eyqRxR1Yrwmj"
      },
      "execution_count": null,
      "outputs": []
    },
    {
      "cell_type": "markdown",
      "source": [
        "## Print result"
      ],
      "metadata": {
        "id": "s43NIJKzGDqw"
      }
    },
    {
      "cell_type": "code",
      "source": [
        "def removeInnerlist(result):\n",
        "  for key in result:\n",
        "    result[key] = [item[0] for item in result[key]]\n",
        "  return result\n",
        "# result = removeInnerlist(result)"
      ],
      "metadata": {
        "id": "gpztL_B7GU0V"
      },
      "execution_count": null,
      "outputs": []
    },
    {
      "cell_type": "code",
      "source": [
        "result = removeInnerlist(result)"
      ],
      "metadata": {
        "id": "qHl5nKoQcdN5"
      },
      "execution_count": null,
      "outputs": []
    },
    {
      "cell_type": "code",
      "source": [
        "result"
      ],
      "metadata": {
        "colab": {
          "base_uri": "https://localhost:8080/"
        },
        "id": "tbXvr2cOGguh",
        "outputId": "054dc9d9-e133-4018-d9a9-ff1d3ef35625"
      },
      "execution_count": null,
      "outputs": [
        {
          "output_type": "execute_result",
          "data": {
            "text/plain": [
              "{'2': [['17', '18', 0], ['20', '19', 0], ['21', '18', 0], ['3', '7', 375]],\n",
              " '13': [['10', '14', 0], ['11', '14', 0]]}"
            ]
          },
          "metadata": {},
          "execution_count": 53
        }
      ]
    },
    {
      "cell_type": "code",
      "source": [
        "def printResult(result):\n",
        "  for controller, switches in result.items():\n",
        "    print(f\"From controller {controller}\")\n",
        "    table_data = []\n",
        "    for switch in switches:\n",
        "        table_data.append([switch[0], switch[1], switch[2]])\n",
        "    print(tabulate(table_data, headers=[\"Switch\", \"To Controller\", \"Delta_E\"]))\n",
        "    print()"
      ],
      "metadata": {
        "id": "y6RKOLGWGBev"
      },
      "execution_count": null,
      "outputs": []
    },
    {
      "cell_type": "code",
      "source": [
        "# Print result from `min_knapsack2_mod`\n",
        "printResult(result)"
      ],
      "metadata": {
        "id": "ckm6KGTnJie-"
      },
      "execution_count": null,
      "outputs": []
    },
    {
      "cell_type": "code",
      "source": [
        "# Print result from `min_knapsack3_dp`\n",
        "printResult(result2)"
      ],
      "metadata": {
        "id": "L36onHgjdivZ"
      },
      "execution_count": null,
      "outputs": []
    },
    {
      "cell_type": "markdown",
      "source": [
        "## Migrate"
      ],
      "metadata": {
        "id": "tzy5cUMlD5Yt"
      }
    },
    {
      "cell_type": "code",
      "source": [
        "def doMigrate(result):\n",
        "  count = 0\n",
        "  for switches in result.items():\n",
        "    for switch in switches[1:]:\n",
        "      for i in switch:\n",
        "        node_id = i[0]\n",
        "        G.nodes[node_id]['selected_con'] = i[1]\n",
        "        count += 1\n",
        "  return count"
      ],
      "metadata": {
        "id": "pjprUQy2D9N4"
      },
      "execution_count": null,
      "outputs": []
    },
    {
      "cell_type": "code",
      "source": [
        "doMigrate(result)"
      ],
      "metadata": {
        "id": "EdzEVtbYEdOd"
      },
      "execution_count": null,
      "outputs": []
    },
    {
      "cell_type": "code",
      "source": [
        "printSwitchController()"
      ],
      "metadata": {
        "id": "iHEq5T1OLFFT"
      },
      "execution_count": null,
      "outputs": []
    },
    {
      "cell_type": "markdown",
      "source": [
        "# Evaluate energy cost"
      ],
      "metadata": {
        "id": "ztu41av3ASiO"
      }
    },
    {
      "cell_type": "code",
      "source": [
        "def energycostCalculate(G):\n",
        "  hop_counts = 0\n",
        "  energycost_oneswitch = {}\n",
        "  total_energyconsume = 0\n",
        "  for node in G.nodes():\n",
        "    if G.nodes[node]['role'] == 'switch':\n",
        "      selected_con = G.nodes[node]['selected_con']\n",
        "      hop_counts = findHopcount(switch_source = node, controller_dest = selected_con)\n",
        "      energycost_oneswitch[node] = packet_amount[node] * hop_counts\n",
        "  \n",
        "  #Calculate energy cost from all switches by its load and hop counts to its controller\n",
        "  for switch, ec_oneswitch in energycost_oneswitch.items():\n",
        "      total_energyconsume += ec_oneswitch\n",
        "  \n",
        "  return total_energyconsume"
      ],
      "metadata": {
        "id": "-PGDMyXSTqq0"
      },
      "execution_count": null,
      "outputs": []
    },
    {
      "cell_type": "markdown",
      "source": [
        "# Simulation"
      ],
      "metadata": {
        "id": "I-fxN9u9mOaO"
      }
    },
    {
      "cell_type": "markdown",
      "source": [
        "## Dynamic Programming"
      ],
      "metadata": {
        "id": "-nY6xGzM_Ykb"
      }
    },
    {
      "cell_type": "code",
      "source": [
        "# Define the packet handling capacity for controllers (10^6 packets/second)\n",
        "capacity = 600000\n",
        "\n",
        "# Find all controller nodes\n",
        "controllers = [n for n, d in G.nodes(data=True) if d['role'] == \"controller\"]\n",
        "\n",
        "# Dictionary to keep track of controller loads\n",
        "controller_loads = {c: 0 for c in controllers}"
      ],
      "metadata": {
        "id": "Fu8ruj6D7zf2"
      },
      "execution_count": null,
      "outputs": []
    },
    {
      "cell_type": "code",
      "source": [
        "seed = 650631030  # seed value for reproducibility\n",
        "random.seed(seed)\n",
        "\n",
        "packet_rate = [15500,31500,47500]    # average rate or expected value\n",
        "\n",
        "size = amount_of_switch  # number of switch\n",
        "packet_size = {}\n",
        "p = 1\n",
        "for t in range(65):\n",
        "    # Creating a random number generator with a fixed seed\n",
        "    rng = np.random.default_rng(seed)\n",
        "    seed += seed\n",
        "    if t % 5 == 0:\n",
        "      # print(f'{\"-\"*50} Period {p} {\"-\"*50}')\n",
        "      p += 1\n",
        "      lamb = random.choices(packet_rate, k=size)\n",
        "    # Generating values from a Poisson distribution using the seeded generator\n",
        "    packet_size[t] = rng.poisson(lam=lamb)\n",
        "    # print(f'Generated Poisson samples with fixed seed t={t}: {packet_size[t]}')"
      ],
      "metadata": {
        "id": "-7IreV9o39J9"
      },
      "execution_count": null,
      "outputs": []
    },
    {
      "cell_type": "code",
      "source": [
        "# Simulate packet generation and handling for a given number of seconds (e.g. 10 seconds)\n",
        "setSelectedCon()\n",
        "sim_time = 65\n",
        "avg_en = 0\n",
        "migration_times = 0\n",
        "overload_times = 0\n",
        "energy_bench = []\n",
        "packet_amount = {}\n",
        "\n",
        "for i in range(sim_time):\n",
        "    # Update controller load every second\n",
        "    if i != 0 and i % 5 == 0:\n",
        "        print()\n",
        "        print(\"Controller loads after\", i, \"seconds:\")\n",
        "        print(f\"Controller capacity: {capacity}\",end='\\n\\n')\n",
        "        for node in G.nodes():\n",
        "            if G.nodes[node]['role'] == 'controller':\n",
        "                print(f\"Controller {node} load: {controller_loads[node]} pps\")\n",
        "                if controller_loads[node] > capacity:\n",
        "                  print(f\"Controller {node} is overloaded!\")\n",
        "                  overload_times += 1\n",
        "        print()\n",
        "        \n",
        "        # Added code part for migration process\n",
        "        try:\n",
        "            printSwitchController()\n",
        "            switches_to_migrate = findSwitchtoMigrateList()\n",
        "            result2 = min_knapsack3_dp(switches_to_migrate, capacity)\n",
        "            print()\n",
        "            printResult(result2)\n",
        "            migration_times += doMigrate(result2)\n",
        "            print()\n",
        "            printSwitchController()\n",
        "            print()\n",
        "        except Exception:\n",
        "            traceback.print_exc()\n",
        "\n",
        "        controller_loads = {c: 0 for c in controllers}\n",
        "        engergycost = energycostCalculate(G)\n",
        "        avg_en += engergycost\n",
        "        print(f'Energy consume from topology: {engergycost}', end='\\n\\n')\n",
        "        energy_bench.append(engergycost)\n",
        "        packet_amount = {}\n",
        "        # End of added code part\n",
        "\n",
        "    # Generate packets for each switch and send to its selected controller\n",
        "    k = 0\n",
        "    \n",
        "    for node in G.nodes():\n",
        "        if G.nodes[node]['role'] == 'switch':\n",
        "            selected_con = G.nodes[node]['selected_con']\n",
        "            packet_count = packet_size[i][k]\n",
        "            k += 1\n",
        "            if node in packet_amount:\n",
        "                packet_amount[node] += packet_count\n",
        "            else:\n",
        "                packet_amount[node] = packet_count\n",
        "\n",
        "            controller_loads[selected_con] += packet_count\n",
        "            # print(f\"Switch {node} generated {packet_count} packets and sent to controller {selected_con}\")\n",
        "\n",
        "    print(f'{\"*\"*5} Finish round {i}. {\"*\"*5}\\n')\n",
        "\n",
        "    \n",
        "print(f'Avg energy consumption: {avg_en/(sim_time/5)}')\n",
        "print(f'Total migration use: {migration_times} \\n Total overload controller occurs: {overload_times}')"
      ],
      "metadata": {
        "id": "-UbmvoKuOtju",
        "colab": {
          "base_uri": "https://localhost:8080/"
        },
        "outputId": "3b64049a-4840-4693-e724-ec1a694cc7e6"
      },
      "execution_count": null,
      "outputs": [
        {
          "output_type": "stream",
          "name": "stdout",
          "text": [
            "***** Finish round 0. *****\n",
            "\n",
            "***** Finish round 1. *****\n",
            "\n",
            "***** Finish round 2. *****\n",
            "\n",
            "***** Finish round 3. *****\n",
            "\n",
            "***** Finish round 4. *****\n",
            "\n",
            "\n",
            "Controller loads after 5 seconds:\n",
            "Controller capacity: 600000\n",
            "\n",
            "Controller 1 load: 316647 pps\n",
            "Controller 4 load: 1176274 pps\n",
            "Controller 4 is overloaded!\n",
            "Controller 9 load: 551382 pps\n",
            "Controller 12 load: 469497 pps\n",
            "Controller 23 load: 0 pps\n",
            "Controller 26 load: 0 pps\n",
            "Controller 27 load: 314911 pps\n",
            "Controller 30 load: 77153 pps\n",
            "Controller 34 load: 392649 pps\n",
            "Controller 36 load: 395600 pps\n",
            "Controller 38 load: 0 pps\n",
            "\n",
            "  Controller node  Switch nodes\n",
            "-----------------  -----------------------------\n",
            "                1  0, 33\n",
            "                4  2, 3, 5, 6, 8, 16, 17, 29, 31\n",
            "                9  15, 18, 25\n",
            "               12  13, 14, 20, 22\n",
            "               23\n",
            "               26\n",
            "               27  21, 28\n",
            "               30  39\n",
            "               34  7, 24, 32\n",
            "               36  35, 37\n",
            "               38\n",
            "target_loads: {'4': 576274}\n",
            "target_weight: 576274, items[['2', 156839, '38', 0], ['3', 158215, '30', 0], ['5', 236394, '23', 0], ['16', 158075, '34', 0], ['17', 77788, '30', 0], ['29', 76885, '23', 0], ['8', 77160, '34', 77160], ['31', 77519, '38', 77519], ['6', 157399, '34', 157399]]\n",
            "init_max_weight: 709524\n",
            "Selected it: [['29', '23', 0], ['17', '30', 0], ['16', '34', 0], ['3', '30', 0], ['2', '38', 0]]\n",
            "Minimum value (sum delta_E): 0\n",
            "Weight (sum switches load): 627802\n",
            "\n",
            "From controller 4\n",
            "  Switch    To Controller    Delta_E\n",
            "--------  ---------------  ---------\n",
            "      29               23          0\n",
            "      17               30          0\n",
            "      16               34          0\n",
            "       3               30          0\n",
            "       2               38          0\n",
            "\n",
            "\n",
            "  Controller node  Switch nodes\n",
            "-----------------  --------------\n",
            "                1  0, 33\n",
            "                4  5, 6, 8, 31\n",
            "                9  15, 18, 25\n",
            "               12  13, 14, 20, 22\n",
            "               23  29\n",
            "               26\n",
            "               27  21, 28\n",
            "               30  3, 17, 39\n",
            "               34  7, 16, 24, 32\n",
            "               36  35, 37\n",
            "               38  2\n",
            "\n",
            "{'0': 238705, '2': 156839, '3': 158215, '5': 236394, '6': 157399, '7': 77818, '8': 77160, '13': 157603, '14': 77055, '15': 237088, '16': 158075, '17': 77788, '18': 77604, '20': 77392, '21': 77685, '22': 157447, '24': 77432, '25': 236690, '28': 237226, '29': 76885, '31': 77519, '32': 237399, '33': 77942, '35': 237889, '37': 157711, '39': 77153}\n",
            "{'0': 238705, '2': 156839, '3': 158215, '5': 236394, '6': 157399, '7': 77818, '8': 77160, '13': 157603, '14': 77055, '15': 237088, '16': 158075, '17': 77788, '18': 77604, '20': 77392, '21': 77685, '22': 157447, '24': 77432, '25': 236690, '28': 237226, '29': 76885, '31': 77519, '32': 237399, '33': 77942, '35': 237889, '37': 157711, '39': 77153}\n",
            "Energy consume from topology: 3694113\n",
            "\n",
            "***** Finish round 5. *****\n",
            "\n",
            "***** Finish round 6. *****\n",
            "\n",
            "***** Finish round 7. *****\n",
            "\n",
            "***** Finish round 8. *****\n",
            "\n",
            "***** Finish round 9. *****\n",
            "\n",
            "\n",
            "Controller loads after 10 seconds:\n",
            "Controller capacity: 600000\n",
            "\n",
            "Controller 1 load: 313972 pps\n",
            "Controller 4 load: 708779 pps\n",
            "Controller 4 is overloaded!\n",
            "Controller 9 load: 392873 pps\n",
            "Controller 12 load: 710848 pps\n",
            "Controller 12 is overloaded!\n",
            "Controller 23 load: 76956 pps\n",
            "Controller 26 load: 0 pps\n",
            "Controller 27 load: 314691 pps\n",
            "Controller 30 load: 391932 pps\n",
            "Controller 34 load: 390663 pps\n",
            "Controller 36 load: 393947 pps\n",
            "Controller 38 load: 77851 pps\n",
            "\n",
            "  Controller node  Switch nodes\n",
            "-----------------  --------------\n",
            "                1  0, 33\n",
            "                4  5, 6, 8, 31\n",
            "                9  15, 18, 25\n",
            "               12  13, 14, 20, 22\n",
            "               23  29\n",
            "               26\n",
            "               27  21, 28\n",
            "               30  3, 17, 39\n",
            "               34  7, 16, 24, 32\n",
            "               36  35, 37\n",
            "               38  2\n",
            "target_loads: {'12': 110848, '4': 108779}\n",
            "target_weight: 110848, items[['22', 77635, '26', 0], ['13', 237461, '26', 237461], ['20', 157292, '26', 314584], ['14', 238460, '26', 476920]]\n",
            "init_max_weight: 315097\n",
            "Selected it: [['13', '26', 237461]]\n",
            "Minimum value (sum delta_E): 237461\n",
            "Weight (sum switches load): 237461\n",
            "target_weight: 108779, items[['5', 237480, '23', 0], ['8', 156912, '9', 0], ['31', 77126, '38', 77126], ['6', 237261, '23', 474522]]\n",
            "init_max_weight: 237481\n",
            "Selected it: [['8', '9', 0]]\n",
            "Minimum value (sum delta_E): 0\n",
            "Weight (sum switches load): 156912\n",
            "\n",
            "From controller 12\n",
            "  Switch    To Controller    Delta_E\n",
            "--------  ---------------  ---------\n",
            "      13               26     237461\n",
            "\n",
            "From controller 4\n",
            "  Switch    To Controller    Delta_E\n",
            "--------  ---------------  ---------\n",
            "       8                9          0\n",
            "\n",
            "\n",
            "  Controller node  Switch nodes\n",
            "-----------------  --------------\n",
            "                1  0, 33\n",
            "                4  5, 6, 31\n",
            "                9  8, 15, 18, 25\n",
            "               12  14, 20, 22\n",
            "               23  29\n",
            "               26  13\n",
            "               27  21, 28\n",
            "               30  3, 17, 39\n",
            "               34  7, 16, 24, 32\n",
            "               36  35, 37\n",
            "               38  2\n",
            "\n",
            "{'0': 237284, '2': 77851, '3': 236867, '5': 237480, '6': 237261, '7': 77397, '8': 156912, '13': 237461, '14': 238460, '15': 156948, '16': 158518, '17': 78037, '18': 77830, '20': 157292, '21': 237523, '22': 77635, '24': 77652, '25': 158095, '28': 77168, '29': 76956, '31': 77126, '32': 77096, '33': 76688, '35': 157236, '37': 236711, '39': 77028}\n",
            "{'0': 237284, '2': 77851, '3': 236867, '5': 237480, '6': 237261, '7': 77397, '8': 156912, '13': 474922, '14': 238460, '15': 156948, '16': 158518, '17': 78037, '18': 77830, '20': 157292, '21': 237523, '22': 77635, '24': 77652, '25': 158095, '28': 77168, '29': 76956, '31': 77126, '32': 77096, '33': 76688, '35': 157236, '37': 236711, '39': 77028}\n",
            "Energy consume from topology: 4009973\n",
            "\n",
            "***** Finish round 10. *****\n",
            "\n",
            "***** Finish round 11. *****\n",
            "\n",
            "***** Finish round 12. *****\n",
            "\n",
            "***** Finish round 13. *****\n",
            "\n",
            "***** Finish round 14. *****\n",
            "\n",
            "\n",
            "Controller loads after 15 seconds:\n",
            "Controller capacity: 600000\n",
            "\n",
            "Controller 1 load: 314829 pps\n",
            "Controller 4 load: 632155 pps\n",
            "Controller 4 is overloaded!\n",
            "Controller 9 load: 870743 pps\n",
            "Controller 9 is overloaded!\n",
            "Controller 12 load: 631850 pps\n",
            "Controller 12 is overloaded!\n",
            "Controller 23 load: 77322 pps\n",
            "Controller 26 load: 237405 pps\n",
            "Controller 27 load: 314651 pps\n",
            "Controller 30 load: 392419 pps\n",
            "Controller 34 load: 628939 pps\n",
            "Controller 34 is overloaded!\n",
            "Controller 36 load: 315596 pps\n",
            "Controller 38 load: 157575 pps\n",
            "\n",
            "  Controller node  Switch nodes\n",
            "-----------------  --------------\n",
            "                1  0, 33\n",
            "                4  5, 6, 31\n",
            "                9  8, 15, 18, 25\n",
            "               12  14, 20, 22\n",
            "               23  29\n",
            "               26  13\n",
            "               27  21, 28\n",
            "               30  3, 17, 39\n",
            "               34  7, 16, 24, 32\n",
            "               36  35, 37\n",
            "               38  2\n",
            "target_loads: {'9': 270743, '4': 32155, '12': 31850, '34': 28939}\n",
            "target_weight: 270743, items[['15', 237833, '23', 237833], ['8', 157557, '23', 315114], ['18', 237506, '23', 475012], ['25', 237847, '23', 475694]]\n",
            "init_max_weight: 395391\n",
            "Selected it: [['8', '23', 315114], ['15', '23', 237833]]\n",
            "Minimum value (sum delta_E): 552947\n",
            "Weight (sum switches load): 395390\n",
            "target_weight: 32155, items[['5', 157522, '30', 157522], ['31', 237187, '38', 237187], ['6', 237446, '38', 474892]]\n",
            "init_max_weight: 157523\n",
            "Selected it: [['5', '30', 157522]]\n",
            "Minimum value (sum delta_E): 157522\n",
            "Weight (sum switches load): 157522\n",
            "target_weight: 31850, items[['22', 237676, '26', 0], ['20', 156733, '26', 313466], ['14', 237441, '26', 474882]]\n",
            "init_max_weight: 237677\n",
            "Selected it: [['22', '26', 0]]\n",
            "Minimum value (sum delta_E): 0\n",
            "Weight (sum switches load): 237676\n",
            "target_weight: 28939, items[['24', 77819, '1', 155638], ['32', 236868, '38', 236868], ['16', 156973, '38', 313946], ['7', 157279, '38', 471837]]\n",
            "init_max_weight: 77820\n",
            "Selected it: [['24', '1', 155638]]\n",
            "Minimum value (sum delta_E): 155638\n",
            "Weight (sum switches load): 77819\n",
            "\n",
            "From controller 9\n",
            "  Switch    To Controller    Delta_E\n",
            "--------  ---------------  ---------\n",
            "       8               23     315114\n",
            "      15               23     237833\n",
            "\n",
            "From controller 4\n",
            "  Switch    To Controller    Delta_E\n",
            "--------  ---------------  ---------\n",
            "       5               30     157522\n",
            "\n",
            "From controller 12\n",
            "  Switch    To Controller    Delta_E\n",
            "--------  ---------------  ---------\n",
            "      22               26          0\n",
            "\n",
            "From controller 34\n",
            "  Switch    To Controller    Delta_E\n",
            "--------  ---------------  ---------\n",
            "      24                1     155638\n",
            "\n",
            "\n",
            "  Controller node  Switch nodes\n",
            "-----------------  --------------\n",
            "                1  0, 24, 33\n",
            "                4  6, 31\n",
            "                9  18, 25\n",
            "               12  14, 20\n",
            "               23  8, 15, 29\n",
            "               26  13, 22\n",
            "               27  21, 28\n",
            "               30  3, 5, 17, 39\n",
            "               34  7, 16, 32\n",
            "               36  35, 37\n",
            "               38  2\n",
            "\n",
            "{'0': 78081, '2': 157575, '3': 77105, '5': 157522, '6': 237446, '7': 157279, '8': 157557, '13': 237405, '14': 237441, '15': 237833, '16': 156973, '17': 157985, '18': 237506, '20': 156733, '21': 157422, '22': 237676, '24': 77819, '25': 237847, '28': 157229, '29': 77322, '31': 237187, '32': 236868, '33': 236748, '35': 238470, '37': 77126, '39': 157329}\n",
            "{'0': 78081, '2': 157575, '3': 77105, '5': 315044, '6': 237446, '7': 157279, '8': 472671, '13': 474810, '14': 237441, '15': 475666, '16': 156973, '17': 157985, '18': 237506, '20': 156733, '21': 157422, '22': 237676, '24': 233457, '25': 237847, '28': 157229, '29': 77322, '31': 237187, '32': 236868, '33': 236748, '35': 238470, '37': 77126, '39': 157329}\n",
            "Energy consume from topology: 5676996\n",
            "\n",
            "***** Finish round 15. *****\n",
            "\n",
            "***** Finish round 16. *****\n",
            "\n",
            "***** Finish round 17. *****\n",
            "\n",
            "***** Finish round 18. *****\n",
            "\n",
            "***** Finish round 19. *****\n",
            "\n",
            "\n",
            "Controller loads after 20 seconds:\n",
            "Controller capacity: 600000\n",
            "\n",
            "Controller 1 load: 392681 pps\n",
            "Controller 4 load: 395257 pps\n",
            "Controller 9 load: 395093 pps\n",
            "Controller 12 load: 474169 pps\n",
            "Controller 23 load: 713023 pps\n",
            "Controller 23 is overloaded!\n",
            "Controller 26 load: 314539 pps\n",
            "Controller 27 load: 475425 pps\n",
            "Controller 30 load: 630245 pps\n",
            "Controller 30 is overloaded!\n",
            "Controller 34 load: 311869 pps\n",
            "Controller 36 load: 395533 pps\n",
            "Controller 38 load: 238211 pps\n",
            "\n",
            "  Controller node  Switch nodes\n",
            "-----------------  --------------\n",
            "                1  0, 24, 33\n",
            "                4  6, 31\n",
            "                9  18, 25\n",
            "               12  14, 20\n",
            "               23  8, 15, 29\n",
            "               26  13, 22\n",
            "               27  21, 28\n",
            "               30  3, 5, 17, 39\n",
            "               34  7, 16, 32\n",
            "               36  35, 37\n",
            "               38  2\n",
            "target_loads: {'23': 113023, '30': 30245}\n",
            "target_weight: 113023, items[['8', 237338, '34', -237338], ['15', 237865, '26', 237865], ['29', 237820, '34', 475640]]\n",
            "init_max_weight: 237339\n",
            "Selected it: [['8', '34', -237338]]\n",
            "Minimum value (sum delta_E): -237338\n",
            "Weight (sum switches load): 237338\n",
            "target_weight: 30245, items[['3', 157045, '4', 0], ['17', 77585, '4', 0], ['39', 157516, '38', 0], ['5', 238099, '26', 238099]]\n",
            "init_max_weight: 157046\n",
            "Selected it: [['17', '4', 0]]\n",
            "Minimum value (sum delta_E): 0\n",
            "Weight (sum switches load): 77585\n",
            "\n",
            "From controller 23\n",
            "  Switch    To Controller    Delta_E\n",
            "--------  ---------------  ---------\n",
            "       8               34    -237338\n",
            "\n",
            "From controller 30\n",
            "  Switch    To Controller    Delta_E\n",
            "--------  ---------------  ---------\n",
            "      17                4          0\n",
            "\n",
            "\n",
            "  Controller node  Switch nodes\n",
            "-----------------  --------------\n",
            "                1  0, 24, 33\n",
            "                4  6, 17, 31\n",
            "                9  18, 25\n",
            "               12  14, 20\n",
            "               23  15, 29\n",
            "               26  13, 22\n",
            "               27  21, 28\n",
            "               30  3, 5, 39\n",
            "               34  7, 8, 16, 32\n",
            "               36  35, 37\n",
            "               38  2\n",
            "\n",
            "{'0': 157011, '2': 238211, '3': 157045, '5': 238099, '6': 238109, '7': 157267, '8': 237338, '13': 157344, '14': 236737, '15': 237865, '16': 77302, '17': 77585, '18': 237416, '20': 237432, '21': 237954, '22': 157195, '24': 77793, '25': 157677, '28': 237471, '29': 237820, '31': 157148, '32': 77300, '33': 157877, '35': 238300, '37': 157233, '39': 157516}\n",
            "{'0': 157011, '2': 238211, '3': 157045, '5': 476198, '6': 238109, '7': 157267, '8': 474676, '13': 314688, '14': 236737, '15': 475730, '16': 77302, '17': 77585, '18': 237416, '20': 237432, '21': 237954, '22': 157195, '24': 233379, '25': 157677, '28': 237471, '29': 237820, '31': 157148, '32': 77300, '33': 157877, '35': 238300, '37': 157233, '39': 157516}\n",
            "Energy consume from topology: 5762277\n",
            "\n",
            "***** Finish round 20. *****\n",
            "\n",
            "***** Finish round 21. *****\n",
            "\n",
            "***** Finish round 22. *****\n",
            "\n",
            "***** Finish round 23. *****\n",
            "\n",
            "***** Finish round 24. *****\n",
            "\n",
            "\n",
            "Controller loads after 25 seconds:\n",
            "Controller capacity: 600000\n",
            "\n",
            "Controller 1 load: 313536 pps\n",
            "Controller 4 load: 471828 pps\n",
            "Controller 9 load: 154902 pps\n",
            "Controller 12 load: 315974 pps\n",
            "Controller 23 load: 394764 pps\n",
            "Controller 26 load: 473545 pps\n",
            "Controller 27 load: 235046 pps\n",
            "Controller 30 load: 632819 pps\n",
            "Controller 30 is overloaded!\n",
            "Controller 34 load: 629637 pps\n",
            "Controller 34 is overloaded!\n",
            "Controller 36 load: 314656 pps\n",
            "Controller 38 load: 237349 pps\n",
            "\n",
            "  Controller node  Switch nodes\n",
            "-----------------  --------------\n",
            "                1  0, 24, 33\n",
            "                4  6, 17, 31\n",
            "                9  18, 25\n",
            "               12  14, 20\n",
            "               23  15, 29\n",
            "               26  13, 22\n",
            "               27  21, 28\n",
            "               30  3, 5, 39\n",
            "               34  7, 8, 16, 32\n",
            "               36  35, 37\n",
            "               38  2\n",
            "target_loads: {'30': 32819, '34': 29637}\n",
            "target_weight: 32819, items[['39', 157649, '38', 0], ['5', 237403, '9', 237403], ['3', 237767, '9', 475534]]\n",
            "init_max_weight: 157650\n",
            "Selected it: [['39', '38', 0]]\n",
            "Minimum value (sum delta_E): 0\n",
            "Weight (sum switches load): 157649\n",
            "target_weight: 29637, items[['8', 77036, '9', -77036], ['7', 157421, '9', 157421], ['32', 237722, '36', 237722], ['16', 157458, '9', 314916]]\n",
            "init_max_weight: 77037\n",
            "Selected it: [['8', '9', -77036]]\n",
            "Minimum value (sum delta_E): -77036\n",
            "Weight (sum switches load): 77036\n",
            "\n",
            "From controller 30\n",
            "  Switch    To Controller    Delta_E\n",
            "--------  ---------------  ---------\n",
            "      39               38          0\n",
            "\n",
            "From controller 34\n",
            "  Switch    To Controller    Delta_E\n",
            "--------  ---------------  ---------\n",
            "       8                9     -77036\n",
            "\n",
            "\n",
            "  Controller node  Switch nodes\n",
            "-----------------  --------------\n",
            "                1  0, 24, 33\n",
            "                4  6, 17, 31\n",
            "                9  8, 18, 25\n",
            "               12  14, 20\n",
            "               23  15, 29\n",
            "               26  13, 22\n",
            "               27  21, 28\n",
            "               30  3, 5\n",
            "               34  7, 16, 32\n",
            "               36  35, 37\n",
            "               38  2, 39\n",
            "\n",
            "{'0': 77402, '2': 237349, '3': 237767, '5': 237403, '6': 156847, '7': 157421, '8': 77036, '13': 236713, '14': 77750, '15': 157703, '16': 157458, '17': 237769, '18': 77153, '20': 238224, '21': 157522, '22': 236832, '24': 157993, '25': 77749, '28': 77524, '29': 237061, '31': 77212, '32': 237722, '33': 78141, '35': 157611, '37': 157045, '39': 157649}\n",
            "{'0': 77402, '2': 237349, '3': 237767, '5': 474806, '6': 156847, '7': 157421, '8': 77036, '13': 473426, '14': 77750, '15': 315406, '16': 157458, '17': 237769, '18': 77153, '20': 238224, '21': 157522, '22': 236832, '24': 473979, '25': 77749, '28': 77524, '29': 237061, '31': 77212, '32': 237722, '33': 78141, '35': 157611, '37': 157045, '39': 157649}\n",
            "Energy consume from topology: 5121861\n",
            "\n",
            "***** Finish round 25. *****\n",
            "\n",
            "***** Finish round 26. *****\n",
            "\n",
            "***** Finish round 27. *****\n",
            "\n",
            "***** Finish round 28. *****\n",
            "\n",
            "***** Finish round 29. *****\n",
            "\n",
            "\n",
            "Controller loads after 30 seconds:\n",
            "Controller capacity: 600000\n",
            "\n",
            "Controller 1 load: 473127 pps\n",
            "Controller 4 load: 551238 pps\n",
            "Controller 9 load: 393867 pps\n",
            "Controller 12 load: 314963 pps\n",
            "Controller 23 load: 474831 pps\n",
            "Controller 26 load: 394148 pps\n",
            "Controller 27 load: 396746 pps\n",
            "Controller 30 load: 154576 pps\n",
            "Controller 34 load: 312745 pps\n",
            "Controller 36 load: 394842 pps\n",
            "Controller 38 load: 393903 pps\n",
            "\n",
            "  Controller node  Switch nodes\n",
            "-----------------  --------------\n",
            "                1  0, 24, 33\n",
            "                4  6, 17, 31\n",
            "                9  8, 18, 25\n",
            "               12  14, 20\n",
            "               23  15, 29\n",
            "               26  13, 22\n",
            "               27  21, 28\n",
            "               30  3, 5\n",
            "               34  7, 16, 32\n",
            "               36  35, 37\n",
            "               38  2, 39\n",
            "target_loads: {}\n",
            "\n",
            "\n",
            "  Controller node  Switch nodes\n",
            "-----------------  --------------\n",
            "                1  0, 24, 33\n",
            "                4  6, 17, 31\n",
            "                9  8, 18, 25\n",
            "               12  14, 20\n",
            "               23  15, 29\n",
            "               26  13, 22\n",
            "               27  21, 28\n",
            "               30  3, 5\n",
            "               34  7, 16, 32\n",
            "               36  35, 37\n",
            "               38  2, 39\n",
            "\n",
            "{'0': 237630, '2': 237169, '3': 76993, '5': 77583, '6': 156839, '7': 157244, '8': 238001, '13': 237141, '14': 237281, '15': 237130, '16': 77857, '17': 156640, '18': 78142, '20': 77682, '21': 158521, '22': 157007, '24': 157826, '25': 77724, '28': 238225, '29': 237701, '31': 237759, '32': 77644, '33': 77671, '35': 157446, '37': 237396, '39': 156734}\n",
            "{'0': 237630, '2': 237169, '3': 76993, '5': 155166, '6': 156839, '7': 157244, '8': 238001, '13': 474282, '14': 237281, '15': 474260, '16': 77857, '17': 156640, '18': 78142, '20': 77682, '21': 158521, '22': 157007, '24': 473478, '25': 77724, '28': 238225, '29': 237701, '31': 237759, '32': 77644, '33': 77671, '35': 157446, '37': 237396, '39': 156734}\n",
            "Energy consume from topology: 5122492\n",
            "\n",
            "***** Finish round 30. *****\n",
            "\n",
            "***** Finish round 31. *****\n",
            "\n",
            "***** Finish round 32. *****\n",
            "\n",
            "***** Finish round 33. *****\n",
            "\n",
            "***** Finish round 34. *****\n",
            "\n",
            "\n",
            "Controller loads after 35 seconds:\n",
            "Controller capacity: 600000\n",
            "\n",
            "Controller 1 load: 471886 pps\n",
            "Controller 4 load: 633148 pps\n",
            "Controller 4 is overloaded!\n",
            "Controller 9 load: 312855 pps\n",
            "Controller 12 load: 395254 pps\n",
            "Controller 23 load: 394806 pps\n",
            "Controller 26 load: 235221 pps\n",
            "Controller 27 load: 155141 pps\n",
            "Controller 30 load: 474620 pps\n",
            "Controller 34 load: 553179 pps\n",
            "Controller 36 load: 154983 pps\n",
            "Controller 38 load: 395560 pps\n",
            "\n",
            "  Controller node  Switch nodes\n",
            "-----------------  --------------\n",
            "                1  0, 24, 33\n",
            "                4  6, 17, 31\n",
            "                9  8, 18, 25\n",
            "               12  14, 20\n",
            "               23  15, 29\n",
            "               26  13, 22\n",
            "               27  21, 28\n",
            "               30  3, 5\n",
            "               34  7, 16, 32\n",
            "               36  35, 37\n",
            "               38  2, 39\n",
            "target_loads: {'4': 33148}\n",
            "target_weight: 33148, items[['31', 237490, '36', 237490], ['17', 157775, '9', 315550], ['6', 237883, '36', 475766]]\n",
            "init_max_weight: 237491\n",
            "Selected it: [['31', '36', 237490]]\n",
            "Minimum value (sum delta_E): 237490\n",
            "Weight (sum switches load): 237490\n",
            "\n",
            "From controller 4\n",
            "  Switch    To Controller    Delta_E\n",
            "--------  ---------------  ---------\n",
            "      31               36     237490\n",
            "\n",
            "\n",
            "  Controller node  Switch nodes\n",
            "-----------------  --------------\n",
            "                1  0, 24, 33\n",
            "                4  6, 17\n",
            "                9  8, 18, 25\n",
            "               12  14, 20\n",
            "               23  15, 29\n",
            "               26  13, 22\n",
            "               27  21, 28\n",
            "               30  3, 5\n",
            "               34  7, 16, 32\n",
            "               36  31, 35, 37\n",
            "               38  2, 39\n",
            "\n",
            "{'0': 77427, '2': 237290, '3': 237637, '5': 236983, '6': 237883, '7': 77411, '8': 77725, '13': 158111, '14': 157641, '15': 237845, '16': 237663, '17': 157775, '18': 77460, '20': 237613, '21': 77763, '22': 77110, '24': 157249, '25': 157670, '28': 77378, '29': 156961, '31': 237490, '32': 238105, '33': 237210, '35': 77017, '37': 77966, '39': 158270}\n",
            "{'0': 77427, '2': 237290, '3': 237637, '5': 473966, '6': 237883, '7': 77411, '8': 77725, '13': 316222, '14': 157641, '15': 475690, '16': 237663, '17': 157775, '18': 77460, '20': 237613, '21': 77763, '22': 77110, '24': 471747, '25': 157670, '28': 77378, '29': 156961, '31': 474980, '32': 238105, '33': 237210, '35': 77017, '37': 77966, '39': 158270}\n",
            "Energy consume from topology: 5361580\n",
            "\n",
            "***** Finish round 35. *****\n",
            "\n",
            "***** Finish round 36. *****\n",
            "\n",
            "***** Finish round 37. *****\n",
            "\n",
            "***** Finish round 38. *****\n",
            "\n",
            "***** Finish round 39. *****\n",
            "\n",
            "\n",
            "Controller loads after 40 seconds:\n",
            "Controller capacity: 600000\n",
            "\n",
            "Controller 1 load: 392116 pps\n",
            "Controller 4 load: 155008 pps\n",
            "Controller 9 load: 392692 pps\n",
            "Controller 12 load: 315039 pps\n",
            "Controller 23 load: 234386 pps\n",
            "Controller 26 load: 235704 pps\n",
            "Controller 27 load: 155113 pps\n",
            "Controller 30 load: 315441 pps\n",
            "Controller 34 load: 470871 pps\n",
            "Controller 36 load: 311498 pps\n",
            "Controller 38 load: 394691 pps\n",
            "\n",
            "  Controller node  Switch nodes\n",
            "-----------------  --------------\n",
            "                1  0, 24, 33\n",
            "                4  6, 17\n",
            "                9  8, 18, 25\n",
            "               12  14, 20\n",
            "               23  15, 29\n",
            "               26  13, 22\n",
            "               27  21, 28\n",
            "               30  3, 5\n",
            "               34  7, 16, 32\n",
            "               36  31, 35, 37\n",
            "               38  2, 39\n",
            "target_loads: {}\n",
            "\n",
            "\n",
            "  Controller node  Switch nodes\n",
            "-----------------  --------------\n",
            "                1  0, 24, 33\n",
            "                4  6, 17\n",
            "                9  8, 18, 25\n",
            "               12  14, 20\n",
            "               23  15, 29\n",
            "               26  13, 22\n",
            "               27  21, 28\n",
            "               30  3, 5\n",
            "               34  7, 16, 32\n",
            "               36  31, 35, 37\n",
            "               38  2, 39\n",
            "\n",
            "{'0': 77728, '2': 237789, '3': 157855, '5': 157586, '6': 77155, '7': 77235, '8': 157280, '13': 77778, '14': 237593, '15': 77246, '16': 237208, '17': 77853, '18': 157601, '20': 77446, '21': 77634, '22': 157926, '24': 237194, '25': 77811, '28': 77479, '29': 157140, '31': 77580, '32': 156428, '33': 77194, '35': 76906, '37': 157012, '39': 156902}\n",
            "{'0': 77728, '2': 237789, '3': 157855, '5': 315172, '6': 77155, '7': 77235, '8': 157280, '13': 155556, '14': 237593, '15': 154492, '16': 237208, '17': 77853, '18': 157601, '20': 77446, '21': 77634, '22': 157926, '24': 711582, '25': 77811, '28': 77479, '29': 157140, '31': 155160, '32': 156428, '33': 77194, '35': 76906, '37': 157012, '39': 156902}\n",
            "Energy consume from topology: 4237137\n",
            "\n",
            "***** Finish round 40. *****\n",
            "\n",
            "***** Finish round 41. *****\n",
            "\n",
            "***** Finish round 42. *****\n",
            "\n",
            "***** Finish round 43. *****\n",
            "\n",
            "***** Finish round 44. *****\n",
            "\n",
            "\n",
            "Controller loads after 45 seconds:\n",
            "Controller capacity: 600000\n",
            "\n",
            "Controller 1 load: 471811 pps\n",
            "Controller 4 load: 235384 pps\n",
            "Controller 9 load: 552113 pps\n",
            "Controller 12 load: 155063 pps\n",
            "Controller 23 load: 393914 pps\n",
            "Controller 26 load: 234696 pps\n",
            "Controller 27 load: 233982 pps\n",
            "Controller 30 load: 234276 pps\n",
            "Controller 34 load: 392151 pps\n",
            "Controller 36 load: 552220 pps\n",
            "Controller 38 load: 235285 pps\n",
            "\n",
            "  Controller node  Switch nodes\n",
            "-----------------  --------------\n",
            "                1  0, 24, 33\n",
            "                4  6, 17\n",
            "                9  8, 18, 25\n",
            "               12  14, 20\n",
            "               23  15, 29\n",
            "               26  13, 22\n",
            "               27  21, 28\n",
            "               30  3, 5\n",
            "               34  7, 16, 32\n",
            "               36  31, 35, 37\n",
            "               38  2, 39\n",
            "target_loads: {}\n",
            "\n",
            "\n",
            "  Controller node  Switch nodes\n",
            "-----------------  --------------\n",
            "                1  0, 24, 33\n",
            "                4  6, 17\n",
            "                9  8, 18, 25\n",
            "               12  14, 20\n",
            "               23  15, 29\n",
            "               26  13, 22\n",
            "               27  21, 28\n",
            "               30  3, 5\n",
            "               34  7, 16, 32\n",
            "               36  31, 35, 37\n",
            "               38  2, 39\n",
            "\n",
            "{'0': 157564, '2': 77957, '3': 76957, '5': 157319, '6': 157939, '7': 236985, '8': 237621, '13': 76961, '14': 77678, '15': 236616, '16': 77677, '17': 77445, '18': 77256, '20': 77385, '21': 157030, '22': 157735, '24': 157247, '25': 237236, '28': 76952, '29': 157298, '31': 237892, '32': 77489, '33': 157000, '35': 77287, '37': 237041, '39': 157328}\n",
            "{'0': 157564, '2': 77957, '3': 76957, '5': 314638, '6': 157939, '7': 236985, '8': 237621, '13': 153922, '14': 77678, '15': 473232, '16': 77677, '17': 77445, '18': 77256, '20': 77385, '21': 157030, '22': 157735, '24': 471741, '25': 237236, '28': 76952, '29': 157298, '31': 475784, '32': 77489, '33': 157000, '35': 77287, '37': 237041, '39': 157328}\n",
            "Energy consume from topology: 4714177\n",
            "\n",
            "***** Finish round 45. *****\n",
            "\n",
            "***** Finish round 46. *****\n",
            "\n",
            "***** Finish round 47. *****\n",
            "\n",
            "***** Finish round 48. *****\n",
            "\n",
            "***** Finish round 49. *****\n",
            "\n",
            "\n",
            "Controller loads after 50 seconds:\n",
            "Controller capacity: 600000\n",
            "\n",
            "Controller 1 load: 391661 pps\n",
            "Controller 4 load: 393953 pps\n",
            "Controller 9 load: 551329 pps\n",
            "Controller 12 load: 315255 pps\n",
            "Controller 23 load: 313995 pps\n",
            "Controller 26 load: 315024 pps\n",
            "Controller 27 load: 235275 pps\n",
            "Controller 30 load: 315217 pps\n",
            "Controller 34 load: 312907 pps\n",
            "Controller 36 load: 552121 pps\n",
            "Controller 38 load: 475804 pps\n",
            "\n",
            "  Controller node  Switch nodes\n",
            "-----------------  --------------\n",
            "                1  0, 24, 33\n",
            "                4  6, 17\n",
            "                9  8, 18, 25\n",
            "               12  14, 20\n",
            "               23  15, 29\n",
            "               26  13, 22\n",
            "               27  21, 28\n",
            "               30  3, 5\n",
            "               34  7, 16, 32\n",
            "               36  31, 35, 37\n",
            "               38  2, 39\n",
            "target_loads: {}\n",
            "\n",
            "\n",
            "  Controller node  Switch nodes\n",
            "-----------------  --------------\n",
            "                1  0, 24, 33\n",
            "                4  6, 17\n",
            "                9  8, 18, 25\n",
            "               12  14, 20\n",
            "               23  15, 29\n",
            "               26  13, 22\n",
            "               27  21, 28\n",
            "               30  3, 5\n",
            "               34  7, 16, 32\n",
            "               36  31, 35, 37\n",
            "               38  2, 39\n",
            "\n",
            "{'0': 77504, '2': 237488, '3': 157936, '5': 157281, '6': 157148, '7': 77089, '8': 77295, '13': 77742, '14': 237812, '15': 157220, '16': 77514, '17': 236805, '18': 236089, '20': 77443, '21': 77937, '22': 237282, '24': 236663, '25': 237945, '28': 157338, '29': 156775, '31': 157318, '32': 158304, '33': 77494, '35': 237246, '37': 157557, '39': 238316}\n",
            "{'0': 77504, '2': 237488, '3': 157936, '5': 314562, '6': 157148, '7': 77089, '8': 77295, '13': 155484, '14': 237812, '15': 314440, '16': 77514, '17': 236805, '18': 236089, '20': 77443, '21': 77937, '22': 237282, '24': 709989, '25': 237945, '28': 157338, '29': 156775, '31': 314636, '32': 158304, '33': 77494, '35': 237246, '37': 157557, '39': 238316}\n",
            "Energy consume from topology: 5195428\n",
            "\n",
            "***** Finish round 50. *****\n",
            "\n",
            "***** Finish round 51. *****\n",
            "\n",
            "***** Finish round 52. *****\n",
            "\n",
            "***** Finish round 53. *****\n",
            "\n",
            "***** Finish round 54. *****\n",
            "\n",
            "\n",
            "Controller loads after 55 seconds:\n",
            "Controller capacity: 600000\n",
            "\n",
            "Controller 1 load: 472670 pps\n",
            "Controller 4 load: 234943 pps\n",
            "Controller 9 load: 472111 pps\n",
            "Controller 12 load: 155297 pps\n",
            "Controller 23 load: 474831 pps\n",
            "Controller 26 load: 394928 pps\n",
            "Controller 27 load: 235097 pps\n",
            "Controller 30 load: 475288 pps\n",
            "Controller 34 load: 472468 pps\n",
            "Controller 36 load: 472901 pps\n",
            "Controller 38 load: 155000 pps\n",
            "\n",
            "  Controller node  Switch nodes\n",
            "-----------------  --------------\n",
            "                1  0, 24, 33\n",
            "                4  6, 17\n",
            "                9  8, 18, 25\n",
            "               12  14, 20\n",
            "               23  15, 29\n",
            "               26  13, 22\n",
            "               27  21, 28\n",
            "               30  3, 5\n",
            "               34  7, 16, 32\n",
            "               36  31, 35, 37\n",
            "               38  2, 39\n",
            "target_loads: {}\n",
            "\n",
            "\n",
            "  Controller node  Switch nodes\n",
            "-----------------  --------------\n",
            "                1  0, 24, 33\n",
            "                4  6, 17\n",
            "                9  8, 18, 25\n",
            "               12  14, 20\n",
            "               23  15, 29\n",
            "               26  13, 22\n",
            "               27  21, 28\n",
            "               30  3, 5\n",
            "               34  7, 16, 32\n",
            "               36  31, 35, 37\n",
            "               38  2, 39\n",
            "\n",
            "{'0': 237064, '2': 77285, '3': 238276, '5': 237012, '6': 157421, '7': 77434, '8': 157634, '13': 157261, '14': 77401, '15': 237456, '16': 237009, '17': 77522, '18': 157529, '20': 77896, '21': 157639, '22': 237667, '24': 158033, '25': 156948, '28': 77458, '29': 237375, '31': 237494, '32': 158025, '33': 77573, '35': 158256, '37': 77151, '39': 77715}\n",
            "{'0': 237064, '2': 77285, '3': 238276, '5': 474024, '6': 157421, '7': 77434, '8': 157634, '13': 314522, '14': 77401, '15': 474912, '16': 237009, '17': 77522, '18': 157529, '20': 77896, '21': 157639, '22': 237667, '24': 474099, '25': 156948, '28': 77458, '29': 237375, '31': 474988, '32': 158025, '33': 77573, '35': 158256, '37': 77151, '39': 77715}\n",
            "Energy consume from topology: 5200823\n",
            "\n",
            "***** Finish round 55. *****\n",
            "\n",
            "***** Finish round 56. *****\n",
            "\n",
            "***** Finish round 57. *****\n",
            "\n",
            "***** Finish round 58. *****\n",
            "\n",
            "***** Finish round 59. *****\n",
            "\n",
            "\n",
            "Controller loads after 60 seconds:\n",
            "Controller capacity: 600000\n",
            "\n",
            "Controller 1 load: 473707 pps\n",
            "Controller 4 load: 154968 pps\n",
            "Controller 9 load: 392494 pps\n",
            "Controller 12 load: 315397 pps\n",
            "Controller 23 load: 474927 pps\n",
            "Controller 26 load: 234604 pps\n",
            "Controller 27 load: 234621 pps\n",
            "Controller 30 load: 315194 pps\n",
            "Controller 34 load: 552257 pps\n",
            "Controller 36 load: 393457 pps\n",
            "Controller 38 load: 235413 pps\n",
            "\n",
            "  Controller node  Switch nodes\n",
            "-----------------  --------------\n",
            "                1  0, 24, 33\n",
            "                4  6, 17\n",
            "                9  8, 18, 25\n",
            "               12  14, 20\n",
            "               23  15, 29\n",
            "               26  13, 22\n",
            "               27  21, 28\n",
            "               30  3, 5\n",
            "               34  7, 16, 32\n",
            "               36  31, 35, 37\n",
            "               38  2, 39\n",
            "target_loads: {}\n",
            "\n",
            "\n",
            "  Controller node  Switch nodes\n",
            "-----------------  --------------\n",
            "                1  0, 24, 33\n",
            "                4  6, 17\n",
            "                9  8, 18, 25\n",
            "               12  14, 20\n",
            "               23  15, 29\n",
            "               26  13, 22\n",
            "               27  21, 28\n",
            "               30  3, 5\n",
            "               34  7, 16, 32\n",
            "               36  31, 35, 37\n",
            "               38  2, 39\n",
            "\n",
            "{'0': 157919, '2': 157949, '3': 77492, '5': 237702, '6': 77681, '7': 157126, '8': 157575, '13': 157054, '14': 78129, '15': 237276, '16': 158177, '17': 77287, '18': 77112, '20': 237268, '21': 157186, '22': 77550, '24': 157884, '25': 157807, '28': 77435, '29': 237651, '31': 77148, '32': 236954, '33': 157904, '35': 238540, '37': 77769, '39': 77464}\n",
            "{'0': 157919, '2': 157949, '3': 77492, '5': 475404, '6': 77681, '7': 157126, '8': 157575, '13': 314108, '14': 78129, '15': 474552, '16': 158177, '17': 77287, '18': 77112, '20': 237268, '21': 157186, '22': 77550, '24': 473652, '25': 157807, '28': 77435, '29': 237651, '31': 154296, '32': 236954, '33': 157904, '35': 238540, '37': 77769, '39': 77464}\n",
            "Energy consume from topology: 4801987\n",
            "\n",
            "***** Finish round 60. *****\n",
            "\n",
            "***** Finish round 61. *****\n",
            "\n",
            "***** Finish round 62. *****\n",
            "\n",
            "***** Finish round 63. *****\n",
            "\n",
            "***** Finish round 64. *****\n",
            "\n",
            "Avg energy consumption: 4530680.307692308\n",
            "Total migration use: 17 \n",
            " Total overload controller occurs: 12\n"
          ]
        }
      ]
    },
    {
      "cell_type": "markdown",
      "source": [
        "## Greedy"
      ],
      "metadata": {
        "id": "rSA7lEvr_fdE"
      }
    },
    {
      "cell_type": "code",
      "source": [
        "# Define the packet handling capacity for controllers (10^6 packets/second)\n",
        "capacity = 600000\n",
        "\n",
        "# Find all controller nodes\n",
        "controllers = [n for n, d in G.nodes(data=True) if d['role'] == \"controller\"]\n",
        "\n",
        "# Dictionary to keep track of controller loads\n",
        "controller_loads = {c: 0 for c in controllers}"
      ],
      "metadata": {
        "id": "V_lFPhQ9_i0g"
      },
      "execution_count": null,
      "outputs": []
    },
    {
      "cell_type": "code",
      "source": [
        "seed = 650631030  # seed value for reproducibility\n",
        "random.seed(seed)\n",
        "\n",
        "packet_rate = [15500,31500,47500]    # average rate or expected value\n",
        "\n",
        "size = amount_of_switch  # number of switch\n",
        "packet_size = {}\n",
        "p = 1\n",
        "for t in range(65):\n",
        "    # Creating a random number generator with a fixed seed\n",
        "    rng = np.random.default_rng(seed)\n",
        "    seed += seed\n",
        "    if t % 5 == 0:\n",
        "      # print(f'{\"-\"*50} Period {p} {\"-\"*50}')\n",
        "      p += 1\n",
        "      lamb = random.choices(packet_rate, k=size)\n",
        "    # Generating values from a Poisson distribution using the seeded generator\n",
        "    packet_size[t] = rng.poisson(lam=lamb)\n",
        "    # print(f'Generated Poisson samples with fixed seed t={t}: {packet_size[t]}')"
      ],
      "metadata": {
        "id": "-WCc4TML_mUj"
      },
      "execution_count": null,
      "outputs": []
    },
    {
      "cell_type": "code",
      "source": [
        "# Simulate packet generation and handling for a given number of seconds (e.g. 10 seconds)\n",
        "setSelectedCon()\n",
        "sim_time = 65\n",
        "avg_en = 0\n",
        "migration_times = 0\n",
        "overload_times = 0\n",
        "energy_bench = []\n",
        "packet_amount = {}\n",
        "\n",
        "for i in range(sim_time):\n",
        "    # Update controller load every second\n",
        "    if i != 0 and i % 5 == 0:\n",
        "        print()\n",
        "        print(\"Controller loads after\", i, \"seconds:\")\n",
        "        print(f\"Controller capacity: {capacity}\",end='\\n\\n')\n",
        "        for node in G.nodes():\n",
        "            if G.nodes[node]['role'] == 'controller':\n",
        "                print(f\"Controller {node} load: {controller_loads[node]} pps\")\n",
        "                if controller_loads[node] > capacity:\n",
        "                  print(f\"Controller {node} is overloaded!\")\n",
        "                  overload_times += 1\n",
        "        print()\n",
        "        \n",
        "        # Added code part for migration process\n",
        "        try:\n",
        "            printSwitchController()\n",
        "            switches_to_migrate = findSwitchtoMigrateList()\n",
        "            result2 = min_knapsack3_gd(switches_to_migrate, capacity)\n",
        "            print()\n",
        "            printResult(result2)\n",
        "            migration_times += doMigrate(result2)\n",
        "            print()\n",
        "            printSwitchController()\n",
        "            print()\n",
        "        except Exception:\n",
        "            traceback.print_exc()\n",
        "\n",
        "        controller_loads = {c: 0 for c in controllers}\n",
        "        engergycost = energycostCalculate(G)\n",
        "        avg_en += engergycost\n",
        "        print(f'Energy consume from topology: {engergycost}', end='\\n\\n')\n",
        "        energy_bench.append(engergycost)\n",
        "        packet_amount = {}\n",
        "        # End of added code part\n",
        "\n",
        "    # Generate packets for each switch and send to its selected controller\n",
        "    k = 0\n",
        "    \n",
        "    for node in G.nodes():\n",
        "        if G.nodes[node]['role'] == 'switch':\n",
        "            selected_con = G.nodes[node]['selected_con']\n",
        "            packet_count = packet_size[i][k]\n",
        "            k += 1\n",
        "            if node in packet_amount:\n",
        "                packet_amount[node] += packet_count\n",
        "            else:\n",
        "                packet_amount[node] = packet_count\n",
        "\n",
        "            controller_loads[selected_con] += packet_count\n",
        "            # print(f\"Switch {node} generated {packet_count} packets and sent to controller {selected_con}\")\n",
        "\n",
        "    print(f'{\"*\"*5} Finish round {i}. {\"*\"*5}\\n')\n",
        "\n",
        "    \n",
        "print(f'Avg energy consumption: {avg_en/(sim_time/5)}')\n",
        "print(f'Total migration use: {migration_times}\\nTotal overload controller occurs: {overload_times}')"
      ],
      "metadata": {
        "id": "3fR8jQ4H_otC"
      },
      "execution_count": null,
      "outputs": []
    }
  ]
}