{
  "nbformat": 4,
  "nbformat_minor": 0,
  "metadata": {
    "colab": {
      "provenance": [],
      "authorship_tag": "ABX9TyNnbar9Br4d5WH9iwX9QF56",
      "include_colab_link": true
    },
    "kernelspec": {
      "name": "python3",
      "display_name": "Python 3"
    },
    "language_info": {
      "name": "python"
    }
  },
  "cells": [
    {
      "cell_type": "markdown",
      "metadata": {
        "id": "view-in-github",
        "colab_type": "text"
      },
      "source": [
        "<a href=\"https://colab.research.google.com/github/pipoomm/topologyzoo/blob/main/mumu.ipynb\" target=\"_parent\"><img src=\"https://colab.research.google.com/assets/colab-badge.svg\" alt=\"Open In Colab\"/></a>"
      ]
    },
    {
      "cell_type": "code",
      "execution_count": 3,
      "metadata": {
        "id": "OO4vUcQu6Aca"
      },
      "outputs": [],
      "source": [
        "import networkx as nx\n",
        "from networkx.algorithms.shortest_paths.astar import astar_path_length\n",
        "\n",
        "import numpy as np\n",
        "import pandas as pd\n",
        "from math import radians, cos, sin, asin, sqrt\n",
        "\n",
        "import matplotlib.pyplot as plt\n",
        "from matplotlib.colors import ListedColormap\n",
        "\n",
        "import copy\n",
        "import requests\n",
        "from io import StringIO"
      ]
    },
    {
      "cell_type": "code",
      "source": [
        "def read_graphml_from_url(url):\n",
        "    # Download the GraphML file\n",
        "    response = requests.get(url)\n",
        "    if response.status_code == 200:\n",
        "        # Parse the GraphML content using NetworkX\n",
        "        graphml_data = response.text\n",
        "        graphml_file = StringIO(graphml_data)\n",
        "        graph = nx.read_graphml(graphml_file)\n",
        "        return graph\n",
        "    else:\n",
        "        raise Exception(f\"Error downloading GraphML file. Status code: {response.status_code}\")"
      ],
      "metadata": {
        "id": "ICCyT6ozj56v"
      },
      "execution_count": 4,
      "outputs": []
    },
    {
      "cell_type": "code",
      "source": [
        "# Load GraphML file\n",
        "G = read_graphml_from_url(\"https://raw.githubusercontent.com/pipoomm/topologyzoo/main/AttMpls.graphml\")"
      ],
      "metadata": {
        "id": "v2qow5pYldIM"
      },
      "execution_count": 6,
      "outputs": []
    },
    {
      "cell_type": "code",
      "source": [
        "# Set the initial role of all nodes to \"none\"\n",
        "roles = {}\n",
        "for n in G.nodes():\n",
        "    roles[n] = \"none\""
      ],
      "metadata": {
        "id": "2xzluSk1GcYD"
      },
      "execution_count": 7,
      "outputs": []
    },
    {
      "cell_type": "code",
      "source": [
        "amount_of_controller = 0\n",
        "amount_of_switch = 0\n",
        "# Repeatedly identify \"controller\" and \"switch\" nodes until all nodes are defined\n",
        "while \"none\" in roles.values():\n",
        "    # Select the node with the highest number of connected neighbors and no role assigned\n",
        "    candidates = [n for n in G.nodes() if roles[n] == \"none\"]\n",
        "    node_degrees = [(n, G.degree(n)) for n in candidates]\n",
        "    node_degrees.sort(key=lambda x: (-x[1], x[0]))\n",
        "    node_i = node_degrees[0][0]\n",
        "\n",
        "    # Assign the \"controller\" role to node i\n",
        "    roles[node_i] = \"controller\"\n",
        "    amount_of_controller += 1\n",
        "\n",
        "    # Assign the \"switch\" role to all 1-hop connected nodes (neighbors) of node i with no role assigned\n",
        "    for neighbor in G.neighbors(node_i):\n",
        "        if roles[neighbor] == \"none\":\n",
        "            roles[neighbor] = \"switch\"\n",
        "            amount_of_switch += 1\n",
        "print(f'Amount of controller: {amount_of_controller}\\nAmount of switch: {amount_of_switch}')"
      ],
      "metadata": {
        "id": "krWD-ZAKJKsH",
        "colab": {
          "base_uri": "https://localhost:8080/"
        },
        "outputId": "23a80c0f-3798-4fb7-ffbc-9186f6c8cbb0"
      },
      "execution_count": 8,
      "outputs": [
        {
          "output_type": "stream",
          "name": "stdout",
          "text": [
            "Amount of controller: 8\n",
            "Amount of switch: 17\n"
          ]
        }
      ]
    },
    {
      "cell_type": "code",
      "source": [
        "# Set the role attribute for each node\n",
        "nx.set_node_attributes(G, roles, \"role\")"
      ],
      "metadata": {
        "id": "FEe6szHBGElS"
      },
      "execution_count": 9,
      "outputs": []
    },
    {
      "cell_type": "code",
      "source": [
        "# Print the node roles\n",
        "for n, r in nx.get_node_attributes(G, \"role\").items():\n",
        "    print(f\"Node {n} is a {r}\")"
      ],
      "metadata": {
        "id": "NbAdveNRG0r4"
      },
      "execution_count": null,
      "outputs": []
    },
    {
      "cell_type": "code",
      "source": [
        "for n, data in G.nodes(data=True):\n",
        "    print(f\"Node {n}: {data}\")"
      ],
      "metadata": {
        "id": "_M_vk95SG6ul"
      },
      "execution_count": null,
      "outputs": []
    },
    {
      "cell_type": "code",
      "source": [
        "node_positions = {}\n",
        "for node in G.nodes():\n",
        "  label = G.nodes[node]['id']\n",
        "  node_positions[node] = (G.nodes[node]['Longitude'], G.nodes[node]['Latitude'])  # Note: longitude first, then latitude\n",
        "\n",
        "# Define node colors based on their roles\n",
        "node_colors = {\"controller\": \"blue\", \"switch\": \"green\"}\n",
        "\n",
        "# Draw the graph with node colors\n",
        "nx.draw(G, node_color=[node_colors[G.nodes[n][\"role\"]] for n in G.nodes()], pos=node_positions, labels={node: G.nodes[node]['label'] for node in G.nodes()},with_labels=True)\n",
        "\n",
        "# Show the plot\n",
        "plt.show()"
      ],
      "metadata": {
        "id": "nPrrHYO0Ball"
      },
      "execution_count": null,
      "outputs": []
    },
    {
      "cell_type": "code",
      "source": [
        "# Define the Haversine distance function\n",
        "def haversine(lon1, lat1, lon2, lat2):\n",
        "    R = 6372.8  # Earth radius in kilometers\n",
        "\n",
        "    lon1, lat1, lon2, lat2 = map(radians, [lon1, lat1, lon2, lat2])\n",
        "\n",
        "    dlon = lon2 - lon1\n",
        "    dlat = lat2 - lat1\n",
        "\n",
        "    a = sin(dlat/2)**2 + cos(lat1) * cos(lat2) * sin(dlon/2)**2\n",
        "    c = 2 * asin(sqrt(a))\n",
        "\n",
        "    distance = R * c\n",
        "    return distance"
      ],
      "metadata": {
        "id": "faZGmF1DKN3F"
      },
      "execution_count": 11,
      "outputs": []
    },
    {
      "cell_type": "code",
      "source": [
        "# Compute the Haversine distance between every pair of nodes in the graph\n",
        "distances = {}\n",
        "for u in G.nodes():\n",
        "    for v in G.nodes():\n",
        "        if u != v:\n",
        "            lat1, lon1 = G.nodes[u]['Latitude'], G.nodes[u]['Longitude']\n",
        "            lat2, lon2 = G.nodes[v]['Latitude'], G.nodes[v]['Longitude']\n",
        "            distances[(u, v)] = haversine(lon1, lat1, lon2, lat2)"
      ],
      "metadata": {
        "id": "oTuOiPQLKkQn"
      },
      "execution_count": 12,
      "outputs": []
    },
    {
      "cell_type": "code",
      "source": [
        "# Print out the distance of each edge\n",
        "for e in G.edges():\n",
        "    print(f\"Distance between {e[0]} and {e[1]}: {distances[e]} km\")"
      ],
      "metadata": {
        "id": "iQyrqT6uLKlV"
      },
      "execution_count": null,
      "outputs": []
    },
    {
      "cell_type": "code",
      "source": [
        "# Step 4: Set `selected_con` attribute for switch nodes\n",
        "def setSelectedCon():\n",
        "  for node_id in G.nodes():\n",
        "      if G.nodes[node_id]['role'] == 'switch':\n",
        "          # Find the nearest controller neighbor using A* algorithm\n",
        "          nearest_controller = None\n",
        "          nearest_distance = float('inf')\n",
        "          for neighbor_id in G.neighbors(node_id):\n",
        "              if G.nodes[neighbor_id]['role'] == 'controller':\n",
        "                  # Calculate the A* path length between the nodes\n",
        "                  node_lat = G.nodes[node_id]['Latitude']\n",
        "                  node_long = G.nodes[node_id]['Longitude']\n",
        "                  neighbor_lat = G.nodes[neighbor_id]['Latitude']\n",
        "                  neighbor_long = G.nodes[neighbor_id]['Longitude']\n",
        "                  distance = astar_path_length(G, node_id, neighbor_id, heuristic=lambda u, v: haversine(node_long, node_lat, G.nodes[v]['Longitude'], G.nodes[v]['Latitude']))\n",
        "                  # Update nearest controller if this neighbor is closer\n",
        "                  if distance < nearest_distance:\n",
        "                      nearest_controller = neighbor_id\n",
        "                      nearest_distance = distance\n",
        "          # Set the `selected_con` attribute of the switch node to the ID of the nearest controller\n",
        "          G.nodes[node_id]['selected_con'] = nearest_controller\n",
        "\n",
        "setSelectedCon()"
      ],
      "metadata": {
        "id": "lF3CbIJjOfps"
      },
      "execution_count": 13,
      "outputs": []
    },
    {
      "cell_type": "code",
      "source": [
        "def printSwitchController():\n",
        "  controlled_switches = {}\n",
        "\n",
        "  # Iterate over all nodes in the graph\n",
        "  for node_id in G.nodes():\n",
        "      # Check if the node is a controller\n",
        "      if G.nodes[node_id]['role'] == 'controller':\n",
        "          # Initialize an empty list to store the controlled switches\n",
        "          controlled_switches[node_id] = []\n",
        "          # Iterate over the neighbors of the controller node\n",
        "          for neighbor_id in G.neighbors(node_id):\n",
        "              # Check if the neighbor is a switch node\n",
        "              if G.nodes[neighbor_id]['role'] == 'switch':\n",
        "                  # Check if the switch node is controlled by this controller node\n",
        "                  if G.nodes[neighbor_id]['selected_con'] == node_id:\n",
        "                      # Add the switch node to the list of controlled switches for this controller node\n",
        "                      controlled_switches[node_id].append(neighbor_id)\n",
        "\n",
        "  # Print the list of controlled switches for each controller node\n",
        "  for controller_id, switches in controlled_switches.items():\n",
        "      print(f\"Controller node {controller_id} controls the following switches:\")\n",
        "      for switch_id in switches:\n",
        "          print(f\"- Switch node {switch_id}\")\n",
        "      print()\n",
        "\n",
        "printSwitchController()"
      ],
      "metadata": {
        "id": "hZ0YtusXgzZb"
      },
      "execution_count": null,
      "outputs": []
    },
    {
      "cell_type": "code",
      "source": [
        "def printHopcounts():\n",
        "  for node, data in G.nodes(data=True):\n",
        "    if data[\"role\"] == \"switch\":\n",
        "        # Get the ID of the controller node for this switch\n",
        "        controller_id = data[\"selected_con\"]\n",
        "\n",
        "        # Find the shortest path between the switch and its controller\n",
        "        path = nx.astar_path(G, source=node, target=controller_id)\n",
        "\n",
        "        # Print the list of node IDs in the path\n",
        "        print(f\"Hop list from switch {node} to controller {controller_id}: {path}\")"
      ],
      "metadata": {
        "id": "7jNv3Zovr6o5"
      },
      "execution_count": 15,
      "outputs": []
    },
    {
      "cell_type": "code",
      "source": [
        "  # Draw the graph with node colors\n",
        "nx.draw(G, node_color=[node_colors[G.nodes[n][\"role\"]] for n in G.nodes()], pos=node_positions, labels={node: G.nodes[node]['id'] for node in G.nodes()},with_labels=True)\n",
        "\n",
        "# Show the plot\n",
        "plt.show()"
      ],
      "metadata": {
        "id": "W4_8EYC4Qa7Y",
        "colab": {
          "base_uri": "https://localhost:8080/",
          "height": 516
        },
        "outputId": "88c85eb7-4482-49a5-a9ab-30f2cddd9369"
      },
      "execution_count": 16,
      "outputs": [
        {
          "output_type": "display_data",
          "data": {
            "text/plain": [
              "<Figure size 640x480 with 1 Axes>"
            ],
            "image/png": "[encoded data removed]"
          },
          "metadata": {}
        }
      ]
    },
    {
      "cell_type": "code",
      "source": [
        "setSelectedCon()"
      ],
      "metadata": {
        "id": "tN5Jvjsb-7E6"
      },
      "execution_count": 17,
      "outputs": []
    },
    {
      "cell_type": "code",
      "source": [
        "seed = 650631030  # seed value for reproducibility\n",
        "packet_rate = 400    # average rate or expected value\n",
        "size = amount_of_switch  # number of switch\n",
        "\n",
        "# Creating a random number generator with a fixed seed\n",
        "rng = np.random.default_rng(seed)\n",
        "\n",
        "# Generating values from a Poisson distribution using the seeded generator\n",
        "packet_size = rng.poisson(lam=packet_rate, size=size)\n",
        "\n",
        "print(\"Generated Poisson samples with fixed seed:\", packet_size)"
      ],
      "metadata": {
        "colab": {
          "base_uri": "https://localhost:8080/"
        },
        "id": "-7IreV9o39J9",
        "outputId": "efc1853b-cd72-49ec-8eeb-b0787cff4929"
      },
      "execution_count": 18,
      "outputs": [
        {
          "output_type": "stream",
          "name": "stdout",
          "text": [
            "Generated Poisson samples with fixed seed: [396 375 413 384 427 446 387 366 385 389 436 406 388 385 472 410 372]\n"
          ]
        }
      ]
    },
    {
      "cell_type": "code",
      "source": [
        "# Define the packet handling capacity for controllers (1500 packets/second)\n",
        "capacity = 1500\n",
        "\n",
        "# Find all controller nodes\n",
        "controllers = [n for n, d in G.nodes(data=True) if d['role'] == \"controller\"]\n",
        "\n",
        "# Dictionary to keep track of controller loads\n",
        "controller_loads = {c: 0 for c in controllers}\n",
        "\n",
        "hop_counts = {}\n",
        "packet_amount = {}"
      ],
      "metadata": {
        "id": "Fu8ruj6D7zf2"
      },
      "execution_count": 19,
      "outputs": []
    },
    {
      "cell_type": "code",
      "source": [
        "# Simulate packet generation and handling for a given number of seconds (e.g. 10 seconds)\n",
        "sim_time = 1\n",
        "k = 0\n",
        "for i in range(sim_time):\n",
        "    # Generate packets for each switch and send to its selected controller\n",
        "    for node in G.nodes():\n",
        "        if G.nodes[node]['role'] == 'switch':\n",
        "            selected_con = G.nodes[node]['selected_con']\n",
        "            packet_count = packet_size[k]\n",
        "            k += 1\n",
        "            packet_amount[node] = packet_count\n",
        "            path = nx.shortest_path(G, source=node, target=selected_con)\n",
        "            hop_counts[node] = len(path) - 1\n",
        "            # if controller_loads[selected_con] + packet_count > capacity:\n",
        "            #     packet_count = capacity - controller_loads[selected_con]\n",
        "            controller_loads[selected_con] += packet_count\n",
        "            # G.nodes[node]['switch_energycost'] = packet_count * hop_counts[node]\n",
        "            print(f\"Switch {node} generated {packet_count} packets and sent to controller {selected_con}\")\n",
        "\n",
        "    # Update controller load every second\n",
        "    if i % 1 == 0:\n",
        "        print()\n",
        "        print(\"Controller loads after\", i+1, \"seconds:\")\n",
        "        print(f\"Controller capacity: {capacity}\",end='\\n\\n')\n",
        "        for node in G.nodes():\n",
        "            if G.nodes[node]['role'] == 'controller':\n",
        "                print(f\"Controller {node} load: {controller_loads[node]} pps\")\n",
        "                if controller_loads[node] > capacity:\n",
        "                  print(f\"Controller {node} is overloaded!\")\n",
        "                #controller_loads[node] = 0\n",
        "        print()"
      ],
      "metadata": {
        "colab": {
          "base_uri": "https://localhost:8080/"
        },
        "id": "-UbmvoKuOtju",
        "outputId": "eed75dc9-e6b9-4069-b8ba-d39470a6a463"
      },
      "execution_count": 20,
      "outputs": [
        {
          "output_type": "stream",
          "name": "stdout",
          "text": [
            "Switch 0 generated 396 packets and sent to controller 1\n",
            "Switch 3 generated 375 packets and sent to controller 2\n",
            "Switch 4 generated 413 packets and sent to controller 7\n",
            "Switch 5 generated 384 packets and sent to controller 7\n",
            "Switch 6 generated 427 packets and sent to controller 1\n",
            "Switch 8 generated 446 packets and sent to controller 13\n",
            "Switch 9 generated 387 packets and sent to controller 2\n",
            "Switch 10 generated 366 packets and sent to controller 13\n",
            "Switch 11 generated 385 packets and sent to controller 13\n",
            "Switch 12 generated 389 packets and sent to controller 24\n",
            "Switch 15 generated 436 packets and sent to controller 2\n",
            "Switch 16 generated 406 packets and sent to controller 2\n",
            "Switch 17 generated 388 packets and sent to controller 2\n",
            "Switch 20 generated 385 packets and sent to controller 2\n",
            "Switch 21 generated 472 packets and sent to controller 2\n",
            "Switch 22 generated 410 packets and sent to controller 13\n",
            "Switch 23 generated 372 packets and sent to controller 24\n",
            "\n",
            "Controller loads after 1 seconds:\n",
            "Controller capacity: 1500\n",
            "\n",
            "Controller 1 load: 823 pps\n",
            "Controller 2 load: 2849 pps\n",
            "Controller 2 is overloaded!\n",
            "Controller 7 load: 797 pps\n",
            "Controller 13 load: 1607 pps\n",
            "Controller 13 is overloaded!\n",
            "Controller 14 load: 0 pps\n",
            "Controller 18 load: 0 pps\n",
            "Controller 19 load: 0 pps\n",
            "Controller 24 load: 761 pps\n",
            "\n"
          ]
        }
      ]
    },
    {
      "cell_type": "code",
      "source": [
        "packet_amount"
      ],
      "metadata": {
        "colab": {
          "base_uri": "https://localhost:8080/"
        },
        "id": "EIg9C39UogmW",
        "outputId": "e84ae04b-c364-4c63-a6f9-badd75ebc5a7"
      },
      "execution_count": 32,
      "outputs": [
        {
          "output_type": "execute_result",
          "data": {
            "text/plain": [
              "{'0': 396,\n",
              " '3': 375,\n",
              " '4': 413,\n",
              " '5': 384,\n",
              " '6': 427,\n",
              " '8': 446,\n",
              " '9': 387,\n",
              " '10': 366,\n",
              " '11': 385,\n",
              " '12': 389,\n",
              " '15': 436,\n",
              " '16': 406,\n",
              " '17': 388,\n",
              " '20': 385,\n",
              " '21': 472,\n",
              " '22': 410,\n",
              " '23': 372}"
            ]
          },
          "metadata": {},
          "execution_count": 32
        }
      ]
    },
    {
      "cell_type": "code",
      "source": [
        "def findSwitchtoMigrateList():\n",
        "  #List of ovelload controlller and swich that need to do migation list\n",
        "  switches_to_migrate = {}\n",
        "  overloaded_controllers = [node for node in G.nodes() if G.nodes[node]['role'] == 'controller' and controller_loads[node] > capacity]\n",
        "  for node in G.nodes():\n",
        "    if G.nodes[node]['role'] == 'switch' and G.nodes[node]['selected_con'] in overloaded_controllers:\n",
        "      overloaded_controller = G.nodes[node]['selected_con']\n",
        "      if overloaded_controller not in switches_to_migrate:\n",
        "        switches_to_migrate[overloaded_controller] = []\n",
        "      switches_to_migrate[overloaded_controller].append([node,packet_amount[node]])\n",
        "      # switches_to_migrate[node] = packet_amount[node]\n",
        "  return(switches_to_migrate)\n",
        "\n",
        "\n",
        "switches_to_migrate = findSwitchtoMigrateList()\n",
        "switches_to_migrate"
      ],
      "metadata": {
        "id": "iwtyMfux2SDm",
        "colab": {
          "base_uri": "https://localhost:8080/"
        },
        "outputId": "7176bd08-36dd-4727-a0e8-393b4e3b5d79"
      },
      "execution_count": 41,
      "outputs": [
        {
          "output_type": "execute_result",
          "data": {
            "text/plain": [
              "{'2': [['3', 375],\n",
              "  ['9', 387],\n",
              "  ['15', 436],\n",
              "  ['16', 406],\n",
              "  ['17', 388],\n",
              "  ['20', 385],\n",
              "  ['21', 472]],\n",
              " '13': [['8', 446], ['10', 366], ['11', 385], ['22', 410]]}"
            ]
          },
          "metadata": {},
          "execution_count": 41
        }
      ]
    },
    {
      "cell_type": "code",
      "source": [
        "switches_to_migrate = {'3': 375,\n",
        " '8': 446,\n",
        " '9': 387,\n",
        " '10': 366,\n",
        " '11': 385,\n",
        " '15': 436,\n",
        " '16': 406,\n",
        " '17': 388,\n",
        " '20': 385,\n",
        " '21': 472,\n",
        " '22': 410}"
      ],
      "metadata": {
        "id": "hpPSEZW8lx38"
      },
      "execution_count": null,
      "outputs": []
    },
    {
      "cell_type": "code",
      "source": [
        "printSwitchController()"
      ],
      "metadata": {
        "id": "yonrHRhEaCPQ",
        "colab": {
          "base_uri": "https://localhost:8080/"
        },
        "outputId": "9575900f-fd3b-4746-b46c-0cd9d9d72fef"
      },
      "execution_count": null,
      "outputs": [
        {
          "output_type": "stream",
          "name": "stdout",
          "text": [
            "Controller node 1 controls the following switches:\n",
            "- Switch node 0\n",
            "- Switch node 6\n",
            "\n",
            "Controller node 2 controls the following switches:\n",
            "- Switch node 3\n",
            "- Switch node 9\n",
            "- Switch node 15\n",
            "- Switch node 16\n",
            "- Switch node 17\n",
            "- Switch node 20\n",
            "- Switch node 21\n",
            "\n",
            "Controller node 7 controls the following switches:\n",
            "- Switch node 4\n",
            "- Switch node 5\n",
            "\n",
            "Controller node 13 controls the following switches:\n",
            "- Switch node 8\n",
            "- Switch node 10\n",
            "- Switch node 11\n",
            "- Switch node 22\n",
            "\n",
            "Controller node 14 controls the following switches:\n",
            "\n",
            "Controller node 18 controls the following switches:\n",
            "\n",
            "Controller node 19 controls the following switches:\n",
            "\n",
            "Controller node 24 controls the following switches:\n",
            "- Switch node 12\n",
            "- Switch node 23\n",
            "\n"
          ]
        }
      ]
    },
    {
      "cell_type": "markdown",
      "source": [
        "### Min-Knapsack"
      ],
      "metadata": {
        "id": "tMx6317XZ2aq"
      }
    },
    {
      "cell_type": "code",
      "source": [
        "'''\n",
        "def min_knapsack(overloaded_controllers, switches_to_migrate, capacity):\n",
        "    # Calculate the target load for each overloaded controller\n",
        "    target_loads = {c: controller_loads[c] - (0.9 * capacity) for c in overloaded_controllers}\n",
        "    \n",
        "    # Initialize the result dictionary\n",
        "    switches_to_migrate_set = {}\n",
        "    \n",
        "    for controller in overloaded_controllers:\n",
        "        # Calculate the excess load for the overloaded controller\n",
        "        excess_load = controller_loads[controller] - target_loads[controller]\n",
        "        \n",
        "        # Get the list of switches connected to the overloaded controller\n",
        "        connected_switches = [(switch, load) for switch, load in switches_to_migrate.items() if G.nodes[switch]['selected_con'] == controller]\n",
        "        \n",
        "        # Sort the switches in descending order of their loads\n",
        "        connected_switches.sort(key=lambda x: x[1], reverse=True)\n",
        "        \n",
        "        # Initialize the list of switches to migrate for this controller\n",
        "        switches_to_migrate_set[controller] = []\n",
        "        \n",
        "        # Iterate through the sorted switches and add them to the migration list until the excess load is less than or equal to 0\n",
        "        for switch, load in connected_switches:\n",
        "            if excess_load <= 0:\n",
        "                break\n",
        "            switches_to_migrate_set[controller].append(switch)\n",
        "            excess_load -= load\n",
        "            \n",
        "    return switches_to_migrate_set\n",
        "'''"
      ],
      "metadata": {
        "id": "RvC-pewdy_4X"
      },
      "execution_count": null,
      "outputs": []
    },
    {
      "cell_type": "code",
      "source": [
        "'''\n",
        "# Find the switches to migrate for each overloaded controller\n",
        "overloaded_controllers = [node for node in G.nodes() if G.nodes[node]['role'] == 'controller' and controller_loads[node] > capacity]\n",
        "switches_to_migrate = findSwitchtoMigrateList()\n",
        "result = min_knapsack(overloaded_controllers, switches_to_migrate, capacity)\n",
        "\n",
        "# print(\"Switches to migrate for each overloaded controller:\")\n",
        "# for controller, switches in result.items():\n",
        "#     print(f\"Controller {controller}: {', '.join(switches)}\")\n",
        "'''"
      ],
      "metadata": {
        "id": "Lx1f7t_I2L88"
      },
      "execution_count": null,
      "outputs": []
    },
    {
      "cell_type": "code",
      "source": [
        "def findCandidateControllerList():\n",
        "  # Find new candidate controllers for overloaded controller\n",
        "  switch_to_candidate_controller = []\n",
        "  for overload_controller, switches in switches_to_migrate.items():\n",
        "    for switch, load in switches:\n",
        "      selected_con = overload_controller\n",
        "      candidate_controllers = [n for n, d in G.nodes(data=True) if d['role'] == \"controller\" and n != selected_con and controller_loads[n] < capacity]\n",
        "      if candidate_controllers:\n",
        "          hop_counts = []\n",
        "          for con in candidate_controllers:\n",
        "              path = nx.astar_path(G, source=switch, target=con)\n",
        "              hop_count = len(path) - 1\n",
        "              hop_counts.append((con, hop_count))\n",
        "          sorted_hops = sorted(hop_counts, key=lambda x: (x[1], controller_loads[x[0]]), reverse=False)\n",
        "          controller_list = []\n",
        "          for con in sorted_hops:\n",
        "              controller_list.append([con[0], con[1], capacity - controller_loads[con[0]]])\n",
        "          switch_to_candidate_controller.append([switch, load] + controller_list)\n",
        "      else:\n",
        "          switch_to_candidate_controller.append([switch, load])\n",
        "  return switch_to_candidate_controller"
      ],
      "metadata": {
        "id": "X3gGykuJqVDP"
      },
      "execution_count": 77,
      "outputs": []
    },
    {
      "cell_type": "code",
      "source": [
        "switch_to_candidate_controller = findCandidateControllerList()\n",
        "switch_to_candidate_controller\n",
        "# ['SwitchID', 'Switch load', ['Dest.ControllerID', 'Hop count from switch to controller', 'Controller capacity left']]"
      ],
      "metadata": {
        "colab": {
          "base_uri": "https://localhost:8080/"
        },
        "id": "6hEClXpNv9vZ",
        "outputId": "511f8a81-fbb2-4b37-cf6c-d7173d082c2c"
      },
      "execution_count": 78,
      "outputs": [
        {
          "output_type": "execute_result",
          "data": {
            "text/plain": [
              "[['3',\n",
              "  375,\n",
              "  ['7', 2, 703],\n",
              "  ['1', 2, 677],\n",
              "  ['14', 3, 1500],\n",
              "  ['18', 3, 1500],\n",
              "  ['19', 3, 1500],\n",
              "  ['24', 3, 739]],\n",
              " ['9',\n",
              "  387,\n",
              "  ['14', 2, 1500],\n",
              "  ['24', 2, 739],\n",
              "  ['7', 2, 703],\n",
              "  ['18', 3, 1500],\n",
              "  ['19', 3, 1500],\n",
              "  ['1', 3, 677]],\n",
              " ['15',\n",
              "  436,\n",
              "  ['18', 2, 1500],\n",
              "  ['19', 2, 1500],\n",
              "  ['14', 3, 1500],\n",
              "  ['24', 3, 739],\n",
              "  ['7', 3, 703],\n",
              "  ['1', 3, 677]],\n",
              " ['16',\n",
              "  406,\n",
              "  ['18', 2, 1500],\n",
              "  ['19', 2, 1500],\n",
              "  ['14', 3, 1500],\n",
              "  ['24', 3, 739],\n",
              "  ['7', 3, 703],\n",
              "  ['1', 3, 677]],\n",
              " ['17',\n",
              "  388,\n",
              "  ['18', 1, 1500],\n",
              "  ['19', 1, 1500],\n",
              "  ['24', 2, 739],\n",
              "  ['14', 3, 1500],\n",
              "  ['7', 3, 703],\n",
              "  ['1', 3, 677]],\n",
              " ['20',\n",
              "  385,\n",
              "  ['19', 1, 1500],\n",
              "  ['18', 2, 1500],\n",
              "  ['24', 3, 739],\n",
              "  ['7', 3, 703],\n",
              "  ['1', 3, 677],\n",
              "  ['14', 4, 1500]],\n",
              " ['21',\n",
              "  472,\n",
              "  ['18', 1, 1500],\n",
              "  ['19', 2, 1500],\n",
              "  ['24', 2, 739],\n",
              "  ['7', 3, 703],\n",
              "  ['1', 3, 677],\n",
              "  ['14', 4, 1500]],\n",
              " ['8',\n",
              "  446,\n",
              "  ['14', 2, 1500],\n",
              "  ['7', 2, 703],\n",
              "  ['18', 3, 1500],\n",
              "  ['19', 3, 1500],\n",
              "  ['24', 3, 739],\n",
              "  ['1', 3, 677]],\n",
              " ['10',\n",
              "  366,\n",
              "  ['14', 1, 1500],\n",
              "  ['18', 3, 1500],\n",
              "  ['19', 3, 1500],\n",
              "  ['24', 3, 739],\n",
              "  ['7', 3, 703],\n",
              "  ['1', 5, 677]],\n",
              " ['11',\n",
              "  385,\n",
              "  ['14', 1, 1500],\n",
              "  ['24', 2, 739],\n",
              "  ['18', 3, 1500],\n",
              "  ['19', 3, 1500],\n",
              "  ['7', 3, 703],\n",
              "  ['1', 5, 677]],\n",
              " ['22',\n",
              "  410,\n",
              "  ['24', 1, 739],\n",
              "  ['18', 2, 1500],\n",
              "  ['19', 2, 1500],\n",
              "  ['14', 3, 1500],\n",
              "  ['7', 3, 703],\n",
              "  ['1', 4, 677]]]"
            ]
          },
          "metadata": {},
          "execution_count": 78
        }
      ]
    },
    {
      "cell_type": "code",
      "source": [
        "switches_to_migrate = {'3': 375,\n",
        " '8': 446,\n",
        " '9': 387,\n",
        " '10': 366,\n",
        " '11': 385,\n",
        " '15': 436,\n",
        " '16': 406,\n",
        " '17': 388,\n",
        " '20': 385,\n",
        " '21': 472,\n",
        " '22': 410}"
      ],
      "metadata": {
        "id": "S8Bi8OtDstH4"
      },
      "execution_count": 49,
      "outputs": []
    },
    {
      "cell_type": "code",
      "source": [
        "'''\n",
        "def findCandidateControllerList():\n",
        "  # Find new candidate controllers for overloaded controller\n",
        "  switch_to_candidate_controller = []\n",
        "  for switch, load in switches_to_migrate.items():\n",
        "      selected_con = G.nodes[switch]['selected_con']\n",
        "      candidate_controllers = [n for n, d in G.nodes(data=True) if d['role'] == \"controller\" and n != selected_con and controller_loads[n] < capacity]\n",
        "      if candidate_controllers:\n",
        "          hop_counts = []\n",
        "          for con in candidate_controllers:\n",
        "              path = nx.astar_path(G, source=switch, target=con)\n",
        "              hop_count = len(path) - 1\n",
        "              hop_counts.append((con, hop_count))\n",
        "          sorted_hops = sorted(hop_counts, key=lambda x: (x[1], controller_loads[x[0]]), reverse=False)\n",
        "          controller_list = []\n",
        "          for con in sorted_hops:\n",
        "              controller_list.append([con[0], con[1], capacity - controller_loads[con[0]]])\n",
        "          switch_to_candidate_controller.append([switch, load] + controller_list)\n",
        "      else:\n",
        "          switch_to_candidate_controller.append([switch, load])\n",
        "  return switch_to_candidate_controller\n",
        "'''"
      ],
      "metadata": {
        "id": "rojP76lskgdm"
      },
      "execution_count": 76,
      "outputs": []
    },
    {
      "cell_type": "code",
      "source": [
        "'''\n",
        "switch_to_candidate_controller = findCandidateControllerList()\n",
        "switch_to_candidate_controller\n",
        "# ['SwitchID', 'Switch load', ['ControllerID', 'Hop count from switch to controller', 'Controller capacity left']]\n",
        "'''"
      ],
      "metadata": {
        "id": "tOCfOwMNwdak"
      },
      "execution_count": null,
      "outputs": []
    },
    {
      "cell_type": "code",
      "source": [
        "#Show candidate controller list of switch that connected with overload controller\n",
        "for i in switch_to_candidate_controller:\n",
        "  print(f\"Switch {i[0]} ({i[1]} pps) can migrate to the following controllers:\")\n",
        "  for con in i[2:]:\n",
        "    print(f\" Controller {con[0]} (Hop count: {con[1]}, Capacity left: {con[2]})\")"
      ],
      "metadata": {
        "colab": {
          "base_uri": "https://localhost:8080/"
        },
        "id": "HsTJe1WgzWqH",
        "outputId": "9f7eedaf-f228-4d9c-c1e0-af76b9dcb290"
      },
      "execution_count": 79,
      "outputs": [
        {
          "output_type": "stream",
          "name": "stdout",
          "text": [
            "Switch 3 (375 pps) can migrate to the following controllers:\n",
            " Controller 7 (Hop count: 2, Capacity left: 703)\n",
            " Controller 1 (Hop count: 2, Capacity left: 677)\n",
            " Controller 14 (Hop count: 3, Capacity left: 1500)\n",
            " Controller 18 (Hop count: 3, Capacity left: 1500)\n",
            " Controller 19 (Hop count: 3, Capacity left: 1500)\n",
            " Controller 24 (Hop count: 3, Capacity left: 739)\n",
            "Switch 9 (387 pps) can migrate to the following controllers:\n",
            " Controller 14 (Hop count: 2, Capacity left: 1500)\n",
            " Controller 24 (Hop count: 2, Capacity left: 739)\n",
            " Controller 7 (Hop count: 2, Capacity left: 703)\n",
            " Controller 18 (Hop count: 3, Capacity left: 1500)\n",
            " Controller 19 (Hop count: 3, Capacity left: 1500)\n",
            " Controller 1 (Hop count: 3, Capacity left: 677)\n",
            "Switch 15 (436 pps) can migrate to the following controllers:\n",
            " Controller 18 (Hop count: 2, Capacity left: 1500)\n",
            " Controller 19 (Hop count: 2, Capacity left: 1500)\n",
            " Controller 14 (Hop count: 3, Capacity left: 1500)\n",
            " Controller 24 (Hop count: 3, Capacity left: 739)\n",
            " Controller 7 (Hop count: 3, Capacity left: 703)\n",
            " Controller 1 (Hop count: 3, Capacity left: 677)\n",
            "Switch 16 (406 pps) can migrate to the following controllers:\n",
            " Controller 18 (Hop count: 2, Capacity left: 1500)\n",
            " Controller 19 (Hop count: 2, Capacity left: 1500)\n",
            " Controller 14 (Hop count: 3, Capacity left: 1500)\n",
            " Controller 24 (Hop count: 3, Capacity left: 739)\n",
            " Controller 7 (Hop count: 3, Capacity left: 703)\n",
            " Controller 1 (Hop count: 3, Capacity left: 677)\n",
            "Switch 17 (388 pps) can migrate to the following controllers:\n",
            " Controller 18 (Hop count: 1, Capacity left: 1500)\n",
            " Controller 19 (Hop count: 1, Capacity left: 1500)\n",
            " Controller 24 (Hop count: 2, Capacity left: 739)\n",
            " Controller 14 (Hop count: 3, Capacity left: 1500)\n",
            " Controller 7 (Hop count: 3, Capacity left: 703)\n",
            " Controller 1 (Hop count: 3, Capacity left: 677)\n",
            "Switch 20 (385 pps) can migrate to the following controllers:\n",
            " Controller 19 (Hop count: 1, Capacity left: 1500)\n",
            " Controller 18 (Hop count: 2, Capacity left: 1500)\n",
            " Controller 24 (Hop count: 3, Capacity left: 739)\n",
            " Controller 7 (Hop count: 3, Capacity left: 703)\n",
            " Controller 1 (Hop count: 3, Capacity left: 677)\n",
            " Controller 14 (Hop count: 4, Capacity left: 1500)\n",
            "Switch 21 (472 pps) can migrate to the following controllers:\n",
            " Controller 18 (Hop count: 1, Capacity left: 1500)\n",
            " Controller 19 (Hop count: 2, Capacity left: 1500)\n",
            " Controller 24 (Hop count: 2, Capacity left: 739)\n",
            " Controller 7 (Hop count: 3, Capacity left: 703)\n",
            " Controller 1 (Hop count: 3, Capacity left: 677)\n",
            " Controller 14 (Hop count: 4, Capacity left: 1500)\n",
            "Switch 8 (446 pps) can migrate to the following controllers:\n",
            " Controller 14 (Hop count: 2, Capacity left: 1500)\n",
            " Controller 7 (Hop count: 2, Capacity left: 703)\n",
            " Controller 18 (Hop count: 3, Capacity left: 1500)\n",
            " Controller 19 (Hop count: 3, Capacity left: 1500)\n",
            " Controller 24 (Hop count: 3, Capacity left: 739)\n",
            " Controller 1 (Hop count: 3, Capacity left: 677)\n",
            "Switch 10 (366 pps) can migrate to the following controllers:\n",
            " Controller 14 (Hop count: 1, Capacity left: 1500)\n",
            " Controller 18 (Hop count: 3, Capacity left: 1500)\n",
            " Controller 19 (Hop count: 3, Capacity left: 1500)\n",
            " Controller 24 (Hop count: 3, Capacity left: 739)\n",
            " Controller 7 (Hop count: 3, Capacity left: 703)\n",
            " Controller 1 (Hop count: 5, Capacity left: 677)\n",
            "Switch 11 (385 pps) can migrate to the following controllers:\n",
            " Controller 14 (Hop count: 1, Capacity left: 1500)\n",
            " Controller 24 (Hop count: 2, Capacity left: 739)\n",
            " Controller 18 (Hop count: 3, Capacity left: 1500)\n",
            " Controller 19 (Hop count: 3, Capacity left: 1500)\n",
            " Controller 7 (Hop count: 3, Capacity left: 703)\n",
            " Controller 1 (Hop count: 5, Capacity left: 677)\n",
            "Switch 22 (410 pps) can migrate to the following controllers:\n",
            " Controller 24 (Hop count: 1, Capacity left: 739)\n",
            " Controller 18 (Hop count: 2, Capacity left: 1500)\n",
            " Controller 19 (Hop count: 2, Capacity left: 1500)\n",
            " Controller 14 (Hop count: 3, Capacity left: 1500)\n",
            " Controller 7 (Hop count: 3, Capacity left: 703)\n",
            " Controller 1 (Hop count: 4, Capacity left: 677)\n"
          ]
        }
      ]
    },
    {
      "cell_type": "code",
      "source": [
        "def min_knapsack2_mod(switches_to_migrate, switch_to_candidate_controller, capacity):\n",
        "    # Calculate the target load for each overloaded controller (weight of knapsack)\n",
        "    target_loads = {overloaded_controller: controller_loads[overloaded_controller] - (0.9 * capacity) for overloaded_controller in switches_to_migrate}\n",
        "    print(f'target_loads: {target_loads}')\n",
        "\n",
        "    # Initialize the result dictionary that `min_knapsack2` will return as an output of this function\n",
        "    delta_E_per_controller = {}\n",
        "\n",
        "    for overloaded_controllers in switches_to_migrate:\n",
        "      x1 = []\n",
        "      switches = switches_to_migrate[overloaded_controllers]\n",
        "      switches = {switch[0]: switch[1] for switch in switches}\n",
        "\n",
        "      for switch, load in switches.items():\n",
        "        # Find the corresponding candidate controllers list for this switch\n",
        "        controller_candidates = [ candidate for item in switch_to_candidate_controller if item[0] == switch and overloaded_controllers == G.nodes[switch][\"selected_con\"] for candidate in item[2:] if candidate[2] >= load]\n",
        "        # Calculate delta_E for each candidate controller\n",
        "        delta_Es = [[switch, candidate[0], load * (candidate[1] - hop_counts[switch])] for candidate in controller_candidates]\n",
        "        if delta_Es:\n",
        "          min_element = min(delta_Es, key=lambda x: x[2])\n",
        "          result = [min_element]\n",
        "          x1.append(result)\n",
        "      x1 = sorted(x1, key=lambda x: min(sublist[2] for sublist in x))\n",
        "      print(f'from con{overloaded_controllers}: {x1}')\n",
        "\n",
        "      x2 = []\n",
        "      total_loads = 0\n",
        "      for sublist in x1:\n",
        "        passed_condition = True\n",
        "        new_total_loads = total_loads\n",
        "        for switch, con, delta_E in sublist:\n",
        "          passed_condition = True\n",
        "          new_total_loads = total_loads\n",
        "          for switch, con, delta_E in sublist:\n",
        "            if switch in switches and new_total_loads < target_loads[overloaded_controllers]:\n",
        "                new_total_loads += switches[switch]\n",
        "            else:\n",
        "                passed_condition = False\n",
        "                break\n",
        "          \n",
        "          if passed_condition:\n",
        "              x2.append(sublist)\n",
        "              total_loads = new_total_loads\n",
        "      \n",
        "      if overloaded_controllers in delta_E_per_controller:\n",
        "          delta_E_per_controller[overloaded_controllers].append(x2)\n",
        "      else:\n",
        "          delta_E_per_controller[overloaded_controllers] = x2\n",
        "\n",
        "    return delta_E_per_controller"
      ],
      "metadata": {
        "id": "pTi9fCa-yDxf"
      },
      "execution_count": 177,
      "outputs": []
    },
    {
      "cell_type": "code",
      "source": [
        "switches_to_migrate = findSwitchtoMigrateList()\n",
        "result = min_knapsack2_mod(switches_to_migrate, switch_to_candidate_controller, capacity)\n",
        "for controller, switches in result.items():\n",
        "  for switch in switches:\n",
        "    print(f\"Controller {controller} : Migrate switch {switch[0][0]} to controller {switch[0][1]} with delta_E {switch[0][2]}\")"
      ],
      "metadata": {
        "colab": {
          "base_uri": "https://localhost:8080/"
        },
        "id": "7S-0mNMvyKav",
        "outputId": "9b72f01c-c2f3-45f5-a60e-618ba1e557ed"
      },
      "execution_count": 178,
      "outputs": [
        {
          "output_type": "stream",
          "name": "stdout",
          "text": [
            "target_loads: {'2': 1499.0, '13': 257.0}\n",
            "from con2: [[['17', '18', 0]], [['20', '19', 0]], [['21', '18', 0]], [['3', '7', 375]], [['9', '14', 387]], [['16', '18', 406]], [['15', '18', 436]]]\n",
            "from con13: [[['10', '14', 0]], [['11', '14', 0]], [['22', '24', 0]], [['8', '14', 446]]]\n",
            "Controller 2 : Migrate switch 17 to controller 18 with delta_e 0\n",
            "Controller 2 : Migrate switch 20 to controller 19 with delta_e 0\n",
            "Controller 2 : Migrate switch 21 to controller 18 with delta_e 0\n",
            "Controller 2 : Migrate switch 3 to controller 7 with delta_e 375\n",
            "Controller 13 : Migrate switch 10 to controller 14 with delta_e 0\n"
          ]
        }
      ]
    },
    {
      "cell_type": "code",
      "source": [
        "def min_knapsack2(overloaded_controllers, switches_to_migrate, switch_to_candidate_controller, capacity):\n",
        "    # Calculate the target load for each overloaded controller (weight of knapsack)\n",
        "    target_loads = {c: controller_loads[c] - (0.9 * capacity) for c in overloaded_controllers}\n",
        "    print(f'target_loads: {target_loads}')\n",
        "\n",
        "    # Initialize the result dictionary that `min_knapsack2` will return as an output of this function\n",
        "    delta_E_per_controller = {}\n",
        "\n",
        "    for overloaded_con in overloaded_controllers:\n",
        "        x1 = []\n",
        "        for switch, load in switches_to_migrate.items():\n",
        "            # Calculate delta_E for each switch\n",
        "\n",
        "            # Find the corresponding candidate controllers list for this switch\n",
        "            controller_candidates = [\n",
        "                candidate\n",
        "                for item in switch_to_candidate_controller\n",
        "                if item[0] == switch and overloaded_con == G.nodes[switch][\"selected_con\"]\n",
        "                for candidate in item[2:]\n",
        "                if candidate[2] >= load\n",
        "            ]\n",
        "            # Calculate delta_E for each candidate controller\n",
        "            delta_Es = [\n",
        "                [switch, candidate[0], load * (candidate[1] - hop_counts[switch])]\n",
        "                for candidate in controller_candidates\n",
        "            ]\n",
        "            if delta_Es:\n",
        "                min_element = min(delta_Es, key=lambda x: x[2])\n",
        "                result = [min_element]\n",
        "                # min_value = min(e[2] for e in delta_Es) \n",
        "                # result = [e for e in delta_Es if e[2] == min_value]\n",
        "                x1.append(result)\n",
        "        x1 = sorted(x1, key=lambda x: min(sublist[2] for sublist in x))\n",
        "        print(f'from con{overloaded_con}: {x1}')\n",
        "        \n",
        "        x2 = []\n",
        "        total_loads = 0\n",
        "        for sublist in x1:\n",
        "            passed_condition = True\n",
        "            new_total_loads = total_loads\n",
        "            for switch, con, delta_E in sublist:\n",
        "                if switch in switches_to_migrate and new_total_loads < target_loads[overloaded_con]:\n",
        "                    new_total_loads += switches_to_migrate[switch]\n",
        "                else:\n",
        "                    passed_condition = False\n",
        "                    break\n",
        "\n",
        "            if passed_condition:\n",
        "                x2.append(sublist)\n",
        "                total_loads = new_total_loads\n",
        "        \n",
        "        if overloaded_con in delta_E_per_controller:\n",
        "            delta_E_per_controller[overloaded_con].append(x2)\n",
        "        else:\n",
        "            delta_E_per_controller[overloaded_con] = x2\n",
        "    return delta_E_per_controller\n"
      ],
      "metadata": {
        "id": "gAeA3GgVAyt3"
      },
      "execution_count": 54,
      "outputs": []
    },
    {
      "cell_type": "code",
      "source": [
        "# Find the switches to migrate for each overloaded controller\n",
        "overloaded_controllers = [node for node in G.nodes() if G.nodes[node]['role'] == 'controller' and controller_loads[node] > capacity]\n",
        "switches_to_migrate = findSwitchtoMigrateList()\n",
        "result = min_knapsack2(overloaded_controllers, switches_to_migrate, switch_to_candidate_controller, capacity)\n",
        "for controller, switches in result.items():\n",
        "  for switch in switches:\n",
        "    print(f\"Controller {controller} : Migrate switch {switch[0][0]} to controller {switch[0][1]} with delta_e {switch[0][2]}\")"
      ],
      "metadata": {
        "colab": {
          "base_uri": "https://localhost:8080/"
        },
        "id": "Il23tA3uBCzI",
        "outputId": "ec58561b-e36b-4124-9e1b-5e3105db20d8"
      },
      "execution_count": 55,
      "outputs": [
        {
          "output_type": "stream",
          "name": "stdout",
          "text": [
            "target_loads: {'2': 1499.0, '13': 257.0}\n",
            "from con2: []\n",
            "from con13: []\n"
          ]
        }
      ]
    },
    {
      "cell_type": "markdown",
      "source": [
        "### Aproach delta_E\n",
        "---\n",
        "Working by\n",
        "1.   Calculate energy cost from each switch to its present controller by load*hopcount (E_before) \n",
        "2.   Calculate energy cost from each switch to each candidate controller list\n",
        "3.   Sort energy cost from (2.)\n",
        "4.   The least hop count with higest capacity left is chossen from each switch to new candidate controller then calculate energy cost from switch to each candidate controller (E_after)\n",
        "5.   Get the list of pairs of switch and candidate controller with (delta_E = E_after-E_before)\n",
        "6.   The list of pair of switch and candidate controller with the lowest delta_E will be migrate as following pair.\n",
        "7.   Do migration until capacity of overload controller become underbound"
      ],
      "metadata": {
        "id": "iR7bacoMetpd"
      }
    },
    {
      "cell_type": "code",
      "source": [
        "def findSwitchtoMigrate(G, overloaded_controllers, switches_to_migrate, capacity):\n",
        "    controller_loads_temp = copy.deepcopy(controller_loads)\n",
        "    migrate_list = []\n",
        "    # Sort the overloaded controllers by load (descending order)\n",
        "    sorted_overloaded_controllers = sorted(overloaded_controllers, key=lambda x: controller_loads_temp[x], reverse=True)\n",
        "    print(f'Controller list (DESC): {sorted_overloaded_controllers}')\n",
        "\n",
        "    for overloaded_con in sorted_overloaded_controllers:\n",
        "        # Get the switches connected to the overloaded controller\n",
        "        connected_switches = [node for node in G.nodes() if G.nodes[node]['role'] == 'switch' and G.nodes[node]['selected_con'] == overloaded_con]\n",
        "\n",
        "        for switch in switches_to_migrate:\n",
        "            E_after = {}\n",
        "            load = switches_to_migrate[switch]\n",
        "            selected_con = G.nodes[switch]['selected_con']\n",
        "            selected_con_path = nx.shortest_path(G, source=switch, target=selected_con)\n",
        "            hop_count_to_oc = len(selected_con_path) - 1\n",
        "            E_before = load * hop_count_to_oc\n",
        "            candidate_controllers = [n for n, d in G.nodes(data=True) if d['role'] == \"controller\" and n != selected_con and controller_loads_temp[n] < capacity]\n",
        "            if candidate_controllers:\n",
        "                hop_counts = []\n",
        "                sorted_hops1 = []\n",
        "                for con in candidate_controllers:\n",
        "                    path = nx.shortest_path(G, source=switch, target=con)\n",
        "                    hop_count = len(path) - 1\n",
        "                    hop_counts.append((con, hop_count))\n",
        "\n",
        "                sorted_hops = sorted(hop_counts, key=lambda x: (x[1], controller_loads_temp[x[0]]), reverse=False)\n",
        "\n",
        "                # Find the first candidate controller that can handle the load\n",
        "                lowest_value = sorted_hops[0][1]  # get the first tuple's second value as the initial lowest value\n",
        "                B = []  # create an empty list for the new tuples\n",
        "\n",
        "                # iterate through each tuple in sorted_hops and check if its second value is equal to the lowest value\n",
        "                for tup in sorted_hops:\n",
        "                    if tup[1] == lowest_value:\n",
        "                        B.append((tup[0], lowest_value))  # add the tuple to the new list with the lowest value\n",
        "                sorted_hops = B\n",
        "\n",
        "                for con in sorted_hops:\n",
        "                    if controller_loads_temp[selected_con] >= capacity:\n",
        "                      if controller_loads_temp[con[0]] + load <= capacity:\n",
        "                        E_after[con[0]] = load * con[1]\n",
        "                        delta_E = E_after[con[0]] - E_before\n",
        "                        migrate_list.append((switch,[con[0],delta_E]))\n",
        "\n",
        "            else:\n",
        "                print(f\"No candidate controllers found for switch {switch}\")\n",
        "    return migrate_list"
      ],
      "metadata": {
        "id": "mNHOZ6w_gG71"
      },
      "execution_count": null,
      "outputs": []
    },
    {
      "cell_type": "code",
      "source": [
        "G_temp = copy.deepcopy(G)\n",
        "overloaded_controllers_temp = copy.deepcopy(overloaded_controllers)\n",
        "switches_to_migrate_temp = copy.deepcopy(switches_to_migrate)\n",
        "migrate_list = findSwitchtoMigrate(G_temp, overloaded_controllers_temp, switches_to_migrate_temp, capacity)\n",
        "# migrate_list = findSwitchtoMigrate(G, overloaded_controllers, switches_to_migrate, capacity)\n",
        "migrate_list"
      ],
      "metadata": {
        "colab": {
          "base_uri": "https://localhost:8080/"
        },
        "id": "9Xjt9Bg24_Xw",
        "outputId": "07d01978-f9a3-4644-8c1d-a47db47325de"
      },
      "execution_count": null,
      "outputs": [
        {
          "output_type": "stream",
          "name": "stdout",
          "text": [
            "Controller list (DESC): ['2', '13']\n"
          ]
        },
        {
          "output_type": "execute_result",
          "data": {
            "text/plain": [
              "[('3', ['7', 385]),\n",
              " ('3', ['1', 385]),\n",
              " ('8', ['14', 404]),\n",
              " ('8', ['7', 404]),\n",
              " ('9', ['14', 418]),\n",
              " ('9', ['24', 418]),\n",
              " ('9', ['7', 418]),\n",
              " ('10', ['14', 0]),\n",
              " ('11', ['14', 0]),\n",
              " ('15', ['18', 416]),\n",
              " ('15', ['19', 416]),\n",
              " ('16', ['18', 409]),\n",
              " ('16', ['19', 409]),\n",
              " ('17', ['18', 0]),\n",
              " ('17', ['19', 0]),\n",
              " ('20', ['19', 0]),\n",
              " ('21', ['18', 0]),\n",
              " ('22', ['24', 0]),\n",
              " ('3', ['7', 385]),\n",
              " ('3', ['1', 385]),\n",
              " ('8', ['14', 404]),\n",
              " ('8', ['7', 404]),\n",
              " ('9', ['14', 418]),\n",
              " ('9', ['24', 418]),\n",
              " ('9', ['7', 418]),\n",
              " ('10', ['14', 0]),\n",
              " ('11', ['14', 0]),\n",
              " ('15', ['18', 416]),\n",
              " ('15', ['19', 416]),\n",
              " ('16', ['18', 409]),\n",
              " ('16', ['19', 409]),\n",
              " ('17', ['18', 0]),\n",
              " ('17', ['19', 0]),\n",
              " ('20', ['19', 0]),\n",
              " ('21', ['18', 0]),\n",
              " ('22', ['24', 0])]"
            ]
          },
          "metadata": {},
          "execution_count": 134
        }
      ]
    },
    {
      "cell_type": "code",
      "source": [
        "migrate_list\n",
        "B_dict = {}\n",
        "for item in migrate_list:\n",
        "    key, value = item\n",
        "    if key not in B_dict or value[1] < B_dict[key][1][1]:\n",
        "        B_dict[key] = item\n",
        "\n",
        "switch_to_new_controller = list(B_dict.values())\n",
        "# print(migrate_list)\n",
        "print(switch_to_new_controller)\n",
        "# SwitchID, ControllerID, Switch's load"
      ],
      "metadata": {
        "id": "XGH9qdxjeqLq",
        "colab": {
          "base_uri": "https://localhost:8080/"
        },
        "outputId": "3737098a-724e-4e75-8223-60ff11d4fe36"
      },
      "execution_count": null,
      "outputs": [
        {
          "output_type": "stream",
          "name": "stdout",
          "text": [
            "[('3', ['7', 354]), ('8', ['14', 399]), ('9', ['14', 385]), ('10', ['14', 0]), ('11', ['14', 0]), ('15', ['18', 407]), ('16', ['18', 414]), ('17', ['18', 0]), ('20', ['19', 0]), ('21', ['18', 0]), ('22', ['24', 0])]\n"
          ]
        }
      ]
    },
    {
      "cell_type": "code",
      "source": [
        "printCandidateController()"
      ],
      "metadata": {
        "colab": {
          "base_uri": "https://localhost:8080/"
        },
        "id": "5_RP499ShTiB",
        "outputId": "c9ed2f8d-947c-43dd-d5f2-2b84944171cc"
      },
      "execution_count": null,
      "outputs": [
        {
          "output_type": "stream",
          "name": "stdout",
          "text": [
            "Switch 3 (354 pps) can migrate to the following controllers:\n",
            " - Controller 7 (Hop count: 2, Capacity left: 714)\n",
            " - Controller 1 (Hop count: 2, Capacity left: 683)\n",
            " - Controller 14 (Hop count: 3, Capacity left: 1500)\n",
            " - Controller 18 (Hop count: 3, Capacity left: 1500)\n",
            " - Controller 19 (Hop count: 3, Capacity left: 1500)\n",
            " - Controller 24 (Hop count: 3, Capacity left: 674)\n",
            "Switch 8 (399 pps) can migrate to the following controllers:\n",
            " - Controller 14 (Hop count: 2, Capacity left: 1500)\n",
            " - Controller 7 (Hop count: 2, Capacity left: 714)\n",
            " - Controller 18 (Hop count: 3, Capacity left: 1500)\n",
            " - Controller 19 (Hop count: 3, Capacity left: 1500)\n",
            " - Controller 1 (Hop count: 3, Capacity left: 683)\n",
            " - Controller 24 (Hop count: 3, Capacity left: 674)\n",
            "Switch 9 (385 pps) can migrate to the following controllers:\n",
            " - Controller 14 (Hop count: 2, Capacity left: 1500)\n",
            " - Controller 7 (Hop count: 2, Capacity left: 714)\n",
            " - Controller 24 (Hop count: 2, Capacity left: 674)\n",
            " - Controller 18 (Hop count: 3, Capacity left: 1500)\n",
            " - Controller 19 (Hop count: 3, Capacity left: 1500)\n",
            " - Controller 1 (Hop count: 3, Capacity left: 683)\n",
            "Switch 10 (423 pps) can migrate to the following controllers:\n",
            " - Controller 14 (Hop count: 1, Capacity left: 1500)\n",
            " - Controller 18 (Hop count: 3, Capacity left: 1500)\n",
            " - Controller 19 (Hop count: 3, Capacity left: 1500)\n",
            " - Controller 7 (Hop count: 3, Capacity left: 714)\n",
            " - Controller 24 (Hop count: 3, Capacity left: 674)\n",
            " - Controller 1 (Hop count: 5, Capacity left: 683)\n",
            "Switch 11 (399 pps) can migrate to the following controllers:\n",
            " - Controller 14 (Hop count: 1, Capacity left: 1500)\n",
            " - Controller 24 (Hop count: 2, Capacity left: 674)\n",
            " - Controller 18 (Hop count: 3, Capacity left: 1500)\n",
            " - Controller 19 (Hop count: 3, Capacity left: 1500)\n",
            " - Controller 7 (Hop count: 3, Capacity left: 714)\n",
            " - Controller 1 (Hop count: 5, Capacity left: 683)\n",
            "Switch 15 (407 pps) can migrate to the following controllers:\n",
            " - Controller 18 (Hop count: 2, Capacity left: 1500)\n",
            " - Controller 19 (Hop count: 2, Capacity left: 1500)\n",
            " - Controller 14 (Hop count: 3, Capacity left: 1500)\n",
            " - Controller 7 (Hop count: 3, Capacity left: 714)\n",
            " - Controller 1 (Hop count: 3, Capacity left: 683)\n",
            " - Controller 24 (Hop count: 3, Capacity left: 674)\n",
            "Switch 16 (414 pps) can migrate to the following controllers:\n",
            " - Controller 18 (Hop count: 2, Capacity left: 1500)\n",
            " - Controller 19 (Hop count: 2, Capacity left: 1500)\n",
            " - Controller 14 (Hop count: 3, Capacity left: 1500)\n",
            " - Controller 7 (Hop count: 3, Capacity left: 714)\n",
            " - Controller 1 (Hop count: 3, Capacity left: 683)\n",
            " - Controller 24 (Hop count: 3, Capacity left: 674)\n",
            "Switch 17 (391 pps) can migrate to the following controllers:\n",
            " - Controller 18 (Hop count: 1, Capacity left: 1500)\n",
            " - Controller 19 (Hop count: 1, Capacity left: 1500)\n",
            " - Controller 24 (Hop count: 2, Capacity left: 674)\n",
            " - Controller 14 (Hop count: 3, Capacity left: 1500)\n",
            " - Controller 7 (Hop count: 3, Capacity left: 714)\n",
            " - Controller 1 (Hop count: 3, Capacity left: 683)\n",
            "Switch 20 (421 pps) can migrate to the following controllers:\n",
            " - Controller 19 (Hop count: 1, Capacity left: 1500)\n",
            " - Controller 18 (Hop count: 2, Capacity left: 1500)\n",
            " - Controller 7 (Hop count: 3, Capacity left: 714)\n",
            " - Controller 1 (Hop count: 3, Capacity left: 683)\n",
            " - Controller 24 (Hop count: 3, Capacity left: 674)\n",
            " - Controller 14 (Hop count: 4, Capacity left: 1500)\n",
            "Switch 21 (410 pps) can migrate to the following controllers:\n",
            " - Controller 18 (Hop count: 1, Capacity left: 1500)\n",
            " - Controller 19 (Hop count: 2, Capacity left: 1500)\n",
            " - Controller 24 (Hop count: 2, Capacity left: 674)\n",
            " - Controller 7 (Hop count: 3, Capacity left: 714)\n",
            " - Controller 1 (Hop count: 3, Capacity left: 683)\n",
            " - Controller 14 (Hop count: 4, Capacity left: 1500)\n",
            "Switch 22 (411 pps) can migrate to the following controllers:\n",
            " - Controller 24 (Hop count: 1, Capacity left: 674)\n",
            " - Controller 18 (Hop count: 2, Capacity left: 1500)\n",
            " - Controller 19 (Hop count: 2, Capacity left: 1500)\n",
            " - Controller 14 (Hop count: 3, Capacity left: 1500)\n",
            " - Controller 7 (Hop count: 3, Capacity left: 714)\n",
            " - Controller 1 (Hop count: 4, Capacity left: 683)\n"
          ]
        }
      ]
    },
    {
      "cell_type": "code",
      "source": [
        "# def migrate_switches_min(G, overloaded_controllers, switches_to_migrate, capacity):\n",
        "#     controller_loads_temp = copy.deepcopy(controller_loads)\n",
        "#     # Sort the overloaded controllers by load (descending order)\n",
        "#     sorted_overloaded_controllers = sorted(overloaded_controllers, key=lambda x: controller_loads_temp[x], reverse=True)\n",
        "#     print(f'Controller list (DESC): {sorted_overloaded_controllers}')\n",
        "\n",
        "#     for overloaded_con in sorted_overloaded_controllers:\n",
        "#         print(f\"Migrating switches from overloaded controller {overloaded_con}\")\n",
        "#         # Get the switches connected to the overloaded controller\n",
        "#         connected_switches = [node for node in G.nodes() if G.nodes[node]['role'] == 'switch' and G.nodes[node]['selected_con'] == overloaded_con]\n",
        "#         # Sort the connected switches by load (descending order)\n",
        "#         sorted_connected_switches = sorted(connected_switches, key=lambda x: switches_to_migrate[x], reverse=False)\n",
        "#         print(sorted_connected_switches)\n",
        "\n",
        "#         for switch in sorted_connected_switches:\n",
        "#             load = switches_to_migrate[switch]\n",
        "#             selected_con = G.nodes[switch]['selected_con']\n",
        "#             candidate_controllers = [n for n, d in G.nodes(data=True) if d['role'] == \"controller\" and n != selected_con and controller_loads_temp[n] < capacity]\n",
        "#             if candidate_controllers:\n",
        "#                 hop_counts = []\n",
        "#                 for con in candidate_controllers:\n",
        "#                     path = nx.shortest_path(G, source=switch, target=con)\n",
        "#                     hop_count = len(path) - 1\n",
        "#                     hop_counts.append((con, hop_count))\n",
        "\n",
        "#                 sorted_hops = sorted(hop_counts, key=lambda x: (x[1], controller_loads_temp[x[0]]), reverse=False)\n",
        "\n",
        "#                 # Find the first candidate controller that can handle the load\n",
        "#                 for con in sorted_hops:\n",
        "#                     if controller_loads_temp[selected_con] >= capacity:\n",
        "#                       if controller_loads_temp[con[0]] + load <= capacity:\n",
        "#                         # Perform the switch migration\n",
        "#                         print(f\"Migrating switch {switch} from controller {selected_con} to {con[0]}\")\n",
        "#                         controller_loads_temp[selected_con] -= load\n",
        "#                         controller_loads_temp[con[0]] += load\n",
        "#                         G.nodes[switch]['selected_con'] = con[0]\n",
        "#                         print(f\"Controller load {selected_con} is {controller_loads_temp[selected_con]}\")\n",
        "#                         break\n",
        "#             else:\n",
        "#                 print(f\"No candidate controllers found for switch {switch}\")"
      ],
      "metadata": {
        "id": "NYOrF9u7AFwT"
      },
      "execution_count": null,
      "outputs": []
    },
    {
      "cell_type": "code",
      "source": [
        "def migrate_switches_Edelta(G, overloaded_controllers, switches_to_migrate, switch_to_new_controller, capacity):\n",
        "  controller_loads_temp = controller_loads\n",
        "  sorted_overloaded_controllers = sorted(overloaded_controllers, key=lambda x: controller_loads_temp[x], reverse=True)\n",
        "  \n",
        "  for overloaded_con in sorted_overloaded_controllers:\n",
        "    for switch in switch_to_new_controller:\n",
        "      load = switches_to_migrate[switch[0]]\n",
        "      selected_con = G.nodes[switch[0]]['selected_con']\n",
        "      if G.nodes[switch[0]]['selected_con'] == overloaded_con:\n",
        "        if controller_loads_temp[selected_con] >= capacity:\n",
        "          print(f\"Migrating switch {switch[0]} from controller {selected_con} to {switch[1][0]}\")\n",
        "          controller_loads_temp[selected_con] -= load\n",
        "          controller_loads_temp[switch[1][0]] += load\n",
        "          G.nodes[switch[0]]['selected_con'] = switch[1][0]\n",
        "          print(f\"Controller load {selected_con} is {controller_loads_temp[selected_con]}\")"
      ],
      "metadata": {
        "id": "heqhQ2smBq_a"
      },
      "execution_count": null,
      "outputs": []
    },
    {
      "cell_type": "markdown",
      "source": [
        "### Evaluate energy cost"
      ],
      "metadata": {
        "id": "ztu41av3ASiO"
      }
    },
    {
      "cell_type": "code",
      "source": [
        "def energycostCalculate(G):\n",
        "  hop_counts = {}\n",
        "  energycost_oneswitch = {}\n",
        "  total_energyconsume = 0\n",
        "  switches_to_migrate = {}\n",
        "\n",
        "  for node in G.nodes():\n",
        "    if G.nodes[node]['role'] == 'switch':\n",
        "      selected_con = G.nodes[node]['selected_con']\n",
        "      path = nx.shortest_path(G, source=node, target=selected_con)\n",
        "      hop_counts[node] = len(path) - 1\n",
        "      energycost_oneswitch[node] = packet_amount[node]  * hop_counts[node]\n",
        "\n",
        "  #Calculate energy cost from all switches by its load and hop counts to its controller\n",
        "  for switch, ec_oneswitch in energycost_oneswitch.items():\n",
        "      total_energyconsume += ec_oneswitch\n",
        "  \n",
        "  return total_energyconsume"
      ],
      "metadata": {
        "id": "-PGDMyXSTqq0"
      },
      "execution_count": null,
      "outputs": []
    },
    {
      "cell_type": "code",
      "source": [
        "#Energy cost before migrate\n",
        "print(f'Energy consume: {energycostCalculate(G)}')"
      ],
      "metadata": {
        "colab": {
          "base_uri": "https://localhost:8080/"
        },
        "id": "WatjxTVcCUqH",
        "outputId": "b9df6677-d10b-4083-d44a-f7b08c74c803"
      },
      "execution_count": null,
      "outputs": [
        {
          "output_type": "stream",
          "name": "stdout",
          "text": [
            "Energy consume: 6843\n"
          ]
        }
      ]
    },
    {
      "cell_type": "markdown",
      "source": [
        "Do migration"
      ],
      "metadata": {
        "id": "ErpWrTAOBju6"
      }
    },
    {
      "cell_type": "code",
      "source": [
        "migrate_switches_Edelta(G, overloaded_controllers, switches_to_migrate, switch_to_new_controller, capacity)\n",
        "energycostCalculate(G)"
      ],
      "metadata": {
        "colab": {
          "base_uri": "https://localhost:8080/"
        },
        "id": "1ky9XNdJQPTv",
        "outputId": "67292d1e-945d-4502-a33f-7369daac88ff"
      },
      "execution_count": null,
      "outputs": [
        {
          "output_type": "stream",
          "name": "stdout",
          "text": [
            "Migrating switch 3 from controller 2 to 7\n",
            "Controller load 2 is 2404\n",
            "Migrating switch 9 from controller 2 to 14\n",
            "Controller load 2 is 2026\n",
            "Migrating switch 15 from controller 2 to 18\n",
            "Controller load 2 is 1641\n",
            "Migrating switch 16 from controller 2 to 18\n",
            "Controller load 2 is 1222\n",
            "Migrating switch 8 from controller 13 to 14\n",
            "Controller load 13 is 1201\n",
            "Energy consume from all switches: 8838\n"
          ]
        }
      ]
    },
    {
      "cell_type": "code",
      "source": [
        "for node in G.nodes:\n",
        "  if G.nodes[node]['role'] == 'switch':\n",
        "    print(f'Switch {G.nodes[node][\"id\"]} controlled with Controller {G.nodes[node][\"selected_con\"]}')\n",
        "print()\n",
        "for node in G.nodes:\n",
        "  if G.nodes[node]['role'] == 'controller':\n",
        "                print(f\"Controller {node} load: {controller_loads[node]} pps\")\n"
      ],
      "metadata": {
        "colab": {
          "base_uri": "https://localhost:8080/"
        },
        "id": "lxYDBVrDQglo",
        "outputId": "b31d62d3-ab1e-49d2-e766-2b5cc259819d"
      },
      "execution_count": null,
      "outputs": [
        {
          "output_type": "stream",
          "name": "stdout",
          "text": [
            "Switch 0 controlled with Controller 1\n",
            "Switch 3 controlled with Controller 7\n",
            "Switch 4 controlled with Controller 7\n",
            "Switch 5 controlled with Controller 7\n",
            "Switch 6 controlled with Controller 1\n",
            "Switch 8 controlled with Controller 14\n",
            "Switch 9 controlled with Controller 14\n",
            "Switch 10 controlled with Controller 13\n",
            "Switch 11 controlled with Controller 13\n",
            "Switch 12 controlled with Controller 24\n",
            "Switch 15 controlled with Controller 18\n",
            "Switch 16 controlled with Controller 18\n",
            "Switch 17 controlled with Controller 2\n",
            "Switch 20 controlled with Controller 2\n",
            "Switch 21 controlled with Controller 2\n",
            "Switch 22 controlled with Controller 13\n",
            "Switch 23 controlled with Controller 24\n",
            "\n",
            "Controller 1 load: 822 pps\n",
            "Controller 2 load: 1222 pps\n",
            "Controller 7 load: 1182 pps\n",
            "Controller 13 load: 1201 pps\n",
            "Controller 14 load: 788 pps\n",
            "Controller 18 load: 804 pps\n",
            "Controller 19 load: 0 pps\n",
            "Controller 24 load: 797 pps\n"
          ]
        }
      ]
    },
    {
      "cell_type": "code",
      "source": [
        "G_temp = copy.deepcopy(G)\n",
        "overloaded_controllers_temp = copy.deepcopy(overloaded_controllers)\n",
        "switches_to_migrate_temp = copy.deepcopy(switches_to_migrate)\n",
        "switch_to_new_controller_temp = copy.deepcopy(switch_to_new_controller)\n",
        "migrate_switches_Edelta(G_temp, overloaded_controllers_temp, switches_to_migrate_temp, switch_to_new_controller_temp, capacity)\n",
        "#Energy cost after migrate\n",
        "energycostCalculate(G_temp)"
      ],
      "metadata": {
        "colab": {
          "base_uri": "https://localhost:8080/"
        },
        "id": "diSRTgCJBjZH",
        "outputId": "6f2d741d-e657-432c-b4fb-bb98fdced136"
      },
      "execution_count": null,
      "outputs": [
        {
          "output_type": "stream",
          "name": "stdout",
          "text": [
            "Migrating switch 3 from controller 2 to 1\n",
            "Controller load 2 is 2397\n",
            "Migrating switch 9 from controller 2 to 14\n",
            "Controller load 2 is 1996\n",
            "Migrating switch 15 from controller 2 to 18\n",
            "Controller load 2 is 1593\n",
            "Migrating switch 16 from controller 2 to 18\n",
            "Controller load 2 is 1192\n",
            "Migrating switch 8 from controller 13 to 14\n",
            "Controller load 13 is 1177\n",
            "Energy consume from all switches: 8817\n"
          ]
        }
      ]
    },
    {
      "cell_type": "code",
      "source": [],
      "metadata": {
        "id": "hyYpfDzQKGbB"
      },
      "execution_count": null,
      "outputs": []
    }
  ]
}