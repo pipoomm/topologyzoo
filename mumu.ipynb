{
  "nbformat": 4,
  "nbformat_minor": 0,
  "metadata": {
    "colab": {
      "provenance": [],
      "collapsed_sections": [
        "bV4vHeo6DRt0",
        "PtTCyzQg0cHP"
      ],
      "authorship_tag": "ABX9TyNq1l5TcVXdGEvg/9HPV7Jk",
      "include_colab_link": true
    },
    "kernelspec": {
      "name": "python3",
      "display_name": "Python 3"
    },
    "language_info": {
      "name": "python"
    }
  },
  "cells": [
    {
      "cell_type": "markdown",
      "metadata": {
        "id": "view-in-github",
        "colab_type": "text"
      },
      "source": [
        "<a href=\"https://colab.research.google.com/github/pipoomm/topologyzoo/blob/main/mumu.ipynb\" target=\"_parent\"><img src=\"https://colab.research.google.com/assets/colab-badge.svg\" alt=\"Open In Colab\"/></a>"
      ]
    },
    {
      "cell_type": "code",
      "execution_count": 122,
      "metadata": {
        "id": "OO4vUcQu6Aca"
      },
      "outputs": [],
      "source": [
        "import networkx as nx\n",
        "from networkx.algorithms.shortest_paths.astar import astar_path_length\n",
        "\n",
        "import numpy as np\n",
        "import pandas as pd\n",
        "import math\n",
        "from itertools import chain\n",
        "import random\n",
        "\n",
        "import matplotlib.pyplot as plt\n",
        "from matplotlib.colors import ListedColormap\n",
        "from tabulate import tabulate\n",
        "\n",
        "import copy\n",
        "import requests\n",
        "from io import StringIO, BytesIO"
      ]
    },
    {
      "cell_type": "markdown",
      "source": [
        "## Preparing graph"
      ],
      "metadata": {
        "id": "VouoRa50mIRj"
      }
    },
    {
      "cell_type": "markdown",
      "source": [
        "From k-random graph"
      ],
      "metadata": {
        "id": "Jj1cvuHs1veU"
      }
    },
    {
      "cell_type": "code",
      "source": [
        "def read_json_city_from_url(url):\n",
        "  # Fetch JSON city list data from the URL\n",
        "  response = requests.get(url)\n",
        "\n",
        "  # Check if the request was successful\n",
        "  if response.status_code == 200:\n",
        "      # Convert JSON data to a Python list\n",
        "      city_list = response.json()\n",
        "  else:\n",
        "      print(f\"Error fetching data: {response.status_code}\")\n",
        "\n",
        "  return city_list"
      ],
      "metadata": {
        "id": "WYoKx8AA3OIP"
      },
      "execution_count": 285,
      "outputs": []
    },
    {
      "cell_type": "code",
      "source": [
        "# Parameters for the random k-regular graph\n",
        "k = 3   # Degree of each node\n",
        "n = 10  # Number of nodes in the graph\n",
        "\n",
        "# Generate a random k-regular graph\n",
        "G = nx.random_regular_graph(k, n)\n",
        "\n",
        "# Covert to graph with string node labels\n",
        "G = nx.relabel_nodes(G, {node: str(node) for node in G.nodes})"
      ],
      "metadata": {
        "id": "GSdyipOX15c2"
      },
      "execution_count": 288,
      "outputs": []
    },
    {
      "cell_type": "code",
      "source": [
        "# Add city information to node attributes\n",
        "url = \"https://raw.githubusercontent.com/pipoomm/topologyzoo/main/citylist.json\"\n",
        "city_list = read_json_city_from_url(url)\n",
        "\n",
        "node_attributes = {}\n",
        "seed_value = 610615011\n",
        "\n",
        "for i, node in enumerate(G.nodes):\n",
        "    random.seed(seed_value)\n",
        "    random_number = random.randint(0, 205)\n",
        "\n",
        "    node_attributes[str(node)] = {\n",
        "        'Internal': 1,  \n",
        "        'Latitude': city_list[random_number]['latitude'],  \n",
        "        'Country': city_list[random_number]['country'],  \n",
        "        'type': 'node',\n",
        "        'id': int(node),\n",
        "        'Longitude': city_list[random_number]['longitude'], \n",
        "        'label': city_list[random_number]['capital']\n",
        "    }\n",
        "    seed_value *= 3\n",
        "\n",
        "# Set node attributes\n",
        "for node, attributes in node_attributes.items():\n",
        "     for attr_key, attr_value in attributes.items():\n",
        "         G.nodes[node][attr_key] = attr_value"
      ],
      "metadata": {
        "id": "-ukWjTRA18Yf"
      },
      "execution_count": 289,
      "outputs": []
    },
    {
      "cell_type": "markdown",
      "source": [
        "From The Internet Topology Zoo"
      ],
      "metadata": {
        "id": "vcD_sjI41aiv"
      }
    },
    {
      "cell_type": "code",
      "source": [
        "def read_graphml_from_url(url):\n",
        "    # Download the GraphML file\n",
        "    response = requests.get(url)\n",
        "    if response.status_code == 200:\n",
        "        # Parse the GraphML content using NetworkX\n",
        "        graphml_data = response.text\n",
        "        graphml_file = StringIO(graphml_data)\n",
        "        graph = nx.read_graphml(graphml_file)\n",
        "        return graph\n",
        "    else:\n",
        "        raise Exception(f\"Error downloading GraphML file. Status code: {response.status_code}\")"
      ],
      "metadata": {
        "id": "ICCyT6ozj56v"
      },
      "execution_count": 235,
      "outputs": []
    },
    {
      "cell_type": "code",
      "source": [
        "# Topology dataset\n",
        "geant = \"https://raw.githubusercontent.com/pipoomm/topologyzoo/main/Geant2012.graphml\"  # (37 Nodes, 58 Edges)\n",
        "att = \"https://raw.githubusercontent.com/pipoomm/topologyzoo/main/AttMpls.graphml\"      # (25 Nodes, 57 Edges)\n",
        "\n",
        "certnet = \"https://raw.githubusercontent.com/pipoomm/topologyzoo/main/Cernet.graphml\"   # Small network (37 Nodes, 55 Edges)\n",
        "tw = \"https://raw.githubusercontent.com/pipoomm/topologyzoo/main/Tw.graphml\"            # Medium network (76 Nodes, 118 Edges)\n",
        "colt = \"https://raw.githubusercontent.com/pipoomm/topologyzoo/main/Colt.graphml\"        # Large network (149 Node, 178 Edges)\n",
        "\n",
        "# Load GraphML file\n",
        "G = read_graphml_from_url(att)"
      ],
      "metadata": {
        "id": "v2qow5pYldIM"
      },
      "execution_count": 236,
      "outputs": []
    },
    {
      "cell_type": "code",
      "source": [
        "# Find nodes without 'Latitude' or 'Longitude' attributes\n",
        "nodes_to_remove = [n for n, d in G.nodes(data=True) if 'Latitude' not in d or 'Longitude' not in d]\n",
        "\n",
        "# Remove nodes and their connected edges\n",
        "G.remove_nodes_from(nodes_to_remove)"
      ],
      "metadata": {
        "id": "zq8NMWR2-BGR"
      },
      "execution_count": 237,
      "outputs": []
    },
    {
      "cell_type": "markdown",
      "source": [
        "### Attribute added and graph virtualization"
      ],
      "metadata": {
        "id": "AzFWXoKj1f7C"
      }
    },
    {
      "cell_type": "code",
      "source": [
        "# Set the initial role of all nodes to \"none\"\n",
        "roles = {}\n",
        "for n in G.nodes():\n",
        "    roles[n] = \"none\""
      ],
      "metadata": {
        "id": "2xzluSk1GcYD"
      },
      "execution_count": 290,
      "outputs": []
    },
    {
      "cell_type": "code",
      "source": [
        "amount_of_controller = 0\n",
        "amount_of_switch = 0\n",
        "# Repeatedly identify \"controller\" and \"switch\" nodes until all nodes are defined\n",
        "while \"none\" in roles.values():\n",
        "    # Select the node with the highest number of connected neighbors and no role assigned\n",
        "    candidates = [n for n in G.nodes() if roles[n] == \"none\"]\n",
        "    node_degrees = [(n, G.degree(n)) for n in candidates]\n",
        "    node_degrees.sort(key=lambda x: (-x[1], x[0]))\n",
        "    node_i = node_degrees[0][0]\n",
        "\n",
        "    # Assign the \"controller\" role to node i\n",
        "    roles[node_i] = \"controller\"\n",
        "    amount_of_controller += 1\n",
        "\n",
        "    # Assign the \"switch\" role to all 1-hop connected nodes (neighbors) of node i with no role assigned\n",
        "    for neighbor in G.neighbors(node_i):\n",
        "        if roles[neighbor] == \"none\":\n",
        "            roles[neighbor] = \"switch\"\n",
        "            amount_of_switch += 1\n",
        "            \n",
        "# Set the role attribute for each node\n",
        "nx.set_node_attributes(G, roles, \"role\")\n",
        "print(f'Amount of controller: {amount_of_controller}\\nAmount of switch: {amount_of_switch}\\nTotal: {amount_of_controller+amount_of_switch}')"
      ],
      "metadata": {
        "id": "krWD-ZAKJKsH",
        "colab": {
          "base_uri": "https://localhost:8080/"
        },
        "outputId": "168bedd3-8aeb-4799-8d80-5f24d6316e9e"
      },
      "execution_count": 291,
      "outputs": [
        {
          "output_type": "stream",
          "name": "stdout",
          "text": [
            "Amount of controller: 4\n",
            "Amount of switch: 6\n",
            "Total: 10\n"
          ]
        }
      ]
    },
    {
      "cell_type": "code",
      "source": [
        "num_edges = G.number_of_edges()\n",
        "print(\"Number of edges in the graph:\", num_edges)"
      ],
      "metadata": {
        "colab": {
          "base_uri": "https://localhost:8080/"
        },
        "id": "eL20CV_oM2e1",
        "outputId": "ff850082-276b-4581-8947-4493681cd4ed"
      },
      "execution_count": 292,
      "outputs": [
        {
          "output_type": "stream",
          "name": "stdout",
          "text": [
            "Number of edges in the graph: 15\n"
          ]
        }
      ]
    },
    {
      "cell_type": "code",
      "source": [
        "# Print the node roles\n",
        "for n, r in nx.get_node_attributes(G, \"role\").items():\n",
        "    print(f\"Node {n} is a {r}\")"
      ],
      "metadata": {
        "id": "NbAdveNRG0r4"
      },
      "execution_count": null,
      "outputs": []
    },
    {
      "cell_type": "code",
      "source": [
        "for n, data in G.nodes(data=True):\n",
        "    print(f\"Node {type(n)}: {data}\")"
      ],
      "metadata": {
        "id": "_M_vk95SG6ul"
      },
      "execution_count": null,
      "outputs": []
    },
    {
      "cell_type": "code",
      "source": [
        "[n for n in G.neighbors('17')]"
      ],
      "metadata": {
        "id": "OnNGOkdnJ9Io"
      },
      "execution_count": null,
      "outputs": []
    },
    {
      "cell_type": "code",
      "source": [
        "node_positions = {}\n",
        "for node in G.nodes():\n",
        "  label = G.nodes[node]['id']\n",
        "  node_positions[node] = (G.nodes[node]['Longitude'], G.nodes[node]['Latitude'])\n",
        "\n",
        "# Define node colors based on their roles\n",
        "node_colors = {\"controller\": \"#3f84e5\", \"switch\": \"#84e296\"}\n",
        "\n",
        "# Draw the graph with node colors\n",
        "nx.draw(G, node_color=[node_colors[G.nodes[n][\"role\"]] for n in G.nodes()], pos=node_positions, labels={node: G.nodes[node]['label'] for node in G.nodes()},with_labels=True,node_size=300, font_size=9)\n",
        "\n",
        "# Show the plot\n",
        "plt.show()"
      ],
      "metadata": {
        "id": "nPrrHYO0Ball",
        "colab": {
          "base_uri": "https://localhost:8080/",
          "height": 516
        },
        "outputId": "e1be8a56-1f4b-4660-8e5c-4bc30f9dd9f7"
      },
      "execution_count": 293,
      "outputs": [
        {
          "output_type": "display_data",
          "data": {
            "text/plain": [
              "<Figure size 640x480 with 1 Axes>"
            ],
            "image/png": "[encoded data removed]"
          },
          "metadata": {}
        }
      ]
    },
    {
      "cell_type": "markdown",
      "source": [
        "### Stage 1 - Matching switch wth nearest controller"
      ],
      "metadata": {
        "id": "UBNphsn1mgjv"
      }
    },
    {
      "cell_type": "code",
      "source": [
        "def haversine_distance(u, v):\n",
        "    lat1, lon1 = G.nodes[u]['Latitude'], G.nodes[u]['Longitude']\n",
        "    lat2, lon2 = G.nodes[v]['Latitude'], G.nodes[v]['Longitude']\n",
        "    \n",
        "    R = 6371  # Earth's radius in kilometers\n",
        "    \n",
        "    dlat = math.radians(lat2 - lat1)\n",
        "    dlon = math.radians(lon2 - lon1)\n",
        "    \n",
        "    a = (math.sin(dlat / 2) * math.sin(dlat / 2) +\n",
        "         math.cos(math.radians(lat1)) * math.cos(math.radians(lat2)) *\n",
        "         math.sin(dlon / 2) * math.sin(dlon / 2))\n",
        "    \n",
        "    c = 2 * math.atan2(math.sqrt(a), math.sqrt(1 - a))\n",
        "    distance = R * c\n",
        "    return distance"
      ],
      "metadata": {
        "id": "XS8s4vyXaycq"
      },
      "execution_count": 281,
      "outputs": []
    },
    {
      "cell_type": "code",
      "source": [
        "# Step 4: Set `selected_con` attribute for switch nodes\n",
        "def setSelectedCon():\n",
        "  candidate_controllers = [n for n, d in G.nodes(data=True) if d['role'] == \"controller\"]\n",
        "  global switch_to_controller_list\n",
        "  switch_to_controller_list = [] \n",
        "  for node_id in G.nodes():\n",
        "    if G.nodes[node_id]['role'] == 'switch':\n",
        "      hop_counts = []\n",
        "      for con in candidate_controllers:\n",
        "        path = nx.astar_path(G, source=node_id, target=con, heuristic=haversine_distance)\n",
        "        hop_count = len(path) - 1\n",
        "        hop_counts.append([con, hop_count, 0])\n",
        "      sorted_hops = sorted(hop_counts, key=lambda x: (x[1]), reverse=False)\n",
        "      G.nodes[node_id]['selected_con'] = sorted_hops[0][0]\n",
        "      switch_to_controller_list.append([node_id,0]+sorted_hops)\n",
        "\n",
        "setSelectedCon()"
      ],
      "metadata": {
        "id": "lF3CbIJjOfps"
      },
      "execution_count": 282,
      "outputs": []
    },
    {
      "cell_type": "code",
      "source": [
        "switch_to_controller_list"
      ],
      "metadata": {
        "id": "2pGL0h_WOg7U"
      },
      "execution_count": null,
      "outputs": []
    },
    {
      "cell_type": "code",
      "source": [
        "def printSwitchController():\n",
        "    # Find controlled switches for each controller node\n",
        "    controllers = {node_id: [] for node_id in G.nodes() if G.nodes[node_id]['role'] == 'controller'}\n",
        "    switches = {node_id: G.nodes[node_id][\"selected_con\"] for node_id in G.nodes() if G.nodes[node_id]['role'] == 'switch'}\n",
        "    controlled_switches = {controller: [switch for switch, selected_con in switches.items() if selected_con == controller] for controller in controllers}\n",
        "\n",
        "    # Print the list of controlled switches for each controller node\n",
        "    # Create a list to store the table rows\n",
        "    table_rows = []\n",
        "\n",
        "    # Iterate over the controlled switches for each controller node\n",
        "    for controller_id, switches in controlled_switches.items():\n",
        "        # Combine the switch IDs into a single string separated by commas\n",
        "        switch_list = ', '.join(switch_id for switch_id in switches)\n",
        "        \n",
        "        # Add a row to the table with the controller ID and the combined switch list\n",
        "        table_rows.append([controller_id, switch_list])\n",
        "\n",
        "    # Define the table headers\n",
        "    headers = [\"Controller node\", \"Switch nodes\"]\n",
        "\n",
        "    # Print the table using tabulate\n",
        "    print(tabulate(table_rows, headers=headers))"
      ],
      "metadata": {
        "id": "hZ0YtusXgzZb"
      },
      "execution_count": 283,
      "outputs": []
    },
    {
      "cell_type": "code",
      "source": [
        "printSwitchController()"
      ],
      "metadata": {
        "id": "Y8DK2zDYTIa4",
        "colab": {
          "base_uri": "https://localhost:8080/"
        },
        "outputId": "0b015e35-1a1b-4597-e34a-5173d7bf6a20"
      },
      "execution_count": 284,
      "outputs": [
        {
          "output_type": "stream",
          "name": "stdout",
          "text": [
            "  Controller node  Switch nodes\n",
            "-----------------  --------------\n",
            "               17  7, 67, 2\n",
            "               34  65, 40, 44\n",
            "               28  27, 66\n",
            "               12  25, 42, 15\n",
            "                4  30, 50, 61\n",
            "               37  52\n",
            "               14  53, 36\n",
            "               10  48, 39\n",
            "               16  22, 8, 9\n",
            "               13  35, 21\n",
            "               19\n",
            "               47  33, 58\n",
            "               11  68, 32\n",
            "               20\n",
            "               31  49, 45\n",
            "                1  64, 43\n",
            "               18\n",
            "               69  5\n",
            "                0  26\n",
            "               23  59\n",
            "               57  56\n",
            "                3  51, 55\n",
            "               29  62\n",
            "               41\n",
            "               54  63\n",
            "               46  6\n",
            "               24  38\n",
            "               60\n"
          ]
        }
      ]
    },
    {
      "cell_type": "code",
      "source": [
        "def findHopcount(switch_source, controller_dest):\n",
        "    matching_switch = next((item for item in switch_to_controller_list if item[0] == switch_source), None)\n",
        "\n",
        "    if matching_switch:\n",
        "        hop_count = next((j[1] for j in matching_switch[2:] if j[0] == controller_dest), None)\n",
        "        return hop_count\n",
        "\n",
        "    return None"
      ],
      "metadata": {
        "id": "7jNv3Zovr6o5"
      },
      "execution_count": null,
      "outputs": []
    },
    {
      "cell_type": "code",
      "source": [
        "setSelectedCon()"
      ],
      "metadata": {
        "id": "tN5Jvjsb-7E6"
      },
      "execution_count": null,
      "outputs": []
    },
    {
      "cell_type": "markdown",
      "source": [
        "# Update controller and switch (Stage 2 - Load balancing for overload controller)\n",
        "\n"
      ],
      "metadata": {
        "id": "JlXsSTg0mUTH"
      }
    },
    {
      "cell_type": "code",
      "source": [
        "def findSwitchtoMigrateList():\n",
        "  #List of ovelload controlller and swich that need to do migation list\n",
        "  switches_to_migrate = {}\n",
        "  overloaded_controllers = [node for node in G.nodes() if G.nodes[node]['role'] == 'controller' and controller_loads[node] > capacity]\n",
        "  for node in G.nodes():\n",
        "    if G.nodes[node]['role'] == 'switch' and G.nodes[node]['selected_con'] in overloaded_controllers:\n",
        "      overloaded_controller = G.nodes[node]['selected_con']\n",
        "      if overloaded_controller not in switches_to_migrate:\n",
        "        switches_to_migrate[overloaded_controller] = []\n",
        "      switches_to_migrate[overloaded_controller].append([node,packet_amount[node]])\n",
        "      # switches_to_migrate[node] = packet_amount[node]\n",
        "  \n",
        "  # Sort the keys of switches_to_migrate based on the values in controller_loads\n",
        "  sorted_keys = sorted(switches_to_migrate.keys(), key=lambda x: controller_loads[x], reverse=True)\n",
        "\n",
        "  # Reconstruct the switches_to_migrate dictionary using the sorted keys\n",
        "  sorted_switches_to_migrate = {key: switches_to_migrate[key] for key in sorted_keys}\n",
        "  \n",
        "  return(sorted_switches_to_migrate)\n",
        "# {'Overload ControllerID : [['SwitchID','Switch load'], ['SwitchID','Switch load'] ]'}"
      ],
      "metadata": {
        "id": "iwtyMfux2SDm"
      },
      "execution_count": null,
      "outputs": []
    },
    {
      "cell_type": "code",
      "source": [
        "def findCandidateControllerList(switches_to_migrate):\n",
        "    # Find new candidate controllers for overloaded controllers\n",
        "    switch_to_candidate_controller = []\n",
        "    \n",
        "    for overload_controller, switches in switches_to_migrate.items():\n",
        "        candidate_controllers = []\n",
        "        \n",
        "        for switch, load in switches:\n",
        "            selected_con = overload_controller\n",
        "            conlist = next((item for item in switch_to_controller_list if item[0] == switch), None)\n",
        "            \n",
        "            if conlist:\n",
        "                hop_count = [\n",
        "                    [con[0], con[1], capacity - controller_loads[con[0]]] for con in conlist[2:]\n",
        "                    if con[0] != selected_con and controller_loads[con[0]] < capacity\n",
        "                ]\n",
        "                \n",
        "                sorted_hop_count = sorted(hop_count, key=lambda x: (x[1], -x[2]))\n",
        "                switch_to_candidate_controller.append([switch, load] + sorted_hop_count)\n",
        "    \n",
        "    return switch_to_candidate_controller\n",
        "# ['SwitchID', 'Switch load', ['Dest.ControllerID', 'Hop count from switch to controller', 'Controller capacity left']]"
      ],
      "metadata": {
        "id": "X3gGykuJqVDP"
      },
      "execution_count": null,
      "outputs": []
    },
    {
      "cell_type": "code",
      "source": [
        "switch_to_candidate_controller = findCandidateControllerList(switches_to_migrate)\n",
        "# Show candidate controller list of switch that connected with overload controller\n",
        "for i in switch_to_candidate_controller:\n",
        "    print(f\"Switch {i[0]} ({i[1]} pps) can migrate to the following controllers:\")\n",
        "    \n",
        "    # Create a list of dictionaries for tabulate\n",
        "    data = [\n",
        "        {\"Controller\": con[0], \"Hop count\": con[1], \"Capacity left\": con[2]} for con in i[2:]\n",
        "    ]\n",
        "    \n",
        "    # Print the table\n",
        "    print(tabulate(data, headers=\"keys\"))\n",
        "    print()"
      ],
      "metadata": {
        "id": "HsTJe1WgzWqH"
      },
      "execution_count": null,
      "outputs": []
    },
    {
      "cell_type": "markdown",
      "source": [
        "## Min-Knapsack"
      ],
      "metadata": {
        "id": "tMx6317XZ2aq"
      }
    },
    {
      "cell_type": "markdown",
      "source": [
        "### By sorting lowest delta_E"
      ],
      "metadata": {
        "id": "bV4vHeo6DRt0"
      }
    },
    {
      "cell_type": "code",
      "source": [
        "def min_knapsack2_mod(switches_to_migrate, capacity):\n",
        "    # Calculate the target load for each overloaded controller (weight of knapsack)\n",
        "    target_loads = {overloaded_controller: controller_loads[overloaded_controller] - (0.9 * capacity) for overloaded_controller in switches_to_migrate}\n",
        "    print(f'target_loads: {target_loads}')\n",
        "\n",
        "    # Initialize the result dictionary that `min_knapsack2` will return as an output of this function\n",
        "    delta_E_per_controller = {}\n",
        "\n",
        "    for overloaded_controllers in switches_to_migrate:\n",
        "      x1 = []\n",
        "      switches = {switch[0]: switch[1] for switch in switches_to_migrate[overloaded_controllers]}\n",
        "      switch_to_candidate_controller = findCandidateControllerList(switches_to_migrate)\n",
        "\n",
        "      for switch, load in switches.items():\n",
        "        # Find the corresponding candidate controllers list for this switch\n",
        "        controller_candidates = [ candidate for item in switch_to_candidate_controller if item[0] == switch and overloaded_controllers == G.nodes[switch][\"selected_con\"] for candidate in item[2:] if candidate[2] >= load]\n",
        "        # Calculate delta_E for each candidate controller\n",
        "        delta_Es = [[switch, candidate[0], load * (candidate[1] - findHopcount(switch_source=switch, controller_dest=overloaded_controllers))] for candidate in controller_candidates]\n",
        "        if delta_Es:\n",
        "          min_element = min(delta_Es, key=lambda x: x[2])\n",
        "          result = [min_element]\n",
        "          x1.append(result)\n",
        "      x1 = sorted(x1, key=lambda x: min(sublist[2] for sublist in x))\n",
        "      print(f'from con{overloaded_controllers}: {x1}')\n",
        "\n",
        "      x2 = []\n",
        "      controller_load_update = {}\n",
        "      total_loads = 0\n",
        "      for sublist in x1:\n",
        "        passed_condition = True\n",
        "        new_total_loads = total_loads\n",
        "        for switch, con, delta_E in sublist:\n",
        "          passed_condition = True\n",
        "          new_total_loads = total_loads\n",
        "          for switch, con, delta_E in sublist:\n",
        "            if switch in switches and new_total_loads < target_loads[overloaded_controllers]:\n",
        "                new_total_loads += switches[switch]\n",
        "                load = switches[switch]\n",
        "                if con in controller_load_update:\n",
        "                    controller_load_update[con] += load\n",
        "                else:\n",
        "                    controller_load_update[con] = load\n",
        "            else:\n",
        "                passed_condition = False\n",
        "                break\n",
        "          \n",
        "          if passed_condition:\n",
        "              x2.append(sublist)\n",
        "              total_loads = new_total_loads\n",
        "\n",
        "      # Update controller load before going next overload controller \n",
        "      controller_loads[overloaded_controllers] -= total_loads\n",
        "      for key in controller_load_update:\n",
        "        controller_loads[key] += controller_load_update[key]\n",
        "\n",
        "      if overloaded_controllers in delta_E_per_controller:\n",
        "          delta_E_per_controller[overloaded_controllers].append(x2)\n",
        "      else:\n",
        "          delta_E_per_controller[overloaded_controllers] = x2\n",
        "    \n",
        "    return delta_E_per_controller"
      ],
      "metadata": {
        "id": "pTi9fCa-yDxf"
      },
      "execution_count": null,
      "outputs": []
    },
    {
      "cell_type": "code",
      "source": [
        "result = min_knapsack2_mod(switches_to_migrate, capacity)\n",
        "result"
      ],
      "metadata": {
        "id": "7S-0mNMvyKav",
        "colab": {
          "base_uri": "https://localhost:8080/"
        },
        "outputId": "b005215f-b831-4f2b-deb0-91584757fa61"
      },
      "execution_count": null,
      "outputs": [
        {
          "output_type": "stream",
          "name": "stdout",
          "text": [
            "target_loads: {'13': 1111.0, '2': 1042.0, '7': 1013.0, '18': 338.0, '1': 255.0, '14': 181.0}\n",
            "from con13: [[['12', '24', 0]], [['22', '24', 0]], [['8', '24', 772]]]\n",
            "from con2: [[['15', '19', 376]], [['16', '19', 432]], [['9', '19', 710]]]\n",
            "from con7: []\n",
            "from con18: []\n",
            "from con1: []\n",
            "from con14: []\n"
          ]
        },
        {
          "output_type": "execute_result",
          "data": {
            "text/plain": [
              "{'13': [[['12', '24', 0]], [['22', '24', 0]], [['8', '24', 772]]],\n",
              " '2': [[['15', '19', 376]], [['16', '19', 432]], [['9', '19', 710]]],\n",
              " '7': [],\n",
              " '18': [],\n",
              " '1': [],\n",
              " '14': []}"
            ]
          },
          "metadata": {},
          "execution_count": 63
        }
      ]
    },
    {
      "cell_type": "markdown",
      "source": [
        "### sim"
      ],
      "metadata": {
        "id": "um_DaevYzI0J"
      }
    },
    {
      "cell_type": "code",
      "source": [
        "# Define the packet handling capacity for controllers (1500 packets/second)\n",
        "capacity = 1500\n",
        "\n",
        "# Find all controller nodes\n",
        "controllers = [n for n, d in G.nodes(data=True) if d['role'] == \"controller\"]\n",
        "\n",
        "# Dictionary to keep track of controller loads\n",
        "controller_loads = {c: 0 for c in controllers}\n",
        "\n",
        "packet_amount = {}\n",
        "\n",
        "seed = 650631030  # seed value for reproducibility\n",
        "packet_rate = 505    # average rate or expected value\n",
        "size = amount_of_switch  # number of switch\n",
        "packet_size = {}\n",
        "\n",
        "for t in range(10):\n",
        "  # Creating a random number generator with a fixed seed\n",
        "  rng = np.random.default_rng(seed)\n",
        "  seed *= seed\n",
        "  \n",
        "  # Generating values from a Poisson distribution using the seeded generator\n",
        "  packet_size[t] = rng.poisson(lam=packet_rate, size=size)\n",
        "  print(f\"Generated Poisson samples with fixed seed t={t+1}: {packet_size[t]}\")\n",
        "  packetsum = sum(packet_size[t])\n",
        "  print(f'Sum of packet size: {packetsum}')"
      ],
      "metadata": {
        "id": "dyLw9leXzLE7",
        "colab": {
          "base_uri": "https://localhost:8080/"
        },
        "outputId": "c5832828-2c4a-454a-db4b-fdc10ecea8fe"
      },
      "execution_count": null,
      "outputs": [
        {
          "output_type": "stream",
          "name": "stdout",
          "text": [
            "Generated Poisson samples with fixed seed t=1: [501 477 520 487 535 557 490 467 488 492 546 512 492 488 586 517 473]\n",
            "Sum of packet size: 8628\n",
            "Generated Poisson samples with fixed seed t=2: [522 518 522 496 511 499 509 476 544 483 574 495 512 533 485 550 523]\n",
            "Sum of packet size: 8752\n",
            "Generated Poisson samples with fixed seed t=3: [466 499 537 478 481 489 502 534 511 516 508 530 497 493 514 511 514]\n",
            "Sum of packet size: 8580\n",
            "Generated Poisson samples with fixed seed t=4: [470 520 522 553 516 493 551 542 523 526 502 527 483 456 501 538 483]\n",
            "Sum of packet size: 8706\n",
            "Generated Poisson samples with fixed seed t=5: [496 518 475 494 543 488 474 513 495 498 508 500 439 526 473 489 503]\n",
            "Sum of packet size: 8432\n",
            "Generated Poisson samples with fixed seed t=6: [482 514 511 503 498 548 469 471 498 531 539 462 475 525 517 513 510]\n",
            "Sum of packet size: 8566\n",
            "Generated Poisson samples with fixed seed t=7: [495 483 475 480 474 528 522 490 482 528 470 524 523 542 472 534 544]\n",
            "Sum of packet size: 8566\n",
            "Generated Poisson samples with fixed seed t=8: [504 500 533 510 522 501 523 497 515 526 533 503 470 476 500 486 480]\n",
            "Sum of packet size: 8579\n",
            "Generated Poisson samples with fixed seed t=9: [500 503 465 524 495 467 504 529 513 496 548 499 541 483 547 520 503]\n",
            "Sum of packet size: 8637\n",
            "Generated Poisson samples with fixed seed t=10: [529 490 496 518 525 515 481 534 514 515 533 536 535 517 529 550 471]\n",
            "Sum of packet size: 8788\n"
          ]
        }
      ]
    },
    {
      "cell_type": "code",
      "source": [
        "# Simulate packet generation and handling for a given number of seconds (e.g. 10 seconds)\n",
        "sim_time = 1\n",
        "setSelectedCon()\n",
        "for i in range(sim_time):\n",
        "    # Generate packets for each switch and send to its selected controller\n",
        "    k = 0\n",
        "    for node in G.nodes():\n",
        "        if G.nodes[node]['role'] == 'switch':\n",
        "            selected_con = G.nodes[node]['selected_con']\n",
        "            packet_count = packet_size[i][k]\n",
        "            k += 1\n",
        "            packet_amount[node] = packet_count\n",
        "            controller_loads[selected_con] += packet_count\n",
        "            print(f\"Switch {node} generated {packet_count} packets and sent to controller {selected_con}\")\n",
        "\n",
        "    # Update controller load every second\n",
        "    if i % 1 == 0:\n",
        "        print()\n",
        "        print(\"Controller loads after\", i+1, \"seconds:\")\n",
        "        print(f\"Controller capacity: {capacity}\",end='\\n\\n')\n",
        "        for node in G.nodes():\n",
        "            if G.nodes[node]['role'] == 'controller':\n",
        "                print(f\"Controller {node} load: {controller_loads[node]} pps\")\n",
        "                if controller_loads[node] > capacity:\n",
        "                  print(f\"Controller {node} is overloaded!\")\n",
        "        print()"
      ],
      "metadata": {
        "colab": {
          "base_uri": "https://localhost:8080/"
        },
        "id": "EjsCQaEkzUb0",
        "outputId": "f28983c8-49d3-4c4d-b013-7dfa40af5e08"
      },
      "execution_count": null,
      "outputs": [
        {
          "output_type": "stream",
          "name": "stdout",
          "text": [
            "Switch 0 generated 501 packets and sent to controller 1\n",
            "Switch 3 generated 477 packets and sent to controller 2\n",
            "Switch 4 generated 520 packets and sent to controller 7\n",
            "Switch 5 generated 487 packets and sent to controller 7\n",
            "Switch 6 generated 535 packets and sent to controller 1\n",
            "Switch 8 generated 557 packets and sent to controller 13\n",
            "Switch 9 generated 490 packets and sent to controller 2\n",
            "Switch 10 generated 467 packets and sent to controller 13\n",
            "Switch 11 generated 488 packets and sent to controller 13\n",
            "Switch 12 generated 492 packets and sent to controller 13\n",
            "Switch 15 generated 546 packets and sent to controller 2\n",
            "Switch 16 generated 512 packets and sent to controller 2\n",
            "Switch 17 generated 492 packets and sent to controller 2\n",
            "Switch 20 generated 488 packets and sent to controller 2\n",
            "Switch 21 generated 586 packets and sent to controller 2\n",
            "Switch 22 generated 517 packets and sent to controller 13\n",
            "Switch 23 generated 473 packets and sent to controller 24\n",
            "\n",
            "Controller loads after 1 seconds:\n",
            "Controller capacity: 1500\n",
            "\n",
            "Controller 1 load: 1036 pps\n",
            "Controller 2 load: 3591 pps\n",
            "Controller 2 is overloaded!\n",
            "Controller 7 load: 1007 pps\n",
            "Controller 13 load: 2521 pps\n",
            "Controller 13 is overloaded!\n",
            "Controller 14 load: 0 pps\n",
            "Controller 18 load: 0 pps\n",
            "Controller 19 load: 0 pps\n",
            "Controller 24 load: 473 pps\n",
            "\n"
          ]
        }
      ]
    },
    {
      "cell_type": "code",
      "source": [
        "switches_to_migrate = findSwitchtoMigrateList()\n",
        "switch_to_candidate_controller = findCandidateControllerList(switches_to_migrate)"
      ],
      "metadata": {
        "id": "OoTzb9_izd8F"
      },
      "execution_count": null,
      "outputs": []
    },
    {
      "cell_type": "markdown",
      "source": [
        "### By using min-knapsack soving algorithm (**dynamic programming** approach)"
      ],
      "metadata": {
        "id": "eA7BxkntdMTR"
      }
    },
    {
      "cell_type": "code",
      "source": [
        "def min_knapsack_GPT(target_weight, items):\n",
        "    # Get the number of items\n",
        "    n = len(items)\n",
        "    \n",
        "    # Calculate the maximum possible weight and initialize the dynamic programming table\n",
        "    sum_total_weight = 0\n",
        "    for x in items:\n",
        "      sum_total_weight += x[1]\n",
        "      if sum_total_weight >= target_weight:\n",
        "        break\n",
        "    \n",
        "    init_max_weight = sum_total_weight + 1\n",
        "    print(f'init_max_weight: {init_max_weight}')\n",
        "\n",
        "    dp = [[float('inf')] * init_max_weight for _ in range(n + 1)]\n",
        "\n",
        "    # Initialize the first column of the table with 0\n",
        "    for i in range(n + 1):\n",
        "        dp[i][0] = 0\n",
        "\n",
        "    # Iterate through the items and fill in the dynamic programming table\n",
        "    for i in range(1, n + 1):\n",
        "        weight, value = items[i - 1][1], items[i - 1][3]\n",
        "        for j in range(init_max_weight):\n",
        "            if weight <= j:\n",
        "                # If the item can be included, find the minimum value with or without the item\n",
        "                dp[i][j] = min(dp[i - 1][j], dp[i - 1][j - weight] + value)\n",
        "            else:\n",
        "                # If the item cannot be included, the value remains the same as the previous row\n",
        "                dp[i][j] = dp[i - 1][j]\n",
        "\n",
        "    # Find the minimum value for the target weight or greater\n",
        "    min_value = float('inf')\n",
        "    min_weight = -1\n",
        "\n",
        "    # Loop over each possible weight of the knapsack, starting from 0, and extract the corresponding minimum value from the last row of the dp list\n",
        "    for weight, value in enumerate(dp[n][target_weight:], start=target_weight):\n",
        "        if value < min_value:\n",
        "            min_value = value\n",
        "            min_weight = weight\n",
        "\n",
        "    # If there is no solution, return -1 and an empty list\n",
        "    if min_value == float('inf'):\n",
        "        return -1, []\n",
        "\n",
        "    # Backtrack through the dynamic programming table to find the selected items\n",
        "    selected_items = []\n",
        "    i, j = n, min_weight\n",
        "    while i > 0 and j > 0:\n",
        "        if dp[i][j] != dp[i - 1][j]:\n",
        "            selected_items.append([items[i - 1][0],items[i - 1][2],items[i - 1][3]])\n",
        "            j -= items[i - 1][1]\n",
        "        i -= 1\n",
        "\n",
        "    # Return the minimum value and the selected items\n",
        "    return min_value, selected_items, min_weight"
      ],
      "metadata": {
        "id": "XMWWVvBkY2Ez"
      },
      "execution_count": null,
      "outputs": []
    },
    {
      "cell_type": "code",
      "source": [
        "def min_knapsack3_dp(switches_to_migrate, capacity):\n",
        "    # Calculate the target load for each overloaded controller (weight of knapsack)\n",
        "    target_loads = {overloaded_controller: controller_loads[overloaded_controller] - (1 * capacity) for overloaded_controller in switches_to_migrate}\n",
        "    print(f'target_loads: {target_loads}')\n",
        "\n",
        "    # Initialize the result dictionary that `min_knapsack2` will return as an output of this function\n",
        "    delta_E_per_controller = {}\n",
        "\n",
        "    for overloaded_controllers in switches_to_migrate:\n",
        "      x1 = []\n",
        "      controller_candidates = []\n",
        "      switches = {switch[0]: switch[1] for switch in switches_to_migrate[overloaded_controllers]}\n",
        "      switch_to_candidate_controller = findCandidateControllerList(switches_to_migrate)\n",
        "\n",
        "      for switch, load in switches.items():\n",
        "        # Find the corresponding candidate controllers list for this switch\n",
        "        for item in switch_to_candidate_controller:\n",
        "          if item[0] == switch and overloaded_controllers == G.nodes[switch]['selected_con']:\n",
        "              filtered_candidates = []\n",
        "              for candidate in item[2:]:\n",
        "                if candidate[2] >= load:\n",
        "                    filtered_candidates.append(candidate)\n",
        "                controller_candidates = filtered_candidates\n",
        "              break\n",
        "\n",
        "        # Calculate delta_E for each candidate controller\n",
        "        delta_Es = [[switch, load, candidate[0], load * (candidate[1] - findHopcount(switch_source=switch, controller_dest=overloaded_controllers))] for candidate in controller_candidates]\n",
        "        # Select pairs of switch and controller with highest capacity controller left and lowest delta_E of each switch to filtered out of duplicate switch\n",
        "        \n",
        "        if delta_Es:\n",
        "          min_element = min(delta_Es, key=lambda x: x[3])\n",
        "          result = min_element\n",
        "          x1.append(result)\n",
        "      sorted_x1 = sorted(x1, key=lambda sublist: sublist[3])\n",
        "      print(f'sorted_x1: {sorted_x1}')\n",
        "      result_x1, x1, total_loads = min_knapsack_GPT(target_loads[overloaded_controllers], sorted_x1)\n",
        "      print(f'\\n Selected it: {x1}')\n",
        "      print(f\"Minimum value (sum delta_E): {result_x1}\")\n",
        "      print(f\"Weight (sum switches load): {total_loads}\")\n",
        "\n",
        "      # controller_load_update = {}\n",
        "      # for switch, con, delta_E in x1:\n",
        "      #   load = switches[switch]\n",
        "      #   if con in controller_load_update:\n",
        "      #       controller_load_update[con] += load\n",
        "      #   else:\n",
        "      #       controller_load_update[con] = load\n",
        "      # Update controller load before going next overload controller \n",
        "      # controller_loads[overloaded_controllers] -= total_loads\n",
        "      # for key in controller_load_update:\n",
        "      #   controller_loads[key] += controller_load_update[key]\n",
        "\n",
        "      if overloaded_controllers in delta_E_per_controller:\n",
        "          delta_E_per_controller[overloaded_controllers].append(x1)\n",
        "      else:\n",
        "          delta_E_per_controller[overloaded_controllers] = x1\n",
        "\n",
        "    return delta_E_per_controller"
      ],
      "metadata": {
        "id": "Tx8yVo5WdRfi"
      },
      "execution_count": null,
      "outputs": []
    },
    {
      "cell_type": "code",
      "source": [
        "result2 = min_knapsack3_dp(switches_to_migrate, capacity)\n",
        "print(result2)"
      ],
      "metadata": {
        "id": "ExP73tlSdixf",
        "colab": {
          "base_uri": "https://localhost:8080/"
        },
        "outputId": "fd00e6d8-fd55-474d-b78b-e62a41335bfb"
      },
      "execution_count": null,
      "outputs": [
        {
          "output_type": "stream",
          "name": "stdout",
          "text": [
            "target_loads: {'2': 2091, '13': 1021}\n",
            "sorted_x1: [['20', 488, '19', 488], ['17', 492, '18', 492], ['21', 586, '18', 586], ['3', 477, '7', 954], ['9', 490, '14', 980], ['16', 512, '18', 1024], ['15', 546, '18', 1092]]\n",
            "init_max_weight: 2534\n",
            "\n",
            " Selected it: [['15', '18', 1092], ['21', '18', 586], ['17', '18', 492], ['20', '19', 488]]\n",
            "Minimum value (sum delta_E): 2658\n",
            "Weight (sum switches load): 2112\n",
            "sorted_x1: [['10', 467, '14', 467], ['11', 488, '14', 488], ['12', 492, '24', 492], ['22', 517, '24', 517], ['8', 557, '14', 1114]]\n",
            "init_max_weight: 1448\n",
            "\n",
            " Selected it: [['12', '24', 492], ['11', '14', 488], ['10', '14', 467]]\n",
            "Minimum value (sum delta_E): 1447\n",
            "Weight (sum switches load): 1447\n",
            "{'2': [['15', '18', 1092], ['21', '18', 586], ['17', '18', 492], ['20', '19', 488]], '13': [['12', '24', 492], ['11', '14', 488], ['10', '14', 467]]}\n"
          ]
        }
      ]
    },
    {
      "cell_type": "markdown",
      "source": [
        "### By using min-knapsack soving algorithm (**greedy** approach)"
      ],
      "metadata": {
        "id": "PtTCyzQg0cHP"
      }
    },
    {
      "cell_type": "code",
      "source": [
        "def min_knapsack_GPT2(target_weight, items):\n",
        "    n = len(items)\n",
        "    ratios = [(items[i][3]/items[i][1], items[i][1], items[i][3], i) for i in range(n)]\n",
        "    ratios.sort()\n",
        "    total_weight = 0\n",
        "    total_value = 0\n",
        "    knapsack = []\n",
        "    for i in range(n):\n",
        "        if total_weight + ratios[i][1] <= target_weight:\n",
        "            total_weight += ratios[i][1]\n",
        "            total_value += ratios[i][2]\n",
        "            knapsack.append(ratios[i][3])\n",
        "        else:\n",
        "            break\n",
        "    while total_weight < target_weight:\n",
        "        total_weight += ratios[i][1]\n",
        "        total_value += ratios[i][2]\n",
        "        knapsack.append(ratios[i][3])\n",
        "    knapsack_items = [[items[i][0], items[i][2], items[i][3]] for i in knapsack]\n",
        "\n",
        "    return total_value, total_weight, knapsack_items"
      ],
      "metadata": {
        "id": "DUqnFmi60htW"
      },
      "execution_count": null,
      "outputs": []
    },
    {
      "cell_type": "code",
      "source": [
        "def min_knapsack3_gd(switches_to_migrate, capacity):\n",
        "    # Calculate the target load for each overloaded controller (weight of knapsack)\n",
        "    target_loads = {overloaded_controller: controller_loads[overloaded_controller] - (1* capacity) for overloaded_controller in switches_to_migrate}\n",
        "    print(f'target_loads: {target_loads}')\n",
        "\n",
        "    # Initialize the result dictionary that `min_knapsack2` will return as an output of this function\n",
        "    delta_E_per_controller = {}\n",
        "\n",
        "    for overloaded_controllers in switches_to_migrate:\n",
        "      x1 = []\n",
        "      switches = {switch[0]: switch[1] for switch in switches_to_migrate[overloaded_controllers]}\n",
        "      switch_to_candidate_controller = findCandidateControllerList(switches_to_migrate)\n",
        "\n",
        "      for switch, load in switches.items():\n",
        "        # Find the corresponding candidate controllers list for this switch\n",
        "        controller_candidates = [ candidate for item in switch_to_candidate_controller if item[0] == switch and overloaded_controllers == G.nodes[switch][\"selected_con\"] for candidate in item[2:] if candidate[2] >= load]\n",
        "        # Calculate delta_E for each candidate controller\n",
        "        delta_Es = [[switch, load, candidate[0], load * (candidate[1] - findHopcount(switch_source=switch, controller_dest=overloaded_controllers))] for candidate in controller_candidates]\n",
        "        # Select pairs of switch and controller with highest capacity controller left and lowest delta_E of each switch to filtered out of duplicate switch\n",
        "        if delta_Es:\n",
        "          min_element = min(delta_Es, key=lambda x: x[3])\n",
        "          result = min_element\n",
        "          x1.append(result)\n",
        "      print(f'\\nx1: {x1}')\n",
        "      result_x1, load, x1 = min_knapsack_GPT2(target_loads[overloaded_controllers], x1)\n",
        "\n",
        "      print(\"Minimum cost:\", result_x1)\n",
        "      print(\"Total weight of the knapsack:\", load)\n",
        "      print(\"Selected items:\", x1)\n",
        "\n",
        "      # controller_load_update = {}\n",
        "      # for switch, con, delta_E in x1:\n",
        "      #   load = switches[switch]\n",
        "      #   if con in controller_load_update:\n",
        "      #       controller_load_update[con] += load\n",
        "      #   else:\n",
        "      #       controller_load_update[con] = load\n",
        "      # Update controller load before going next overload controller \n",
        "      # controller_loads[overloaded_controllers] -= total_loads\n",
        "      # for key in controller_load_update:\n",
        "      #   controller_loads[key] += controller_load_update[key]\n",
        "\n",
        "      if overloaded_controllers in delta_E_per_controller:\n",
        "          delta_E_per_controller[overloaded_controllers].append(x1)\n",
        "      else:\n",
        "          delta_E_per_controller[overloaded_controllers] = x1\n",
        "\n",
        "    \n",
        "    return delta_E_per_controller"
      ],
      "metadata": {
        "id": "ZrNTAGFe0n4i"
      },
      "execution_count": null,
      "outputs": []
    },
    {
      "cell_type": "code",
      "source": [
        "result3 = min_knapsack3_gd(switches_to_migrate, capacity)\n",
        "result3"
      ],
      "metadata": {
        "colab": {
          "base_uri": "https://localhost:8080/"
        },
        "id": "x0F0Os2u02o1",
        "outputId": "4c56d665-d846-4458-cfc0-11d0cfe780d7"
      },
      "execution_count": null,
      "outputs": [
        {
          "output_type": "stream",
          "name": "stdout",
          "text": [
            "target_loads: {'2': 2091, '13': 1021}\n",
            "\n",
            "x1: [['3', 477, '7', 477], ['9', 490, '14', 490], ['15', 546, '18', 546], ['16', 512, '18', 512], ['17', 492, '18', 0], ['20', 488, '19', 0], ['21', 586, '18', 0]]\n",
            "[(1.0, 477, 477, 0), (1.0, 490, 490, 1), (1.0, 546, 546, 2), (1.0, 512, 512, 3), (0.0, 492, 0, 4), (0.0, 488, 0, 5), (0.0, 586, 0, 6)]\n",
            "[(0.0, 488, 0, 5), (0.0, 492, 0, 4), (0.0, 586, 0, 6), (1.0, 477, 477, 0), (1.0, 490, 490, 1), (1.0, 512, 512, 3), (1.0, 546, 546, 2)]\n",
            "Minimum cost: 967\n",
            "Total weight of the knapsack: 2533\n",
            "Selected items: [['20', '19', 0], ['17', '18', 0], ['21', '18', 0], ['3', '7', 477], ['9', '14', 490]]\n",
            "\n",
            "x1: [['8', 557, '14', 557], ['10', 467, '14', 0], ['11', 488, '14', 0], ['12', 492, '24', 0], ['22', 517, '24', 0]]\n",
            "[(1.0, 557, 557, 0), (0.0, 467, 0, 1), (0.0, 488, 0, 2), (0.0, 492, 0, 3), (0.0, 517, 0, 4)]\n",
            "[(0.0, 467, 0, 1), (0.0, 488, 0, 2), (0.0, 492, 0, 3), (0.0, 517, 0, 4), (1.0, 557, 557, 0)]\n",
            "Minimum cost: 0\n",
            "Total weight of the knapsack: 1447\n",
            "Selected items: [['10', '14', 0], ['11', '14', 0], ['12', '24', 0]]\n"
          ]
        },
        {
          "output_type": "execute_result",
          "data": {
            "text/plain": [
              "{'2': [['20', '19', 0],\n",
              "  ['17', '18', 0],\n",
              "  ['21', '18', 0],\n",
              "  ['3', '7', 477],\n",
              "  ['9', '14', 490]],\n",
              " '13': [['10', '14', 0], ['11', '14', 0], ['12', '24', 0]]}"
            ]
          },
          "metadata": {},
          "execution_count": 101
        }
      ]
    },
    {
      "cell_type": "markdown",
      "source": [
        "### Greedy approach (Fill lowest hop item first)"
      ],
      "metadata": {
        "id": "7_VemJRFrcNp"
      }
    },
    {
      "cell_type": "code",
      "source": [
        "def lhf_gd(target_weight, items):\n",
        "  n = len(items)\n",
        "  total_weight = 0\n",
        "  items_list = [(items[i][1], i) for i in range(n)]\n",
        "\n",
        "  knapsack = []\n",
        "  knapsack_items = []\n",
        "\n",
        "  for i in range(n):\n",
        "      if total_weight + items_list[i][0] <= target_weight:\n",
        "          total_weight += items_list[i][0]\n",
        "          knapsack.append(items_list[i][1])\n",
        "      else:\n",
        "          break\n",
        "  while total_weight < target_weight:\n",
        "      total_weight += items_list[i][0]\n",
        "      knapsack.append(items_list[i][1])\n",
        "\n",
        "  knapsack_items = [[items[i][0], items[i][2], items[i][4]] for i in knapsack]\n",
        "\n",
        "  return total_weight, knapsack_items"
      ],
      "metadata": {
        "id": "c1QEVX0sy-oc"
      },
      "execution_count": null,
      "outputs": []
    },
    {
      "cell_type": "code",
      "source": [
        "def fill_lowest_gd(switches_to_migrate, capacity):\n",
        "    # Calculate the target load for each overloaded controller (weight of knapsack)\n",
        "    target_loads = {overloaded_controller: controller_loads[overloaded_controller] - (1* capacity) for overloaded_controller in switches_to_migrate}\n",
        "    print(f'target_loads: {target_loads}')\n",
        "\n",
        "    # Initialize the result dictionary that `min_knapsack2` will return as an output of this function\n",
        "    delta_E_per_controller = {}\n",
        "\n",
        "    for overloaded_controllers in switches_to_migrate:\n",
        "      x1 = []\n",
        "      switches = {switch[0]: switch[1] for switch in switches_to_migrate[overloaded_controllers]}\n",
        "      switch_to_candidate_controller = findCandidateControllerList(switches_to_migrate)\n",
        "\n",
        "      for switch, load in switches.items():\n",
        "        # Find the corresponding candidate controllers list for this switch\n",
        "        controller_candidates = [ candidate for item in switch_to_candidate_controller if item[0] == switch and overloaded_controllers == G.nodes[switch][\"selected_con\"] for candidate in item[2:] if candidate[2] >= load]\n",
        "        # Calculate delta_E for each candidate controller\n",
        "        hop_candidate_con = [[switch, load, candidate[0],candidate[1], (load * (candidate[1] - findHopcount(switch_source=switch, controller_dest=overloaded_controllers)))] for candidate in controller_candidates]\n",
        "        # Select pairs of switch and controller with highest capacity controller left and lowest delta_E of each switch to filtered out of duplicate switch\n",
        "        if hop_candidate_con:\n",
        "          min_element = min(hop_candidate_con, key=lambda x: x[3])\n",
        "          result = min_element\n",
        "          x1.append(result)\n",
        "      sorted_x1 = sorted(x1, key=lambda sublist: (sublist[3], sublist[1]))\n",
        "      load, x1 = lhf_gd(target_loads[overloaded_controllers], sorted_x1)\n",
        "\n",
        "      # print(\"Minimum cost:\", result_x1)\n",
        "      # print(\"Total weight of the knapsack:\", load)\n",
        "      # print(\"Selected items:\", x1)\n",
        "\n",
        "      # controller_load_update = {}\n",
        "      # for switch, con, delta_E in x1:\n",
        "      #   load = switches[switch]\n",
        "      #   if con in controller_load_update:\n",
        "      #       controller_load_update[con] += load\n",
        "      #   else:\n",
        "      #       controller_load_update[con] = load\n",
        "      # Update controller load before going next overload controller \n",
        "      # controller_loads[overloaded_controllers] -= total_loads\n",
        "      # for key in controller_load_update:\n",
        "      #   controller_loads[key] += controller_load_update[key]\n",
        "\n",
        "      if overloaded_controllers in delta_E_per_controller:\n",
        "          delta_E_per_controller[overloaded_controllers].append(x1)\n",
        "      else:\n",
        "          delta_E_per_controller[overloaded_controllers] = x1\n",
        "\n",
        "    \n",
        "    return delta_E_per_controller"
      ],
      "metadata": {
        "id": "3zAvY5PirpGK"
      },
      "execution_count": null,
      "outputs": []
    },
    {
      "cell_type": "code",
      "source": [
        "result3 = fill_lowest_gd(switches_to_migrate, capacity)\n",
        "result3"
      ],
      "metadata": {
        "colab": {
          "base_uri": "https://localhost:8080/"
        },
        "id": "eyqRxR1Yrwmj",
        "outputId": "3b1b7b5b-b8a6-4a91-bb9f-0450a522be67"
      },
      "execution_count": null,
      "outputs": [
        {
          "output_type": "stream",
          "name": "stdout",
          "text": [
            "target_loads: {'2': 2091, '13': 1021}\n"
          ]
        },
        {
          "output_type": "execute_result",
          "data": {
            "text/plain": [
              "{'2': [['20', '19', 0],\n",
              "  ['17', '18', 0],\n",
              "  ['21', '18', 0],\n",
              "  ['3', '7', 477],\n",
              "  ['9', '14', 490]],\n",
              " '13': [['10', '14', 0], ['11', '14', 0], ['12', '24', 0]]}"
            ]
          },
          "metadata": {},
          "execution_count": 151
        }
      ]
    },
    {
      "cell_type": "markdown",
      "source": [
        "## Print result"
      ],
      "metadata": {
        "id": "s43NIJKzGDqw"
      }
    },
    {
      "cell_type": "code",
      "source": [
        "def removeInnerlist(result):\n",
        "  for key in result:\n",
        "    result[key] = [item[0] for item in result[key]]\n",
        "  return result\n",
        "# result = removeInnerlist(result)"
      ],
      "metadata": {
        "id": "gpztL_B7GU0V"
      },
      "execution_count": null,
      "outputs": []
    },
    {
      "cell_type": "code",
      "source": [
        "result = removeInnerlist(result)"
      ],
      "metadata": {
        "id": "qHl5nKoQcdN5"
      },
      "execution_count": null,
      "outputs": []
    },
    {
      "cell_type": "code",
      "source": [
        "result"
      ],
      "metadata": {
        "colab": {
          "base_uri": "https://localhost:8080/"
        },
        "id": "tbXvr2cOGguh",
        "outputId": "054dc9d9-e133-4018-d9a9-ff1d3ef35625"
      },
      "execution_count": null,
      "outputs": [
        {
          "output_type": "execute_result",
          "data": {
            "text/plain": [
              "{'2': [['17', '18', 0], ['20', '19', 0], ['21', '18', 0], ['3', '7', 375]],\n",
              " '13': [['10', '14', 0], ['11', '14', 0]]}"
            ]
          },
          "metadata": {},
          "execution_count": 53
        }
      ]
    },
    {
      "cell_type": "code",
      "source": [
        "def printResult(result):\n",
        "  for controller, switches in result.items():\n",
        "    print(f\"From controller {controller}\")\n",
        "    table_data = []\n",
        "    for switch in switches:\n",
        "        table_data.append([switch[0], switch[1], switch[2]])\n",
        "    print(tabulate(table_data, headers=[\"Switch\", \"To Controller\", \"Delta_E\"]))\n",
        "    print()"
      ],
      "metadata": {
        "id": "y6RKOLGWGBev"
      },
      "execution_count": null,
      "outputs": []
    },
    {
      "cell_type": "code",
      "source": [
        "# Print result from `min_knapsack2_mod`\n",
        "printResult(result)"
      ],
      "metadata": {
        "id": "ckm6KGTnJie-"
      },
      "execution_count": null,
      "outputs": []
    },
    {
      "cell_type": "code",
      "source": [
        "# Print result from `min_knapsack3_dp`\n",
        "printResult(result2)"
      ],
      "metadata": {
        "id": "L36onHgjdivZ"
      },
      "execution_count": null,
      "outputs": []
    },
    {
      "cell_type": "markdown",
      "source": [
        "## Migrate"
      ],
      "metadata": {
        "id": "tzy5cUMlD5Yt"
      }
    },
    {
      "cell_type": "code",
      "source": [
        "def doMigrate(result):\n",
        "  for switches in result.items():\n",
        "    for switch in switches[1:]:\n",
        "      for i in switch:\n",
        "        node_id = i[0]\n",
        "        G.nodes[node_id]['selected_con'] = i[1]"
      ],
      "metadata": {
        "id": "pjprUQy2D9N4"
      },
      "execution_count": null,
      "outputs": []
    },
    {
      "cell_type": "code",
      "source": [
        "doMigrate(result)"
      ],
      "metadata": {
        "id": "EdzEVtbYEdOd"
      },
      "execution_count": null,
      "outputs": []
    },
    {
      "cell_type": "code",
      "source": [
        "printSwitchController()"
      ],
      "metadata": {
        "id": "iHEq5T1OLFFT"
      },
      "execution_count": null,
      "outputs": []
    },
    {
      "cell_type": "markdown",
      "source": [
        "# Evaluate energy cost"
      ],
      "metadata": {
        "id": "ztu41av3ASiO"
      }
    },
    {
      "cell_type": "code",
      "source": [
        "def energycostCalculate(G):\n",
        "  hop_counts = {}\n",
        "  energycost_oneswitch = {}\n",
        "  total_energyconsume = 0\n",
        "\n",
        "  for node in G.nodes():\n",
        "    if G.nodes[node]['role'] == 'switch':\n",
        "      selected_con = G.nodes[node]['selected_con']\n",
        "      hopcount = findHopcount(switch_source = node, controller_dest = selected_con)\n",
        "      # print(f'From sw:{node} load: {packet_amount[node]} to con:{selected_con} hc: {hopcount}')\n",
        "      energycost_oneswitch[node] = packet_amount[node]  * hopcount\n",
        "\n",
        "  #Calculate energy cost from all switches by its load and hop counts to its controller\n",
        "  for switch, ec_oneswitch in energycost_oneswitch.items():\n",
        "      total_energyconsume += ec_oneswitch\n",
        "  \n",
        "  return total_energyconsume"
      ],
      "metadata": {
        "id": "-PGDMyXSTqq0"
      },
      "execution_count": null,
      "outputs": []
    },
    {
      "cell_type": "markdown",
      "source": [
        "# Simulation"
      ],
      "metadata": {
        "id": "I-fxN9u9mOaO"
      }
    },
    {
      "cell_type": "code",
      "source": [
        "# Define the packet handling capacity for controllers (1500 packets/second)\n",
        "capacity = 1500\n",
        "\n",
        "# Find all controller nodes\n",
        "controllers = [n for n, d in G.nodes(data=True) if d['role'] == \"controller\"]\n",
        "\n",
        "# Dictionary to keep track of controller loads\n",
        "controller_loads = {c: 0 for c in controllers}"
      ],
      "metadata": {
        "id": "Fu8ruj6D7zf2"
      },
      "execution_count": null,
      "outputs": []
    },
    {
      "cell_type": "code",
      "source": [
        "seed = 650631030  # seed value for reproducibility\n",
        "size = amount_of_switch  # number of switch\n",
        "packet_size = {}\n",
        "packet_rate = 505  # average rate or expected value\n",
        "for t in range(10):\n",
        "  # Creating a random number generator with a fixed seed\n",
        "  rng = np.random.default_rng(seed)\n",
        "  seed *= seed\n",
        "  \n",
        "  # Generating values from a Poisson distribution using the seeded generator\n",
        "  packet_size[t] = rng.poisson(lam=packet_rate, size=size)\n",
        "  print(f\"Generated Poisson samples with fixed seed t={t+1}: {packet_size[t]}\", end=\"\\t\")\n",
        "  packetsum = sum(packet_size[t])\n",
        "  print(f'Sum of packet size: {packetsum}')"
      ],
      "metadata": {
        "colab": {
          "base_uri": "https://localhost:8080/"
        },
        "id": "-7IreV9o39J9",
        "outputId": "02570712-a2c4-43b8-bb7a-43c6953c7170"
      },
      "execution_count": null,
      "outputs": [
        {
          "output_type": "stream",
          "name": "stdout",
          "text": [
            "Generated Poisson samples with fixed seed t=1: [501 477 520 487 535 557 490 467 488 492 546 512 492 488 586 517 473]\tSum of packet size: 8628\n",
            "Generated Poisson samples with fixed seed t=2: [522 518 522 496 511 499 509 476 544 483 574 495 512 533 485 550 523]\tSum of packet size: 8752\n",
            "Generated Poisson samples with fixed seed t=3: [466 499 537 478 481 489 502 534 511 516 508 530 497 493 514 511 514]\tSum of packet size: 8580\n",
            "Generated Poisson samples with fixed seed t=4: [470 520 522 553 516 493 551 542 523 526 502 527 483 456 501 538 483]\tSum of packet size: 8706\n",
            "Generated Poisson samples with fixed seed t=5: [496 518 475 494 543 488 474 513 495 498 508 500 439 526 473 489 503]\tSum of packet size: 8432\n",
            "Generated Poisson samples with fixed seed t=6: [482 514 511 503 498 548 469 471 498 531 539 462 475 525 517 513 510]\tSum of packet size: 8566\n",
            "Generated Poisson samples with fixed seed t=7: [495 483 475 480 474 528 522 490 482 528 470 524 523 542 472 534 544]\tSum of packet size: 8566\n",
            "Generated Poisson samples with fixed seed t=8: [504 500 533 510 522 501 523 497 515 526 533 503 470 476 500 486 480]\tSum of packet size: 8579\n",
            "Generated Poisson samples with fixed seed t=9: [500 503 465 524 495 467 504 529 513 496 548 499 541 483 547 520 503]\tSum of packet size: 8637\n",
            "Generated Poisson samples with fixed seed t=10: [529 490 496 518 525 515 481 534 514 515 533 536 535 517 529 550 471]\tSum of packet size: 8788\n"
          ]
        }
      ]
    },
    {
      "cell_type": "code",
      "source": [
        "# Simulate packet generation and handling for a given number of seconds (e.g. 10 seconds)\n",
        "setSelectedCon()\n",
        "sim_time = 10\n",
        "avg_en = 0\n",
        "for i in range(sim_time):\n",
        "    # Generate packets for each switch and send to its selected controller\n",
        "    k = 0\n",
        "    packet_amount = {}\n",
        "    for node in G.nodes():\n",
        "        if G.nodes[node]['role'] == 'switch':\n",
        "            selected_con = G.nodes[node]['selected_con']\n",
        "            packet_count = packet_size[i][k]\n",
        "            k += 1\n",
        "            packet_amount[node] = packet_count\n",
        "            controller_loads[selected_con] += packet_count\n",
        "            # print(f\"Switch {node} generated {packet_count} packets and sent to controller {selected_con}\")\n",
        "\n",
        "    # Update controller load every second\n",
        "    if i % 1 == 0:\n",
        "        print()\n",
        "        print(\"Controller loads after\", i+1, \"seconds:\")\n",
        "        print(f\"Controller capacity: {capacity}\",end='\\n\\n')\n",
        "        for node in G.nodes():\n",
        "            if G.nodes[node]['role'] == 'controller':\n",
        "                print(f\"Controller {node} load: {controller_loads[node]} pps\")\n",
        "                if controller_loads[node] > capacity:\n",
        "                  print(f\"Controller {node} is overloaded!\")\n",
        "        print()\n",
        "        \n",
        "        # Added code part for migration process\n",
        "        try:\n",
        "            printSwitchController()\n",
        "            switches_to_migrate = findSwitchtoMigrateList()\n",
        "            result2 = min_knapsack3_dp(switches_to_migrate, capacity)\n",
        "            print()\n",
        "            printResult(result2)\n",
        "            doMigrate(result2)\n",
        "            print()\n",
        "            printSwitchController()\n",
        "        except:\n",
        "            print(\"\\n Controller capacity left not sufficient!!\")\n",
        "            printSwitchController()\n",
        "\n",
        "        controller_loads = {c: 0 for c in controllers}\n",
        "        avg_en += energycostCalculate(G)\n",
        "\n",
        "        \n",
        "        # End of added code part\n",
        "print(f'Avg energy consumption: {avg_en/sim_time}')"
      ],
      "metadata": {
        "id": "-UbmvoKuOtju",
        "colab": {
          "base_uri": "https://localhost:8080/"
        },
        "outputId": "e8df9148-5e83-476b-d784-3d9fcd34028e"
      },
      "execution_count": null,
      "outputs": [
        {
          "output_type": "stream",
          "name": "stdout",
          "text": [
            "\n",
            "Controller loads after 1 seconds:\n",
            "Controller capacity: 1500\n",
            "\n",
            "Controller 1 load: 1036 pps\n",
            "Controller 2 load: 3591 pps\n",
            "Controller 2 is overloaded!\n",
            "Controller 7 load: 1007 pps\n",
            "Controller 13 load: 2521 pps\n",
            "Controller 13 is overloaded!\n",
            "Controller 14 load: 0 pps\n",
            "Controller 18 load: 0 pps\n",
            "Controller 19 load: 0 pps\n",
            "Controller 24 load: 473 pps\n",
            "\n",
            "  Controller node  Switch nodes\n",
            "-----------------  ------------------------\n",
            "                1  0, 6\n",
            "                2  3, 9, 15, 16, 17, 20, 21\n",
            "                7  4, 5\n",
            "               13  8, 10, 11, 12, 22\n",
            "               14\n",
            "               18\n",
            "               19\n",
            "               24  23\n",
            "target_loads: {'2': 2091, '13': 1021}\n",
            "x1: [['3', 477, '7', 477], ['9', 490, '14', 490], ['15', 546, '18', 546], ['16', 512, '18', 512], ['17', 492, '18', 0], ['20', 488, '19', 0], ['21', 586, '18', 0]]\n",
            "\n",
            " Selected it: [['21', '18', 0], ['20', '19', 0], ['15', '18', 546], ['3', '7', 477]]\n",
            "Minimum value (sum delta_E): 1023\n",
            "Weight (sum switches load): 2097\n",
            "x1: [['8', 557, '14', 557], ['10', 467, '14', 0], ['11', 488, '14', 0], ['12', 492, '24', 0], ['22', 517, '24', 0]]\n",
            "\n",
            " Selected it: [['10', '14', 0], ['8', '14', 557]]\n",
            "Minimum value (sum delta_E): 557\n",
            "Weight (sum switches load): 1024\n",
            "\n",
            "From controller 2\n",
            "  Switch    To Controller    Delta_E\n",
            "--------  ---------------  ---------\n",
            "      21               18          0\n",
            "      20               19          0\n",
            "      15               18        546\n",
            "       3                7        477\n",
            "\n",
            "From controller 13\n",
            "  Switch    To Controller    Delta_E\n",
            "--------  ---------------  ---------\n",
            "      10               14          0\n",
            "       8               14        557\n",
            "\n",
            "\n",
            "  Controller node  Switch nodes\n",
            "-----------------  --------------\n",
            "                1  0, 6\n",
            "                2  9, 16, 17\n",
            "                7  3, 4, 5\n",
            "               13  11, 12, 22\n",
            "               14  8, 10\n",
            "               18  15, 21\n",
            "               19  20\n",
            "               24  23\n",
            "\n",
            "Controller loads after 2 seconds:\n",
            "Controller capacity: 1500\n",
            "\n",
            "Controller 1 load: 1033 pps\n",
            "Controller 2 load: 1516 pps\n",
            "Controller 2 is overloaded!\n",
            "Controller 7 load: 1536 pps\n",
            "Controller 7 is overloaded!\n",
            "Controller 13 load: 1577 pps\n",
            "Controller 13 is overloaded!\n",
            "Controller 14 load: 975 pps\n",
            "Controller 18 load: 1059 pps\n",
            "Controller 19 load: 533 pps\n",
            "Controller 24 load: 523 pps\n",
            "\n",
            "  Controller node  Switch nodes\n",
            "-----------------  --------------\n",
            "                1  0, 6\n",
            "                2  9, 16, 17\n",
            "                7  3, 4, 5\n",
            "               13  11, 12, 22\n",
            "               14  8, 10\n",
            "               18  15, 21\n",
            "               19  20\n",
            "               24  23\n",
            "target_loads: {'13': 77, '7': 36, '2': 16}\n",
            "x1: [['11', 544, '24', 544], ['12', 483, '24', 0], ['22', 550, '24', 0]]\n",
            "\n",
            " Selected it: [['12', '24', 0]]\n",
            "Minimum value (sum delta_E): 0\n",
            "Weight (sum switches load): 483\n",
            "x1: [['3', 518, '19', 518], ['4', 522, '14', 522], ['5', 496, '14', 0]]\n",
            "\n",
            " Selected it: [['5', '14', 0]]\n",
            "Minimum value (sum delta_E): 0\n",
            "Weight (sum switches load): 496\n",
            "x1: [['9', 509, '19', 1018], ['16', 495, '19', 495], ['17', 512, '19', 0]]\n",
            "\n",
            " Selected it: [['16', '19', 495]]\n",
            "Minimum value (sum delta_E): 495\n",
            "Weight (sum switches load): 495\n",
            "\n",
            "From controller 13\n",
            "  Switch    To Controller    Delta_E\n",
            "--------  ---------------  ---------\n",
            "      12               24          0\n",
            "\n",
            "From controller 7\n",
            "  Switch    To Controller    Delta_E\n",
            "--------  ---------------  ---------\n",
            "       5               14          0\n",
            "\n",
            "From controller 2\n",
            "  Switch    To Controller    Delta_E\n",
            "--------  ---------------  ---------\n",
            "      16               19        495\n",
            "\n",
            "\n",
            "  Controller node  Switch nodes\n",
            "-----------------  --------------\n",
            "                1  0, 6\n",
            "                2  9, 17\n",
            "                7  3, 4\n",
            "               13  11, 22\n",
            "               14  5, 8, 10\n",
            "               18  15, 21\n",
            "               19  16, 20\n",
            "               24  12, 23\n",
            "\n",
            "Controller loads after 3 seconds:\n",
            "Controller capacity: 1500\n",
            "\n",
            "Controller 1 load: 947 pps\n",
            "Controller 2 load: 999 pps\n",
            "Controller 7 load: 1036 pps\n",
            "Controller 13 load: 1022 pps\n",
            "Controller 14 load: 1501 pps\n",
            "Controller 14 is overloaded!\n",
            "Controller 18 load: 1022 pps\n",
            "Controller 19 load: 1023 pps\n",
            "Controller 24 load: 1030 pps\n",
            "\n",
            "  Controller node  Switch nodes\n",
            "-----------------  --------------\n",
            "                1  0, 6\n",
            "                2  9, 17\n",
            "                7  3, 4\n",
            "               13  11, 22\n",
            "               14  5, 8, 10\n",
            "               18  15, 21\n",
            "               19  16, 20\n",
            "               24  12, 23\n",
            "target_loads: {'14': 1}\n",
            "x1: [['5', 478, '13', 0], ['8', 489, '2', 0], ['10', 534, '1', 2136]]\n",
            "\n",
            " Selected it: [['5', '13', 0]]\n",
            "Minimum value (sum delta_E): 0\n",
            "Weight (sum switches load): 478\n",
            "\n",
            "From controller 14\n",
            "  Switch    To Controller    Delta_E\n",
            "--------  ---------------  ---------\n",
            "       5               13          0\n",
            "\n",
            "\n",
            "  Controller node  Switch nodes\n",
            "-----------------  --------------\n",
            "                1  0, 6\n",
            "                2  9, 17\n",
            "                7  3, 4\n",
            "               13  5, 11, 22\n",
            "               14  8, 10\n",
            "               18  15, 21\n",
            "               19  16, 20\n",
            "               24  12, 23\n",
            "\n",
            "Controller loads after 4 seconds:\n",
            "Controller capacity: 1500\n",
            "\n",
            "Controller 1 load: 986 pps\n",
            "Controller 2 load: 1034 pps\n",
            "Controller 7 load: 1042 pps\n",
            "Controller 13 load: 1614 pps\n",
            "Controller 13 is overloaded!\n",
            "Controller 14 load: 1035 pps\n",
            "Controller 18 load: 1003 pps\n",
            "Controller 19 load: 983 pps\n",
            "Controller 24 load: 1009 pps\n",
            "\n",
            "  Controller node  Switch nodes\n",
            "-----------------  --------------\n",
            "                1  0, 6\n",
            "                2  9, 17\n",
            "                7  3, 4\n",
            "               13  5, 11, 22\n",
            "               14  8, 10\n",
            "               18  15, 21\n",
            "               19  16, 20\n",
            "               24  12, 23\n",
            "target_loads: {'13': 114}\n",
            "x1: []\n",
            "\n",
            " Controller capacity left not sufficient!!\n",
            "  Controller node  Switch nodes\n",
            "-----------------  --------------\n",
            "                1  0, 6\n",
            "                2  9, 17\n",
            "                7  3, 4\n",
            "               13  5, 11, 22\n",
            "               14  8, 10\n",
            "               18  15, 21\n",
            "               19  16, 20\n",
            "               24  12, 23\n",
            "\n",
            "Controller loads after 5 seconds:\n",
            "Controller capacity: 1500\n",
            "\n",
            "Controller 1 load: 1039 pps\n",
            "Controller 2 load: 913 pps\n",
            "Controller 7 load: 993 pps\n",
            "Controller 13 load: 1478 pps\n",
            "Controller 14 load: 1001 pps\n",
            "Controller 18 load: 981 pps\n",
            "Controller 19 load: 1026 pps\n",
            "Controller 24 load: 1001 pps\n",
            "\n",
            "  Controller node  Switch nodes\n",
            "-----------------  --------------\n",
            "                1  0, 6\n",
            "                2  9, 17\n",
            "                7  3, 4\n",
            "               13  5, 11, 22\n",
            "               14  8, 10\n",
            "               18  15, 21\n",
            "               19  16, 20\n",
            "               24  12, 23\n",
            "target_loads: {}\n",
            "\n",
            "\n",
            "  Controller node  Switch nodes\n",
            "-----------------  --------------\n",
            "                1  0, 6\n",
            "                2  9, 17\n",
            "                7  3, 4\n",
            "               13  5, 11, 22\n",
            "               14  8, 10\n",
            "               18  15, 21\n",
            "               19  16, 20\n",
            "               24  12, 23\n",
            "\n",
            "Controller loads after 6 seconds:\n",
            "Controller capacity: 1500\n",
            "\n",
            "Controller 1 load: 980 pps\n",
            "Controller 2 load: 944 pps\n",
            "Controller 7 load: 1025 pps\n",
            "Controller 13 load: 1514 pps\n",
            "Controller 13 is overloaded!\n",
            "Controller 14 load: 1019 pps\n",
            "Controller 18 load: 1056 pps\n",
            "Controller 19 load: 987 pps\n",
            "Controller 24 load: 1041 pps\n",
            "\n",
            "  Controller node  Switch nodes\n",
            "-----------------  --------------\n",
            "                1  0, 6\n",
            "                2  9, 17\n",
            "                7  3, 4\n",
            "               13  5, 11, 22\n",
            "               14  8, 10\n",
            "               18  15, 21\n",
            "               19  16, 20\n",
            "               24  12, 23\n",
            "target_loads: {'13': 14}\n",
            "x1: [['5', 503, '2', 503], ['11', 498, '2', 996], ['22', 513, '2', 513]]\n",
            "\n",
            " Selected it: [['11', '2', 996]]\n",
            "Minimum value (sum delta_E): 996\n",
            "Weight (sum switches load): 498\n",
            "\n",
            "From controller 13\n",
            "  Switch    To Controller    Delta_E\n",
            "--------  ---------------  ---------\n",
            "      11                2        996\n",
            "\n",
            "\n",
            "  Controller node  Switch nodes\n",
            "-----------------  --------------\n",
            "                1  0, 6\n",
            "                2  9, 11, 17\n",
            "                7  3, 4\n",
            "               13  5, 22\n",
            "               14  8, 10\n",
            "               18  15, 21\n",
            "               19  16, 20\n",
            "               24  12, 23\n",
            "\n",
            "Controller loads after 7 seconds:\n",
            "Controller capacity: 1500\n",
            "\n",
            "Controller 1 load: 969 pps\n",
            "Controller 2 load: 1527 pps\n",
            "Controller 2 is overloaded!\n",
            "Controller 7 load: 958 pps\n",
            "Controller 13 load: 1014 pps\n",
            "Controller 14 load: 1018 pps\n",
            "Controller 18 load: 942 pps\n",
            "Controller 19 load: 1066 pps\n",
            "Controller 24 load: 1072 pps\n",
            "\n",
            "  Controller node  Switch nodes\n",
            "-----------------  --------------\n",
            "                1  0, 6\n",
            "                2  9, 11, 17\n",
            "                7  3, 4\n",
            "               13  5, 22\n",
            "               14  8, 10\n",
            "               18  15, 21\n",
            "               19  16, 20\n",
            "               24  12, 23\n",
            "target_loads: {'2': 27}\n",
            "x1: [['9', 522, '7', 522], ['11', 482, '13', -964], ['17', 523, '18', 0]]\n",
            "\n",
            " Selected it: [['11', '13', -964]]\n",
            "Minimum value (sum delta_E): -964\n",
            "Weight (sum switches load): 482\n",
            "\n",
            "From controller 2\n",
            "  Switch    To Controller    Delta_E\n",
            "--------  ---------------  ---------\n",
            "      11               13       -964\n",
            "\n",
            "\n",
            "  Controller node  Switch nodes\n",
            "-----------------  --------------\n",
            "                1  0, 6\n",
            "                2  9, 17\n",
            "                7  3, 4\n",
            "               13  5, 11, 22\n",
            "               14  8, 10\n",
            "               18  15, 21\n",
            "               19  16, 20\n",
            "               24  12, 23\n",
            "\n",
            "Controller loads after 8 seconds:\n",
            "Controller capacity: 1500\n",
            "\n",
            "Controller 1 load: 1026 pps\n",
            "Controller 2 load: 993 pps\n",
            "Controller 7 load: 1033 pps\n",
            "Controller 13 load: 1511 pps\n",
            "Controller 13 is overloaded!\n",
            "Controller 14 load: 998 pps\n",
            "Controller 18 load: 1033 pps\n",
            "Controller 19 load: 979 pps\n",
            "Controller 24 load: 1006 pps\n",
            "\n",
            "  Controller node  Switch nodes\n",
            "-----------------  --------------\n",
            "                1  0, 6\n",
            "                2  9, 17\n",
            "                7  3, 4\n",
            "               13  5, 11, 22\n",
            "               14  8, 10\n",
            "               18  15, 21\n",
            "               19  16, 20\n",
            "               24  12, 23\n",
            "target_loads: {'13': 11}\n",
            "x1: [['5', 510, '19', 1020], ['11', 515, '19', 1030], ['22', 486, '24', 0]]\n",
            "\n",
            " Selected it: [['22', '24', 0]]\n",
            "Minimum value (sum delta_E): 0\n",
            "Weight (sum switches load): 486\n",
            "\n",
            "From controller 13\n",
            "  Switch    To Controller    Delta_E\n",
            "--------  ---------------  ---------\n",
            "      22               24          0\n",
            "\n",
            "\n",
            "  Controller node  Switch nodes\n",
            "-----------------  --------------\n",
            "                1  0, 6\n",
            "                2  9, 17\n",
            "                7  3, 4\n",
            "               13  5, 11\n",
            "               14  8, 10\n",
            "               18  15, 21\n",
            "               19  16, 20\n",
            "               24  12, 22, 23\n",
            "\n",
            "Controller loads after 9 seconds:\n",
            "Controller capacity: 1500\n",
            "\n",
            "Controller 1 load: 995 pps\n",
            "Controller 2 load: 1045 pps\n",
            "Controller 7 load: 968 pps\n",
            "Controller 13 load: 1037 pps\n",
            "Controller 14 load: 996 pps\n",
            "Controller 18 load: 1095 pps\n",
            "Controller 19 load: 982 pps\n",
            "Controller 24 load: 1519 pps\n",
            "Controller 24 is overloaded!\n",
            "\n",
            "  Controller node  Switch nodes\n",
            "-----------------  --------------\n",
            "                1  0, 6\n",
            "                2  9, 17\n",
            "                7  3, 4\n",
            "               13  5, 11\n",
            "               14  8, 10\n",
            "               18  15, 21\n",
            "               19  16, 20\n",
            "               24  12, 22, 23\n",
            "target_loads: {'24': 19}\n",
            "x1: [['12', 496, '14', 496], ['22', 520, '7', 1040], ['23', 503, '19', 1006]]\n",
            "\n",
            " Selected it: [['12', '14', 496]]\n",
            "Minimum value (sum delta_E): 496\n",
            "Weight (sum switches load): 496\n",
            "\n",
            "From controller 24\n",
            "  Switch    To Controller    Delta_E\n",
            "--------  ---------------  ---------\n",
            "      12               14        496\n",
            "\n",
            "\n",
            "  Controller node  Switch nodes\n",
            "-----------------  --------------\n",
            "                1  0, 6\n",
            "                2  9, 17\n",
            "                7  3, 4\n",
            "               13  5, 11\n",
            "               14  8, 10, 12\n",
            "               18  15, 21\n",
            "               19  16, 20\n",
            "               24  22, 23\n",
            "\n",
            "Controller loads after 10 seconds:\n",
            "Controller capacity: 1500\n",
            "\n",
            "Controller 1 load: 1054 pps\n",
            "Controller 2 load: 1016 pps\n",
            "Controller 7 load: 986 pps\n",
            "Controller 13 load: 1032 pps\n",
            "Controller 14 load: 1564 pps\n",
            "Controller 14 is overloaded!\n",
            "Controller 18 load: 1062 pps\n",
            "Controller 19 load: 1053 pps\n",
            "Controller 24 load: 1021 pps\n",
            "\n",
            "  Controller node  Switch nodes\n",
            "-----------------  --------------\n",
            "                1  0, 6\n",
            "                2  9, 17\n",
            "                7  3, 4\n",
            "               13  5, 11\n",
            "               14  8, 10, 12\n",
            "               18  15, 21\n",
            "               19  16, 20\n",
            "               24  22, 23\n",
            "target_loads: {'14': 64}\n",
            "x1: []\n",
            "\n",
            " Controller capacity left not sufficient!!\n",
            "  Controller node  Switch nodes\n",
            "-----------------  --------------\n",
            "                1  0, 6\n",
            "                2  9, 17\n",
            "                7  3, 4\n",
            "               13  5, 11\n",
            "               14  8, 10, 12\n",
            "               18  15, 21\n",
            "               19  16, 20\n",
            "               24  22, 23\n",
            "Avg energy consumption: 10818.5\n"
          ]
        }
      ]
    },
    {
      "cell_type": "code",
      "source": [],
      "metadata": {
        "id": "T7JAQhOIKWk4"
      },
      "execution_count": null,
      "outputs": []
    }
  ]
}