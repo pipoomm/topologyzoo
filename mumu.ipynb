{
  "nbformat": 4,
  "nbformat_minor": 0,
  "metadata": {
    "colab": {
      "provenance": [],
      "collapsed_sections": [
        "bV4vHeo6DRt0",
        "PtTCyzQg0cHP"
      ],
      "authorship_tag": "ABX9TyPARZ1xtnhB+t9BCE95Eqx4",
      "include_colab_link": true
    },
    "kernelspec": {
      "name": "python3",
      "display_name": "Python 3"
    },
    "language_info": {
      "name": "python"
    }
  },
  "cells": [
    {
      "cell_type": "markdown",
      "metadata": {
        "id": "view-in-github",
        "colab_type": "text"
      },
      "source": [
        "<a href=\"https://colab.research.google.com/github/pipoomm/topologyzoo/blob/main/mumu.ipynb\" target=\"_parent\"><img src=\"https://colab.research.google.com/assets/colab-badge.svg\" alt=\"Open In Colab\"/></a>"
      ]
    },
    {
      "cell_type": "code",
      "execution_count": 1,
      "metadata": {
        "id": "OO4vUcQu6Aca"
      },
      "outputs": [],
      "source": [
        "import networkx as nx\n",
        "from networkx.algorithms.shortest_paths.astar import astar_path_length\n",
        "\n",
        "import numpy as np\n",
        "import pandas as pd\n",
        "from math import radians, cos, sin, asin, sqrt\n",
        "from itertools import chain\n",
        "\n",
        "import matplotlib.pyplot as plt\n",
        "from matplotlib.colors import ListedColormap\n",
        "from tabulate import tabulate\n",
        "\n",
        "import copy\n",
        "import requests\n",
        "from io import StringIO, BytesIO"
      ]
    },
    {
      "cell_type": "code",
      "source": [
        "def read_graphml_from_url(url):\n",
        "    # Download the GraphML file\n",
        "    response = requests.get(url)\n",
        "    if response.status_code == 200:\n",
        "        # Parse the GraphML content using NetworkX\n",
        "        graphml_data = response.text\n",
        "        graphml_file = StringIO(graphml_data)\n",
        "        graph = nx.read_graphml(graphml_file)\n",
        "        return graph\n",
        "    else:\n",
        "        raise Exception(f\"Error downloading GraphML file. Status code: {response.status_code}\")"
      ],
      "metadata": {
        "id": "ICCyT6ozj56v"
      },
      "execution_count": 2,
      "outputs": []
    },
    {
      "cell_type": "markdown",
      "source": [
        "## Preparing graph"
      ],
      "metadata": {
        "id": "VouoRa50mIRj"
      }
    },
    {
      "cell_type": "code",
      "source": [
        "# Load GraphML file\n",
        "G = read_graphml_from_url(\"https://raw.githubusercontent.com/pipoomm/topologyzoo/main/AttMpls.graphml\")"
      ],
      "metadata": {
        "id": "v2qow5pYldIM"
      },
      "execution_count": 3,
      "outputs": []
    },
    {
      "cell_type": "code",
      "source": [
        "# Find nodes without 'Latitude' or 'Longitude' attributes\n",
        "nodes_to_remove = [n for n, d in G.nodes(data=True) if 'Latitude' not in d or 'Longitude' not in d]\n",
        "\n",
        "# Remove nodes and their connected edges\n",
        "G.remove_nodes_from(nodes_to_remove)"
      ],
      "metadata": {
        "id": "zq8NMWR2-BGR"
      },
      "execution_count": 4,
      "outputs": []
    },
    {
      "cell_type": "code",
      "source": [
        "# Set the initial role of all nodes to \"none\"\n",
        "roles = {}\n",
        "for n in G.nodes():\n",
        "    roles[n] = \"none\""
      ],
      "metadata": {
        "id": "2xzluSk1GcYD"
      },
      "execution_count": 5,
      "outputs": []
    },
    {
      "cell_type": "code",
      "source": [
        "amount_of_controller = 0\n",
        "amount_of_switch = 0\n",
        "# Repeatedly identify \"controller\" and \"switch\" nodes until all nodes are defined\n",
        "while \"none\" in roles.values():\n",
        "    # Select the node with the highest number of connected neighbors and no role assigned\n",
        "    candidates = [n for n in G.nodes() if roles[n] == \"none\"]\n",
        "    node_degrees = [(n, G.degree(n)) for n in candidates]\n",
        "    node_degrees.sort(key=lambda x: (-x[1], x[0]))\n",
        "    node_i = node_degrees[0][0]\n",
        "\n",
        "    # Assign the \"controller\" role to node i\n",
        "    roles[node_i] = \"controller\"\n",
        "    amount_of_controller += 1\n",
        "\n",
        "    # Assign the \"switch\" role to all 1-hop connected nodes (neighbors) of node i with no role assigned\n",
        "    for neighbor in G.neighbors(node_i):\n",
        "        if roles[neighbor] == \"none\":\n",
        "            roles[neighbor] = \"switch\"\n",
        "            amount_of_switch += 1\n",
        "            \n",
        "# Set the role attribute for each node\n",
        "nx.set_node_attributes(G, roles, \"role\")\n",
        "print(f'Amount of controller: {amount_of_controller}\\nAmount of switch: {amount_of_switch}')"
      ],
      "metadata": {
        "id": "krWD-ZAKJKsH",
        "colab": {
          "base_uri": "https://localhost:8080/"
        },
        "outputId": "8b764e29-4074-4592-c6bc-1e57e3e995ef"
      },
      "execution_count": 6,
      "outputs": [
        {
          "output_type": "stream",
          "name": "stdout",
          "text": [
            "Amount of controller: 8\n",
            "Amount of switch: 17\n"
          ]
        }
      ]
    },
    {
      "cell_type": "code",
      "source": [
        "# Print the node roles\n",
        "for n, r in nx.get_node_attributes(G, \"role\").items():\n",
        "    print(f\"Node {n} is a {r}\")"
      ],
      "metadata": {
        "id": "NbAdveNRG0r4"
      },
      "execution_count": null,
      "outputs": []
    },
    {
      "cell_type": "code",
      "source": [
        "for n, data in G.nodes(data=True):\n",
        "    print(f\"Node {n}: {data}\")"
      ],
      "metadata": {
        "id": "_M_vk95SG6ul"
      },
      "execution_count": null,
      "outputs": []
    },
    {
      "cell_type": "code",
      "source": [
        "[n for n in G.neighbors('17')]"
      ],
      "metadata": {
        "id": "OnNGOkdnJ9Io"
      },
      "execution_count": null,
      "outputs": []
    },
    {
      "cell_type": "code",
      "source": [
        "node_positions = {}\n",
        "for node in G.nodes():\n",
        "  label = G.nodes[node]['id']\n",
        "  node_positions[node] = (G.nodes[node]['Longitude'], G.nodes[node]['Latitude'])\n",
        "\n",
        "# Define node colors based on their roles\n",
        "node_colors = {\"controller\": \"blue\", \"switch\": \"green\"}\n",
        "\n",
        "# Draw the graph with node colors\n",
        "nx.draw(G, node_color=[node_colors[G.nodes[n][\"role\"]] for n in G.nodes()], pos=node_positions, labels={node: G.nodes[node]['id'] for node in G.nodes()},with_labels=True)\n",
        "\n",
        "# Show the plot\n",
        "plt.show()"
      ],
      "metadata": {
        "id": "nPrrHYO0Ball",
        "colab": {
          "base_uri": "https://localhost:8080/",
          "height": 516
        },
        "outputId": "7e3c5599-99b9-4ff6-a27f-b6fdd6e0f82f"
      },
      "execution_count": 7,
      "outputs": [
        {
          "output_type": "display_data",
          "data": {
            "text/plain": [
              "<Figure size 640x480 with 1 Axes>"
            ],
            "image/png": "[encoded data removed]"
          },
          "metadata": {}
        }
      ]
    },
    {
      "cell_type": "markdown",
      "source": [
        "### Stage 1 - Matching switch wth nearest controller"
      ],
      "metadata": {
        "id": "UBNphsn1mgjv"
      }
    },
    {
      "cell_type": "code",
      "source": [
        "# Step 4: Set `selected_con` attribute for switch nodes\n",
        "def setSelectedCon():\n",
        "  candidate_controllers = [n for n, d in G.nodes(data=True) if d['role'] == \"controller\"]\n",
        "  global switch_to_controller_list\n",
        "  switch_to_controller_list = [] \n",
        "  for node_id in G.nodes():\n",
        "    if G.nodes[node_id]['role'] == 'switch':\n",
        "      hop_counts = []\n",
        "      for con in candidate_controllers:\n",
        "        path = nx.astar_path(G, source=node_id, target=con)\n",
        "        hop_count = len(path) - 1\n",
        "        hop_counts.append([con, hop_count, 0])\n",
        "      sorted_hops = sorted(hop_counts, key=lambda x: (x[1]), reverse=False)\n",
        "      G.nodes[node_id]['selected_con'] = sorted_hops[0][0]\n",
        "      switch_to_controller_list.append([node_id,0]+sorted_hops)"
      ],
      "metadata": {
        "id": "lF3CbIJjOfps"
      },
      "execution_count": 9,
      "outputs": []
    },
    {
      "cell_type": "code",
      "source": [
        "switch_to_controller_list"
      ],
      "metadata": {
        "id": "2pGL0h_WOg7U"
      },
      "execution_count": null,
      "outputs": []
    },
    {
      "cell_type": "code",
      "source": [
        "def printSwitchController():\n",
        "    # Find controlled switches for each controller node\n",
        "    controllers = {node_id: [] for node_id in G.nodes() if G.nodes[node_id]['role'] == 'controller'}\n",
        "    switches = {node_id: G.nodes[node_id][\"selected_con\"] for node_id in G.nodes() if G.nodes[node_id]['role'] == 'switch'}\n",
        "    controlled_switches = {controller: [switch for switch, selected_con in switches.items() if selected_con == controller] for controller in controllers}\n",
        "\n",
        "    # Print the list of controlled switches for each controller node\n",
        "    # Create a list to store the table rows\n",
        "    table_rows = []\n",
        "\n",
        "    # Iterate over the controlled switches for each controller node\n",
        "    for controller_id, switches in controlled_switches.items():\n",
        "        # Combine the switch IDs into a single string separated by commas\n",
        "        switch_list = ', '.join(switch_id for switch_id in switches)\n",
        "        \n",
        "        # Add a row to the table with the controller ID and the combined switch list\n",
        "        table_rows.append([controller_id, switch_list])\n",
        "\n",
        "    # Define the table headers\n",
        "    headers = [\"Controller node\", \"Switch nodes\"]\n",
        "\n",
        "    # Print the table using tabulate\n",
        "    print(tabulate(table_rows, headers=headers))"
      ],
      "metadata": {
        "id": "hZ0YtusXgzZb"
      },
      "execution_count": 10,
      "outputs": []
    },
    {
      "cell_type": "code",
      "source": [
        "printSwitchController()"
      ],
      "metadata": {
        "id": "Y8DK2zDYTIa4"
      },
      "execution_count": null,
      "outputs": []
    },
    {
      "cell_type": "code",
      "source": [
        "def findHopcount(switch_source, controller_dest):\n",
        "    matching_switch = next((item for item in switch_to_controller_list if item[0] == switch_source), None)\n",
        "\n",
        "    if matching_switch:\n",
        "        hop_count = next((j[1] for j in matching_switch[2:] if j[0] == controller_dest), None)\n",
        "        return hop_count\n",
        "\n",
        "    return None"
      ],
      "metadata": {
        "id": "7jNv3Zovr6o5"
      },
      "execution_count": 11,
      "outputs": []
    },
    {
      "cell_type": "code",
      "source": [
        "def find_value_differences(input_list):\n",
        "    differences = sorted({\n",
        "        abs(input_list[i] - input_list[j])\n",
        "        for i in range(len(input_list))\n",
        "        for j in range(i+1, len(input_list))\n",
        "    })\n",
        "\n",
        "    return 1 if differences[0] == 0 else differences[0]"
      ],
      "metadata": {
        "id": "iyLA07-OQABH"
      },
      "execution_count": 36,
      "outputs": []
    },
    {
      "cell_type": "code",
      "source": [
        "setSelectedCon()"
      ],
      "metadata": {
        "id": "tN5Jvjsb-7E6"
      },
      "execution_count": null,
      "outputs": []
    },
    {
      "cell_type": "markdown",
      "source": [
        "# Update controller and switch (Stage 2 - Load balancing for overload controller)\n",
        "\n"
      ],
      "metadata": {
        "id": "JlXsSTg0mUTH"
      }
    },
    {
      "cell_type": "code",
      "source": [
        "def findSwitchtoMigrateList():\n",
        "  #List of ovelload controlller and swich that need to do migation list\n",
        "  switches_to_migrate = {}\n",
        "  overloaded_controllers = [node for node in G.nodes() if G.nodes[node]['role'] == 'controller' and controller_loads[node] > capacity]\n",
        "  for node in G.nodes():\n",
        "    if G.nodes[node]['role'] == 'switch' and G.nodes[node]['selected_con'] in overloaded_controllers:\n",
        "      overloaded_controller = G.nodes[node]['selected_con']\n",
        "      if overloaded_controller not in switches_to_migrate:\n",
        "        switches_to_migrate[overloaded_controller] = []\n",
        "      switches_to_migrate[overloaded_controller].append([node,packet_amount[node]])\n",
        "      # switches_to_migrate[node] = packet_amount[node]\n",
        "  \n",
        "  # Sort the keys of switches_to_migrate based on the values in controller_loads\n",
        "  sorted_keys = sorted(switches_to_migrate.keys(), key=lambda x: controller_loads[x], reverse=True)\n",
        "\n",
        "  # Reconstruct the switches_to_migrate dictionary using the sorted keys\n",
        "  sorted_switches_to_migrate = {key: switches_to_migrate[key] for key in sorted_keys}\n",
        "  \n",
        "  return(sorted_switches_to_migrate)\n",
        "# {'Overload ControllerID : [['SwitchID','Switch load'], ['SwitchID','Switch load'] ]'}"
      ],
      "metadata": {
        "id": "iwtyMfux2SDm"
      },
      "execution_count": 12,
      "outputs": []
    },
    {
      "cell_type": "code",
      "source": [
        "def findCandidateControllerList(switches_to_migrate):\n",
        "    # Find new candidate controllers for overloaded controllers\n",
        "    switch_to_candidate_controller = []\n",
        "    \n",
        "    for overload_controller, switches in switches_to_migrate.items():\n",
        "        candidate_controllers = []\n",
        "        \n",
        "        for switch, load in switches:\n",
        "            selected_con = overload_controller\n",
        "            conlist = next((item for item in switch_to_controller_list if item[0] == switch), None)\n",
        "            \n",
        "            if conlist:\n",
        "                hop_count = [\n",
        "                    [con[0], con[1], capacity - controller_loads[con[0]]] for con in conlist[2:]\n",
        "                    if con[0] != selected_con and controller_loads[con[0]] < capacity\n",
        "                ]\n",
        "                \n",
        "                sorted_hop_count = sorted(hop_count, key=lambda x: (x[1], -x[2]))\n",
        "                switch_to_candidate_controller.append([switch, load] + sorted_hop_count)\n",
        "    \n",
        "    return switch_to_candidate_controller\n",
        "# ['SwitchID', 'Switch load', ['Dest.ControllerID', 'Hop count from switch to controller', 'Controller capacity left']]"
      ],
      "metadata": {
        "id": "X3gGykuJqVDP"
      },
      "execution_count": 13,
      "outputs": []
    },
    {
      "cell_type": "code",
      "source": [
        "switch_to_candidate_controller = findCandidateControllerList(switches_to_migrate)\n",
        "# Show candidate controller list of switch that connected with overload controller\n",
        "for i in switch_to_candidate_controller:\n",
        "    print(f\"Switch {i[0]} ({i[1]} pps) can migrate to the following controllers:\")\n",
        "    \n",
        "    # Create a list of dictionaries for tabulate\n",
        "    data = [\n",
        "        {\"Controller\": con[0], \"Hop count\": con[1], \"Capacity left\": con[2]} for con in i[2:]\n",
        "    ]\n",
        "    \n",
        "    # Print the table\n",
        "    print(tabulate(data, headers=\"keys\"))\n",
        "    print()"
      ],
      "metadata": {
        "id": "HsTJe1WgzWqH"
      },
      "execution_count": null,
      "outputs": []
    },
    {
      "cell_type": "markdown",
      "source": [
        "## Min-Knapsack"
      ],
      "metadata": {
        "id": "tMx6317XZ2aq"
      }
    },
    {
      "cell_type": "markdown",
      "source": [
        "### By sorting lowest delta_E"
      ],
      "metadata": {
        "id": "bV4vHeo6DRt0"
      }
    },
    {
      "cell_type": "code",
      "source": [
        "def min_knapsack2_mod(switches_to_migrate, capacity):\n",
        "    # Calculate the target load for each overloaded controller (weight of knapsack)\n",
        "    target_loads = {overloaded_controller: controller_loads[overloaded_controller] - (0.9 * capacity) for overloaded_controller in switches_to_migrate}\n",
        "    print(f'target_loads: {target_loads}')\n",
        "\n",
        "    # Initialize the result dictionary that `min_knapsack2` will return as an output of this function\n",
        "    delta_E_per_controller = {}\n",
        "\n",
        "    for overloaded_controllers in switches_to_migrate:\n",
        "      x1 = []\n",
        "      switches = {switch[0]: switch[1] for switch in switches_to_migrate[overloaded_controllers]}\n",
        "      switch_to_candidate_controller = findCandidateControllerList(switches_to_migrate)\n",
        "\n",
        "      for switch, load in switches.items():\n",
        "        # Find the corresponding candidate controllers list for this switch\n",
        "        controller_candidates = [ candidate for item in switch_to_candidate_controller if item[0] == switch and overloaded_controllers == G.nodes[switch][\"selected_con\"] for candidate in item[2:] if candidate[2] >= load]\n",
        "        # Calculate delta_E for each candidate controller\n",
        "        delta_Es = [[switch, candidate[0], load * (candidate[1] - findHopcount(switch_source=switch, controller_dest=overloaded_controllers))] for candidate in controller_candidates]\n",
        "        if delta_Es:\n",
        "          min_element = min(delta_Es, key=lambda x: x[2])\n",
        "          result = [min_element]\n",
        "          x1.append(result)\n",
        "      x1 = sorted(x1, key=lambda x: min(sublist[2] for sublist in x))\n",
        "      print(f'from con{overloaded_controllers}: {x1}')\n",
        "\n",
        "      x2 = []\n",
        "      controller_load_update = {}\n",
        "      total_loads = 0\n",
        "      for sublist in x1:\n",
        "        passed_condition = True\n",
        "        new_total_loads = total_loads\n",
        "        for switch, con, delta_E in sublist:\n",
        "          passed_condition = True\n",
        "          new_total_loads = total_loads\n",
        "          for switch, con, delta_E in sublist:\n",
        "            if switch in switches and new_total_loads < target_loads[overloaded_controllers]:\n",
        "                new_total_loads += switches[switch]\n",
        "                load = switches[switch]\n",
        "                if con in controller_load_update:\n",
        "                    controller_load_update[con] += load\n",
        "                else:\n",
        "                    controller_load_update[con] = load\n",
        "            else:\n",
        "                passed_condition = False\n",
        "                break\n",
        "          \n",
        "          if passed_condition:\n",
        "              x2.append(sublist)\n",
        "              total_loads = new_total_loads\n",
        "\n",
        "      # Update controller load before going next overload controller \n",
        "      controller_loads[overloaded_controllers] -= total_loads\n",
        "      for key in controller_load_update:\n",
        "        controller_loads[key] += controller_load_update[key]\n",
        "\n",
        "      if overloaded_controllers in delta_E_per_controller:\n",
        "          delta_E_per_controller[overloaded_controllers].append(x2)\n",
        "      else:\n",
        "          delta_E_per_controller[overloaded_controllers] = x2\n",
        "    \n",
        "    return delta_E_per_controller"
      ],
      "metadata": {
        "id": "pTi9fCa-yDxf"
      },
      "execution_count": null,
      "outputs": []
    },
    {
      "cell_type": "code",
      "source": [
        "result = min_knapsack2_mod(switches_to_migrate, capacity)\n",
        "result"
      ],
      "metadata": {
        "id": "7S-0mNMvyKav",
        "colab": {
          "base_uri": "https://localhost:8080/"
        },
        "outputId": "b005215f-b831-4f2b-deb0-91584757fa61"
      },
      "execution_count": null,
      "outputs": [
        {
          "output_type": "stream",
          "name": "stdout",
          "text": [
            "target_loads: {'13': 1111.0, '2': 1042.0, '7': 1013.0, '18': 338.0, '1': 255.0, '14': 181.0}\n",
            "from con13: [[['12', '24', 0]], [['22', '24', 0]], [['8', '24', 772]]]\n",
            "from con2: [[['15', '19', 376]], [['16', '19', 432]], [['9', '19', 710]]]\n",
            "from con7: []\n",
            "from con18: []\n",
            "from con1: []\n",
            "from con14: []\n"
          ]
        },
        {
          "output_type": "execute_result",
          "data": {
            "text/plain": [
              "{'13': [[['12', '24', 0]], [['22', '24', 0]], [['8', '24', 772]]],\n",
              " '2': [[['15', '19', 376]], [['16', '19', 432]], [['9', '19', 710]]],\n",
              " '7': [],\n",
              " '18': [],\n",
              " '1': [],\n",
              " '14': []}"
            ]
          },
          "metadata": {},
          "execution_count": 63
        }
      ]
    },
    {
      "cell_type": "markdown",
      "source": [
        "### By using min-knapsack soving algorithm (**dynamic programming** approach)"
      ],
      "metadata": {
        "id": "eA7BxkntdMTR"
      }
    },
    {
      "cell_type": "markdown",
      "source": [
        "#### sim"
      ],
      "metadata": {
        "id": "um_DaevYzI0J"
      }
    },
    {
      "cell_type": "code",
      "source": [
        "# Define the packet handling capacity for controllers (1500 packets/second)\n",
        "capacity = 1500\n",
        "\n",
        "# Find all controller nodes\n",
        "controllers = [n for n, d in G.nodes(data=True) if d['role'] == \"controller\"]\n",
        "\n",
        "# Dictionary to keep track of controller loads\n",
        "controller_loads = {c: 0 for c in controllers}\n",
        "\n",
        "packet_amount = {}\n",
        "\n",
        "seed = 650631030  # seed value for reproducibility\n",
        "packet_rate = 505    # average rate or expected value\n",
        "size = amount_of_switch  # number of switch\n",
        "packet_size = {}\n",
        "\n",
        "for t in range(10):\n",
        "  # Creating a random number generator with a fixed seed\n",
        "  rng = np.random.default_rng(seed)\n",
        "  seed *= seed\n",
        "  \n",
        "  # Generating values from a Poisson distribution using the seeded generator\n",
        "  packet_size[t] = rng.poisson(lam=packet_rate, size=size)\n",
        "  print(f\"Generated Poisson samples with fixed seed t={t+1}: {packet_size[t]}\")\n",
        "  packetsum = sum(packet_size[t])\n",
        "  print(f'Sum of packet size: {packetsum}')"
      ],
      "metadata": {
        "colab": {
          "base_uri": "https://localhost:8080/"
        },
        "id": "dyLw9leXzLE7",
        "outputId": "09e9639e-a001-4676-c9cb-2fef73e9626e"
      },
      "execution_count": 14,
      "outputs": [
        {
          "output_type": "stream",
          "name": "stdout",
          "text": [
            "Generated Poisson samples with fixed seed t=1: [501 477 520 487 535 557 490 467 488 492 546 512 492 488 586 517 473]\n",
            "Sum of packet size: 8628\n",
            "Generated Poisson samples with fixed seed t=2: [522 518 522 496 511 499 509 476 544 483 574 495 512 533 485 550 523]\n",
            "Sum of packet size: 8752\n",
            "Generated Poisson samples with fixed seed t=3: [466 499 537 478 481 489 502 534 511 516 508 530 497 493 514 511 514]\n",
            "Sum of packet size: 8580\n",
            "Generated Poisson samples with fixed seed t=4: [470 520 522 553 516 493 551 542 523 526 502 527 483 456 501 538 483]\n",
            "Sum of packet size: 8706\n",
            "Generated Poisson samples with fixed seed t=5: [496 518 475 494 543 488 474 513 495 498 508 500 439 526 473 489 503]\n",
            "Sum of packet size: 8432\n",
            "Generated Poisson samples with fixed seed t=6: [482 514 511 503 498 548 469 471 498 531 539 462 475 525 517 513 510]\n",
            "Sum of packet size: 8566\n",
            "Generated Poisson samples with fixed seed t=7: [495 483 475 480 474 528 522 490 482 528 470 524 523 542 472 534 544]\n",
            "Sum of packet size: 8566\n",
            "Generated Poisson samples with fixed seed t=8: [504 500 533 510 522 501 523 497 515 526 533 503 470 476 500 486 480]\n",
            "Sum of packet size: 8579\n",
            "Generated Poisson samples with fixed seed t=9: [500 503 465 524 495 467 504 529 513 496 548 499 541 483 547 520 503]\n",
            "Sum of packet size: 8637\n",
            "Generated Poisson samples with fixed seed t=10: [529 490 496 518 525 515 481 534 514 515 533 536 535 517 529 550 471]\n",
            "Sum of packet size: 8788\n"
          ]
        }
      ]
    },
    {
      "cell_type": "code",
      "source": [
        "# Simulate packet generation and handling for a given number of seconds (e.g. 10 seconds)\n",
        "sim_time = 1\n",
        "setSelectedCon()\n",
        "for i in range(sim_time):\n",
        "    # Generate packets for each switch and send to its selected controller\n",
        "    k = 0\n",
        "    for node in G.nodes():\n",
        "        if G.nodes[node]['role'] == 'switch':\n",
        "            selected_con = G.nodes[node]['selected_con']\n",
        "            packet_count = packet_size[i][k]\n",
        "            k += 1\n",
        "            packet_amount[node] = packet_count\n",
        "            controller_loads[selected_con] += packet_count\n",
        "            print(f\"Switch {node} generated {packet_count} packets and sent to controller {selected_con}\")\n",
        "\n",
        "    # Update controller load every second\n",
        "    if i % 1 == 0:\n",
        "        print()\n",
        "        print(\"Controller loads after\", i+1, \"seconds:\")\n",
        "        print(f\"Controller capacity: {capacity}\",end='\\n\\n')\n",
        "        for node in G.nodes():\n",
        "            if G.nodes[node]['role'] == 'controller':\n",
        "                print(f\"Controller {node} load: {controller_loads[node]} pps\")\n",
        "                if controller_loads[node] > capacity:\n",
        "                  print(f\"Controller {node} is overloaded!\")\n",
        "        print()"
      ],
      "metadata": {
        "colab": {
          "base_uri": "https://localhost:8080/"
        },
        "id": "EjsCQaEkzUb0",
        "outputId": "31a55156-2b29-4e43-adda-4116adc43f8e"
      },
      "execution_count": 15,
      "outputs": [
        {
          "output_type": "stream",
          "name": "stdout",
          "text": [
            "Switch 0 generated 501 packets and sent to controller 1\n",
            "Switch 3 generated 477 packets and sent to controller 2\n",
            "Switch 4 generated 520 packets and sent to controller 7\n",
            "Switch 5 generated 487 packets and sent to controller 7\n",
            "Switch 6 generated 535 packets and sent to controller 1\n",
            "Switch 8 generated 557 packets and sent to controller 13\n",
            "Switch 9 generated 490 packets and sent to controller 2\n",
            "Switch 10 generated 467 packets and sent to controller 13\n",
            "Switch 11 generated 488 packets and sent to controller 13\n",
            "Switch 12 generated 492 packets and sent to controller 13\n",
            "Switch 15 generated 546 packets and sent to controller 2\n",
            "Switch 16 generated 512 packets and sent to controller 2\n",
            "Switch 17 generated 492 packets and sent to controller 2\n",
            "Switch 20 generated 488 packets and sent to controller 2\n",
            "Switch 21 generated 586 packets and sent to controller 2\n",
            "Switch 22 generated 517 packets and sent to controller 13\n",
            "Switch 23 generated 473 packets and sent to controller 24\n",
            "\n",
            "Controller loads after 1 seconds:\n",
            "Controller capacity: 1500\n",
            "\n",
            "Controller 1 load: 1036 pps\n",
            "Controller 2 load: 3591 pps\n",
            "Controller 2 is overloaded!\n",
            "Controller 7 load: 1007 pps\n",
            "Controller 13 load: 2521 pps\n",
            "Controller 13 is overloaded!\n",
            "Controller 14 load: 0 pps\n",
            "Controller 18 load: 0 pps\n",
            "Controller 19 load: 0 pps\n",
            "Controller 24 load: 473 pps\n",
            "\n"
          ]
        }
      ]
    },
    {
      "cell_type": "code",
      "source": [
        "switches_to_migrate = findSwitchtoMigrateList()\n",
        "switch_to_candidate_controller = findCandidateControllerList(switches_to_migrate)"
      ],
      "metadata": {
        "id": "OoTzb9_izd8F"
      },
      "execution_count": 16,
      "outputs": []
    },
    {
      "cell_type": "markdown",
      "source": [
        "#### code"
      ],
      "metadata": {
        "id": "q13vLWblzCX5"
      }
    },
    {
      "cell_type": "code",
      "source": [
        "def expandDP(dp, items, new_max_weight):\n",
        "    n = len(items)\n",
        "    max_weight = len(dp[0])\n",
        "\n",
        "    if new_max_weight <= max_weight - 1:\n",
        "        return dp\n",
        "\n",
        "    for row in dp:\n",
        "        row.extend([float('inf')] * (new_max_weight - max_weight + 1))\n",
        "  \n",
        "    for i in range(1, n+1):\n",
        "        weight, value = items[i - 1][1], items[i - 1][3]\n",
        "        for j in range(max_weight, new_max_weight + 1):\n",
        "            if weight <= j:\n",
        "                dp[i][j] = min(dp[i - 1][j], dp[i - 1][j - weight] + value)\n",
        "            else:\n",
        "                dp[i][j] = dp[i - 1][j]\n",
        "\n",
        "    return dp"
      ],
      "metadata": {
        "id": "2yRmOPWeNCpa"
      },
      "execution_count": 26,
      "outputs": []
    },
    {
      "cell_type": "code",
      "source": [
        "def min_knapsack_GPT(target_weight, items):\n",
        "    # Get the number of items\n",
        "    n = len(items)\n",
        "    \n",
        "    # Calculate the maximum possible weight and initialize the dynamic programming table\n",
        "    init_max_weight = target_weight + 1\n",
        "\n",
        "    differences_weight = find_value_differences([item[1] for item in items])\n",
        "    \n",
        "    sum_total_weight = sum(item[1] for item in items)\n",
        "    dp = [[float('inf')] * init_max_weight for _ in range(n + 1)]\n",
        "\n",
        "    # Initialize the first column of the table with 0\n",
        "    for i in range(n + 1):\n",
        "        dp[i][0] = 0\n",
        "\n",
        "    # Iterate through the items and fill in the dynamic programming table\n",
        "    for i in range(1, n + 1):\n",
        "        weight, value = items[i - 1][1], items[i - 1][3]\n",
        "        for j in range(init_max_weight):\n",
        "            if weight <= j:\n",
        "                # If the item can be included, find the minimum value with or without the item\n",
        "                dp[i][j] = min(dp[i - 1][j], dp[i - 1][j - weight] + value)\n",
        "            else:\n",
        "                # If the item cannot be included, the value remains the same as the previous row\n",
        "                dp[i][j] = dp[i - 1][j]\n",
        "\n",
        "    # Find the minimum value for the target weight or greater\n",
        "    min_value = float('inf')\n",
        "    min_weight = -1\n",
        "\n",
        "    weight = target_weight # Start knapsack weight -> to find minimum value \n",
        "    new_max_weight = init_max_weight\n",
        "\n",
        "    while weight < len(dp[n]) and weight < sum_total_weight:\n",
        "        value = dp[n][weight]\n",
        "        if value < min_value:\n",
        "            min_value = value\n",
        "            min_weight = weight\n",
        "            break\n",
        "        else:\n",
        "            new_max_weight += differences_weight\n",
        "            expanded_dp = expandDP(dp, items, new_max_weight)\n",
        "            \n",
        "        weight += 1\n",
        "\n",
        "    # If there is no solution, return -1 and an empty list\n",
        "    if min_value == float('inf'):\n",
        "        return -1, []\n",
        "\n",
        "    # Backtrack through the dynamic programming table to find the selected items\n",
        "    selected_items = []\n",
        "    i, j = n, min_weight\n",
        "    while i > 0 and j > 0:\n",
        "        if dp[i][j] != dp[i - 1][j]:\n",
        "            selected_items.append([items[i - 1][0],items[i - 1][2],items[i - 1][3]])\n",
        "            j -= items[i - 1][1]\n",
        "        i -= 1\n",
        "\n",
        "    # Return the minimum value and the selected items\n",
        "    return min_value, selected_items, min_weight"
      ],
      "metadata": {
        "id": "XMWWVvBkY2Ez"
      },
      "execution_count": 1,
      "outputs": []
    },
    {
      "cell_type": "code",
      "source": [
        "def min_knapsack3_dp(switches_to_migrate, capacity):\n",
        "    # Calculate the target load for each overloaded controller (weight of knapsack)\n",
        "    target_loads = {overloaded_controller: controller_loads[overloaded_controller] - (1 * capacity) for overloaded_controller in switches_to_migrate}\n",
        "    print(f'target_loads: {target_loads}')\n",
        "\n",
        "    # Initialize the result dictionary that `min_knapsack2` will return as an output of this function\n",
        "    delta_E_per_controller = {}\n",
        "\n",
        "    for overloaded_controllers in switches_to_migrate:\n",
        "      x1 = []\n",
        "      controller_candidates = []\n",
        "      switches = {switch[0]: switch[1] for switch in switches_to_migrate[overloaded_controllers]}\n",
        "      switch_to_candidate_controller = findCandidateControllerList(switches_to_migrate)\n",
        "      for switch, load in switches.items():\n",
        "        # Find the corresponding candidate controllers list for this switch\n",
        "        for item in switch_to_candidate_controller:\n",
        "          if item[0] == switch and overloaded_controllers == G.nodes[switch]['selected_con']:\n",
        "              filtered_candidates = []\n",
        "              for candidate in item[2:]:\n",
        "                if candidate[2] >= load:\n",
        "                    filtered_candidates.append(candidate)\n",
        "                controller_candidates = filtered_candidates\n",
        "              break\n",
        "\n",
        "        # Calculate delta_E for each candidate controller\n",
        "        delta_Es = [[switch, load, candidate[0], load * (candidate[1] - findHopcount(switch_source=switch, controller_dest=overloaded_controllers))] for candidate in controller_candidates]\n",
        "        # Select pairs of switch and controller with highest capacity controller left and lowest delta_E of each switch to filtered out of duplicate switch\n",
        "        \n",
        "        if delta_Es:\n",
        "          min_element = min(delta_Es, key=lambda x: x[3])\n",
        "          result = min_element\n",
        "          x1.append(result)\n",
        "      print(f'x1: {x1}')\n",
        "      result_x1, x1, total_loads = min_knapsack_GPT(target_loads[overloaded_controllers], x1)\n",
        "      print(f'\\n Selected it: {x1}')\n",
        "      print(f\"Minimum value (sum delta_E): {result_x1}\")\n",
        "      print(f\"Weight (sum switches load): {total_loads}\")\n",
        "\n",
        "      # controller_load_update = {}\n",
        "      # for switch, con, delta_E in x1:\n",
        "      #   load = switches[switch]\n",
        "      #   if con in controller_load_update:\n",
        "      #       controller_load_update[con] += load\n",
        "      #   else:\n",
        "      #       controller_load_update[con] = load\n",
        "      # Update controller load before going next overload controller \n",
        "      # controller_loads[overloaded_controllers] -= total_loads\n",
        "      # for key in controller_load_update:\n",
        "      #   controller_loads[key] += controller_load_update[key]\n",
        "\n",
        "      if overloaded_controllers in delta_E_per_controller:\n",
        "          delta_E_per_controller[overloaded_controllers].append(x1)\n",
        "      else:\n",
        "          delta_E_per_controller[overloaded_controllers] = x1\n",
        "\n",
        "    return delta_E_per_controller"
      ],
      "metadata": {
        "id": "Tx8yVo5WdRfi"
      },
      "execution_count": 46,
      "outputs": []
    },
    {
      "cell_type": "code",
      "source": [
        "result2 = min_knapsack3_dp(switches_to_migrate, capacity)\n",
        "print(result2)"
      ],
      "metadata": {
        "id": "ExP73tlSdixf",
        "colab": {
          "base_uri": "https://localhost:8080/"
        },
        "outputId": "54541e17-0971-4132-8ed5-a98bbcb02963"
      },
      "execution_count": 47,
      "outputs": [
        {
          "output_type": "stream",
          "name": "stdout",
          "text": [
            "target_loads: {'2': 2091, '13': 1021}\n",
            "x1: [['3', 477, '7', 477], ['9', 490, '14', 490], ['15', 546, '18', 546], ['16', 512, '18', 512], ['17', 492, '18', 0], ['20', 488, '19', 0], ['21', 586, '18', 0]]\n",
            "\n",
            " Selected it: [['21', '18', 0], ['20', '19', 0], ['15', '18', 546], ['3', '7', 477]]\n",
            "Minimum value (sum delta_E): 1023\n",
            "Weight (sum switches load): 2097\n",
            "x1: [['8', 557, '14', 557], ['10', 467, '14', 0], ['11', 488, '14', 0], ['12', 492, '24', 0], ['22', 517, '24', 0]]\n",
            "\n",
            " Selected it: [['10', '14', 0], ['8', '14', 557]]\n",
            "Minimum value (sum delta_E): 557\n",
            "Weight (sum switches load): 1024\n",
            "{'2': [['21', '18', 0], ['20', '19', 0], ['15', '18', 546], ['3', '7', 477]], '13': [['10', '14', 0], ['8', '14', 557]]}\n"
          ]
        }
      ]
    },
    {
      "cell_type": "markdown",
      "source": [
        "### By using min-knapsack soving algorithm (**greedy** approach)"
      ],
      "metadata": {
        "id": "PtTCyzQg0cHP"
      }
    },
    {
      "cell_type": "code",
      "source": [
        "def min_knapsack_GPT2(target_weight, items):\n",
        "    n = len(items)\n",
        "    ratios = [(items[i][3]/items[i][1], items[i][1], items[i][3], i) for i in range(n)]\n",
        "    ratios.sort()\n",
        "    total_weight = 0\n",
        "    total_value = 0\n",
        "    knapsack = []\n",
        "    for i in range(n):\n",
        "        if total_weight + ratios[i][1] <= target_weight:\n",
        "            total_weight += ratios[i][1]\n",
        "            total_value += ratios[i][2]\n",
        "            knapsack.append(ratios[i][3])\n",
        "        else:\n",
        "            break\n",
        "    while total_weight < target_weight:\n",
        "        total_weight += ratios[i][1]\n",
        "        total_value += ratios[i][2]\n",
        "        knapsack.append(ratios[i][3])\n",
        "    knapsack_items = [[items[i][0], items[i][2], items[i][3]] for i in knapsack]\n",
        "\n",
        "    return total_value, total_weight, knapsack_items"
      ],
      "metadata": {
        "id": "DUqnFmi60htW"
      },
      "execution_count": null,
      "outputs": []
    },
    {
      "cell_type": "code",
      "source": [
        "def min_knapsack3_gd(switches_to_migrate, capacity):\n",
        "    # Calculate the target load for each overloaded controller (weight of knapsack)\n",
        "    target_loads = {overloaded_controller: controller_loads[overloaded_controller] - (0.9 * capacity) for overloaded_controller in switches_to_migrate}\n",
        "    print(f'target_loads: {target_loads}')\n",
        "\n",
        "    # Initialize the result dictionary that `min_knapsack2` will return as an output of this function\n",
        "    delta_E_per_controller = {}\n",
        "\n",
        "    for overloaded_controllers in switches_to_migrate:\n",
        "      x1 = []\n",
        "      switches = {switch[0]: switch[1] for switch in switches_to_migrate[overloaded_controllers]}\n",
        "      switch_to_candidate_controller = findCandidateControllerList(switches_to_migrate)\n",
        "\n",
        "      for switch, load in switches.items():\n",
        "        # Find the corresponding candidate controllers list for this switch\n",
        "        controller_candidates = [ candidate for item in switch_to_candidate_controller if item[0] == switch and overloaded_controllers == G.nodes[switch][\"selected_con\"] for candidate in item[2:] if candidate[2] >= load]\n",
        "        # Calculate delta_E for each candidate controller\n",
        "        delta_Es = [[switch, load, candidate[0], load * (candidate[1] - findHopcount(switch_source=switch, controller_dest=overloaded_controllers))] for candidate in controller_candidates]\n",
        "        # Select pairs of switch and controller with highest capacity controller left and lowest delta_E of each switch to filtered out of duplicate switch\n",
        "        if delta_Es:\n",
        "          min_element = min(delta_Es, key=lambda x: x[3])\n",
        "          result = min_element\n",
        "          x1.append(result)\n",
        "      result_x1, load, x1 = min_knapsack_GPT2(target_loads[overloaded_controllers], x1)\n",
        "\n",
        "      print(\"Minimum cost:\", result_x1)\n",
        "      print(\"Total weight of the knapsack:\", load)\n",
        "      print(\"Selected items:\", x1)\n",
        "\n",
        "      # controller_load_update = {}\n",
        "      # for switch, con, delta_E in x1:\n",
        "      #   load = switches[switch]\n",
        "      #   if con in controller_load_update:\n",
        "      #       controller_load_update[con] += load\n",
        "      #   else:\n",
        "      #       controller_load_update[con] = load\n",
        "      # Update controller load before going next overload controller \n",
        "      # controller_loads[overloaded_controllers] -= total_loads\n",
        "      # for key in controller_load_update:\n",
        "      #   controller_loads[key] += controller_load_update[key]\n",
        "\n",
        "      if overloaded_controllers in delta_E_per_controller:\n",
        "          delta_E_per_controller[overloaded_controllers].append(x1)\n",
        "      else:\n",
        "          delta_E_per_controller[overloaded_controllers] = x1\n",
        "\n",
        "    \n",
        "    return delta_E_per_controller"
      ],
      "metadata": {
        "id": "ZrNTAGFe0n4i"
      },
      "execution_count": null,
      "outputs": []
    },
    {
      "cell_type": "code",
      "source": [
        "result3 = min_knapsack3_gd(switches_to_migrate, capacity)\n",
        "result3"
      ],
      "metadata": {
        "colab": {
          "base_uri": "https://localhost:8080/"
        },
        "id": "x0F0Os2u02o1",
        "outputId": "556f9279-efe3-4dc4-d84e-670920ed559f"
      },
      "execution_count": null,
      "outputs": [
        {
          "output_type": "stream",
          "name": "stdout",
          "text": [
            "target_loads: {'2': 1499.0, '13': 646.0}\n",
            "Minimum cost: 375\n",
            "Total weight of the knapsack: 1620\n",
            "Selected items: [['20', '19', 0], ['17', '18', 0], ['21', '18', 0], ['3', '7', 375]]\n",
            "Minimum cost: 0\n",
            "Total weight of the knapsack: 751\n",
            "Selected items: [['10', '14', 0], ['11', '14', 0]]\n"
          ]
        },
        {
          "output_type": "execute_result",
          "data": {
            "text/plain": [
              "{'2': [['20', '19', 0], ['17', '18', 0], ['21', '18', 0], ['3', '7', 375]],\n",
              " '13': [['10', '14', 0], ['11', '14', 0]]}"
            ]
          },
          "metadata": {},
          "execution_count": 79
        }
      ]
    },
    {
      "cell_type": "markdown",
      "source": [
        "## Print result"
      ],
      "metadata": {
        "id": "s43NIJKzGDqw"
      }
    },
    {
      "cell_type": "code",
      "source": [
        "def removeInnerlist(result):\n",
        "  for key in result:\n",
        "    result[key] = [item[0] for item in result[key]]\n",
        "  return result\n",
        "# result = removeInnerlist(result)"
      ],
      "metadata": {
        "id": "gpztL_B7GU0V"
      },
      "execution_count": 20,
      "outputs": []
    },
    {
      "cell_type": "code",
      "source": [
        "result = removeInnerlist(result)"
      ],
      "metadata": {
        "id": "qHl5nKoQcdN5"
      },
      "execution_count": null,
      "outputs": []
    },
    {
      "cell_type": "code",
      "source": [
        "result"
      ],
      "metadata": {
        "colab": {
          "base_uri": "https://localhost:8080/"
        },
        "id": "tbXvr2cOGguh",
        "outputId": "054dc9d9-e133-4018-d9a9-ff1d3ef35625"
      },
      "execution_count": null,
      "outputs": [
        {
          "output_type": "execute_result",
          "data": {
            "text/plain": [
              "{'2': [['17', '18', 0], ['20', '19', 0], ['21', '18', 0], ['3', '7', 375]],\n",
              " '13': [['10', '14', 0], ['11', '14', 0]]}"
            ]
          },
          "metadata": {},
          "execution_count": 53
        }
      ]
    },
    {
      "cell_type": "code",
      "source": [
        "def printResult(result):\n",
        "  for controller, switches in result.items():\n",
        "    print(f\"From controller {controller}\")\n",
        "    table_data = []\n",
        "    for switch in switches:\n",
        "        table_data.append([switch[0], switch[1], switch[2]])\n",
        "    print(tabulate(table_data, headers=[\"Switch\", \"To Controller\", \"Delta_E\"]))\n",
        "    print()"
      ],
      "metadata": {
        "id": "y6RKOLGWGBev"
      },
      "execution_count": 21,
      "outputs": []
    },
    {
      "cell_type": "code",
      "source": [
        "# Print result from `min_knapsack2_mod`\n",
        "printResult(result)"
      ],
      "metadata": {
        "id": "ckm6KGTnJie-"
      },
      "execution_count": null,
      "outputs": []
    },
    {
      "cell_type": "code",
      "source": [
        "# Print result from `min_knapsack3_dp`\n",
        "printResult(result2)"
      ],
      "metadata": {
        "id": "L36onHgjdivZ"
      },
      "execution_count": null,
      "outputs": []
    },
    {
      "cell_type": "markdown",
      "source": [
        "## Migrate"
      ],
      "metadata": {
        "id": "tzy5cUMlD5Yt"
      }
    },
    {
      "cell_type": "code",
      "source": [
        "def doMigrate(result):\n",
        "  for switches in result.items():\n",
        "    for switch in switches[1:]:\n",
        "      for i in switch:\n",
        "        node_id = i[0]\n",
        "        G.nodes[node_id]['selected_con'] = i[1]"
      ],
      "metadata": {
        "id": "pjprUQy2D9N4"
      },
      "execution_count": 22,
      "outputs": []
    },
    {
      "cell_type": "code",
      "source": [
        "doMigrate(result)"
      ],
      "metadata": {
        "id": "EdzEVtbYEdOd"
      },
      "execution_count": null,
      "outputs": []
    },
    {
      "cell_type": "code",
      "source": [
        "printSwitchController()"
      ],
      "metadata": {
        "id": "iHEq5T1OLFFT"
      },
      "execution_count": null,
      "outputs": []
    },
    {
      "cell_type": "markdown",
      "source": [
        "# Evaluate energy cost"
      ],
      "metadata": {
        "id": "ztu41av3ASiO"
      }
    },
    {
      "cell_type": "code",
      "source": [
        "def energycostCalculate(G):\n",
        "  hop_counts = {}\n",
        "  energycost_oneswitch = {}\n",
        "  total_energyconsume = 0\n",
        "\n",
        "  for node in G.nodes():\n",
        "    if G.nodes[node]['role'] == 'switch':\n",
        "      selected_con = G.nodes[node]['selected_con']\n",
        "      hopcount = findHopcount(switch_source = node, controller_dest = selected_con)\n",
        "      # print(f'From sw:{node} load: {packet_amount[node]} to con:{selected_con} hc: {hopcount}')\n",
        "      energycost_oneswitch[node] = packet_amount[node]  * hopcount\n",
        "\n",
        "  #Calculate energy cost from all switches by its load and hop counts to its controller\n",
        "  for switch, ec_oneswitch in energycost_oneswitch.items():\n",
        "      total_energyconsume += ec_oneswitch\n",
        "  \n",
        "  return total_energyconsume"
      ],
      "metadata": {
        "id": "-PGDMyXSTqq0"
      },
      "execution_count": 23,
      "outputs": []
    },
    {
      "cell_type": "markdown",
      "source": [
        "# Simulation"
      ],
      "metadata": {
        "id": "I-fxN9u9mOaO"
      }
    },
    {
      "cell_type": "code",
      "source": [
        "# Define the packet handling capacity for controllers (1500 packets/second)\n",
        "capacity = 1500\n",
        "\n",
        "# Find all controller nodes\n",
        "controllers = [n for n, d in G.nodes(data=True) if d['role'] == \"controller\"]\n",
        "\n",
        "# Dictionary to keep track of controller loads\n",
        "controller_loads = {c: 0 for c in controllers}"
      ],
      "metadata": {
        "id": "Fu8ruj6D7zf2"
      },
      "execution_count": 117,
      "outputs": []
    },
    {
      "cell_type": "code",
      "source": [
        "seed = 650631030  # seed value for reproducibility\n",
        "size = amount_of_switch  # number of switch\n",
        "packet_size = {}\n",
        "packet_rate = 505  # average rate or expected value\n",
        "for t in range(10):\n",
        "  # Creating a random number generator with a fixed seed\n",
        "  rng = np.random.default_rng(seed)\n",
        "  seed *= seed\n",
        "  \n",
        "  # Generating values from a Poisson distribution using the seeded generator\n",
        "  packet_size[t] = rng.poisson(lam=packet_rate, size=size)\n",
        "  print(f\"Generated Poisson samples with fixed seed t={t+1}: {packet_size[t]}\", end=\"\\t\")\n",
        "  packetsum = sum(packet_size[t])\n",
        "  print(f'Sum of packet size: {packetsum}')"
      ],
      "metadata": {
        "colab": {
          "base_uri": "https://localhost:8080/"
        },
        "id": "-7IreV9o39J9",
        "outputId": "92f8acc0-9e16-4ab2-9144-0a65b2955775"
      },
      "execution_count": 118,
      "outputs": [
        {
          "output_type": "stream",
          "name": "stdout",
          "text": [
            "Generated Poisson samples with fixed seed t=1: [501 477 520 487 535 557 490 467 488 492 546 512 492 488 586 517 473]\tSum of packet size: 8628\n",
            "Generated Poisson samples with fixed seed t=2: [522 518 522 496 511 499 509 476 544 483 574 495 512 533 485 550 523]\tSum of packet size: 8752\n",
            "Generated Poisson samples with fixed seed t=3: [466 499 537 478 481 489 502 534 511 516 508 530 497 493 514 511 514]\tSum of packet size: 8580\n",
            "Generated Poisson samples with fixed seed t=4: [470 520 522 553 516 493 551 542 523 526 502 527 483 456 501 538 483]\tSum of packet size: 8706\n",
            "Generated Poisson samples with fixed seed t=5: [496 518 475 494 543 488 474 513 495 498 508 500 439 526 473 489 503]\tSum of packet size: 8432\n",
            "Generated Poisson samples with fixed seed t=6: [482 514 511 503 498 548 469 471 498 531 539 462 475 525 517 513 510]\tSum of packet size: 8566\n",
            "Generated Poisson samples with fixed seed t=7: [495 483 475 480 474 528 522 490 482 528 470 524 523 542 472 534 544]\tSum of packet size: 8566\n",
            "Generated Poisson samples with fixed seed t=8: [504 500 533 510 522 501 523 497 515 526 533 503 470 476 500 486 480]\tSum of packet size: 8579\n",
            "Generated Poisson samples with fixed seed t=9: [500 503 465 524 495 467 504 529 513 496 548 499 541 483 547 520 503]\tSum of packet size: 8637\n",
            "Generated Poisson samples with fixed seed t=10: [529 490 496 518 525 515 481 534 514 515 533 536 535 517 529 550 471]\tSum of packet size: 8788\n"
          ]
        }
      ]
    },
    {
      "cell_type": "code",
      "source": [
        "# Simulate packet generation and handling for a given number of seconds (e.g. 10 seconds)\n",
        "setSelectedCon()\n",
        "sim_time = 10\n",
        "avg_en = 0\n",
        "for i in range(sim_time):\n",
        "    # Generate packets for each switch and send to its selected controller\n",
        "    k = 0\n",
        "    packet_amount = {}\n",
        "    for node in G.nodes():\n",
        "        if G.nodes[node]['role'] == 'switch':\n",
        "            selected_con = G.nodes[node]['selected_con']\n",
        "            packet_count = packet_size[i][k]\n",
        "            k += 1\n",
        "            packet_amount[node] = packet_count\n",
        "            controller_loads[selected_con] += packet_count\n",
        "            # print(f\"Switch {node} generated {packet_count} packets and sent to controller {selected_con}\")\n",
        "\n",
        "    # Update controller load every second\n",
        "    if i % 1 == 0:\n",
        "        print()\n",
        "        print(\"Controller loads after\", i+1, \"seconds:\")\n",
        "        print(f\"Controller capacity: {capacity}\",end='\\n\\n')\n",
        "        for node in G.nodes():\n",
        "            if G.nodes[node]['role'] == 'controller':\n",
        "                print(f\"Controller {node} load: {controller_loads[node]} pps\")\n",
        "                if controller_loads[node] > capacity:\n",
        "                  print(f\"Controller {node} is overloaded!\")\n",
        "        print()\n",
        "        \n",
        "        # Added code part for migration process\n",
        "        try:\n",
        "            printSwitchController()\n",
        "            switches_to_migrate = findSwitchtoMigrateList()\n",
        "            result2 = min_knapsack3_dp(switches_to_migrate, capacity)\n",
        "            print()\n",
        "            printResult(result2)\n",
        "            doMigrate(result2)\n",
        "            print()\n",
        "            printSwitchController()\n",
        "        except:\n",
        "            print(\"\\n Controller capacity left not sufficient!!\")\n",
        "            printSwitchController()\n",
        "\n",
        "        controller_loads = {c: 0 for c in controllers}\n",
        "        avg_en += energycostCalculate(G)\n",
        "\n",
        "        \n",
        "        # End of added code part\n",
        "print(f'Avg energy consumption: {avg_en/sim_time}')"
      ],
      "metadata": {
        "id": "-UbmvoKuOtju"
      },
      "execution_count": null,
      "outputs": []
    },
    {
      "cell_type": "code",
      "source": [],
      "metadata": {
        "id": "T7JAQhOIKWk4"
      },
      "execution_count": null,
      "outputs": []
    }
  ]
}