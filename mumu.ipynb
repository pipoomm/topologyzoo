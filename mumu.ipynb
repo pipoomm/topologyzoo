{
  "nbformat": 4,
  "nbformat_minor": 0,
  "metadata": {
    "colab": {
      "provenance": [],
      "collapsed_sections": [
        "yT62NwRLmwUk",
        "bV4vHeo6DRt0",
        "PtTCyzQg0cHP"
      ],
      "gpuType": "T4",
      "toc_visible": true,
      "include_colab_link": true
    },
    "kernelspec": {
      "name": "python3",
      "display_name": "Python 3"
    },
    "language_info": {
      "name": "python"
    },
    "gpuClass": "standard"
  },
  "cells": [
    {
      "cell_type": "markdown",
      "metadata": {
        "id": "view-in-github",
        "colab_type": "text"
      },
      "source": [
        "<a href=\"https://colab.research.google.com/github/pipoomm/topologyzoo/blob/main/mumu.ipynb\" target=\"_parent\"><img src=\"https://colab.research.google.com/assets/colab-badge.svg\" alt=\"Open In Colab\"/></a>"
      ]
    },
    {
      "cell_type": "code",
      "execution_count": null,
      "metadata": {
        "id": "OO4vUcQu6Aca"
      },
      "outputs": [],
      "source": [
        "import numpy as np\n",
        "import math\n",
        "import random\n",
        "import networkx as nx\n",
        "\n",
        "import requests\n",
        "from io import StringIO, BytesIO\n",
        "import traceback\n",
        "import copy\n",
        "\n",
        "import matplotlib.pyplot as plt\n",
        "from tabulate import tabulate"
      ]
    },
    {
      "cell_type": "markdown",
      "source": [
        "## Preparing graph"
      ],
      "metadata": {
        "id": "VouoRa50mIRj"
      }
    },
    {
      "cell_type": "markdown",
      "source": [
        "###From k-random graph"
      ],
      "metadata": {
        "id": "Jj1cvuHs1veU"
      }
    },
    {
      "cell_type": "code",
      "source": [
        "def read_json_city_from_url(url):\n",
        "  # Fetch JSON city list data from the URL\n",
        "  response = requests.get(url)\n",
        "\n",
        "  # Check if the request was successful\n",
        "  if response.status_code == 200:\n",
        "      # Convert JSON data to a Python list\n",
        "      city_list = response.json()\n",
        "  else:\n",
        "      print(f\"Error fetching data: {response.status_code}\")\n",
        "\n",
        "  return city_list"
      ],
      "metadata": {
        "id": "WYoKx8AA3OIP"
      },
      "execution_count": null,
      "outputs": []
    },
    {
      "cell_type": "code",
      "source": [
        "# Parameters for the random k-regular graph\n",
        "k = 10   # Degree of each node\n",
        "n = 400  # Number of nodes in the graph\n",
        "\n",
        "# Generate a random k-regular graph\n",
        "G = nx.random_regular_graph(k, n)\n",
        "\n",
        "# Covert to graph with string node labels\n",
        "G = nx.relabel_nodes(G, {node: str(node) for node in G.nodes})"
      ],
      "metadata": {
        "id": "GSdyipOX15c2"
      },
      "execution_count": null,
      "outputs": []
    },
    {
      "cell_type": "code",
      "source": [
        "# Add city information to node attributes\n",
        "url = \"https://raw.githubusercontent.com/pipoomm/topologyzoo/main/airports_citylist.json\"\n",
        "city_list = read_json_city_from_url(url)\n",
        "\n",
        "node_attributes = {}\n",
        "seed_value = 610615011\n",
        "used_numbers = set() # set to keep track of used random_number values\n",
        "\n",
        "for i, node in enumerate(G.nodes):\n",
        "    random.seed(seed_value)\n",
        "    random_number = random.randint(0, 8866)\n",
        "    \n",
        "    # check if random_number has already been used, generate a new one if it has\n",
        "    while random_number in used_numbers:\n",
        "        random_number = random.randint(0, 8866)\n",
        "        \n",
        "    # add random_number to used_numbers set\n",
        "    used_numbers.add(random_number)\n",
        "\n",
        "    node_attributes[str(node)] = {\n",
        "        'Internal': 1,  \n",
        "        'Latitude': city_list[random_number]['latitude_deg'],  \n",
        "        'Country': city_list[random_number]['iso_country'],  \n",
        "        'type': 'node',\n",
        "        'id': str(node),\n",
        "        'Longitude': city_list[random_number]['longitude_deg'], \n",
        "        'label': city_list[random_number]['iata_code']\n",
        "    }\n",
        "    seed_value += 3\n",
        "\n",
        "# Set node attributes\n",
        "for node, attributes in node_attributes.items():\n",
        "     for attr_key, attr_value in attributes.items():\n",
        "         G.nodes[node][attr_key] = attr_value"
      ],
      "metadata": {
        "id": "-ukWjTRA18Yf"
      },
      "execution_count": null,
      "outputs": []
    },
    {
      "cell_type": "markdown",
      "source": [
        "###From The Internet Topology Zoo"
      ],
      "metadata": {
        "id": "vcD_sjI41aiv"
      }
    },
    {
      "cell_type": "code",
      "source": [
        "def read_graphml_from_url(url):\n",
        "    # Download the GraphML file\n",
        "    response = requests.get(url)\n",
        "    if response.status_code == 200:\n",
        "        # Parse the GraphML content using NetworkX\n",
        "        graphml_data = response.text\n",
        "        graphml_file = StringIO(graphml_data)\n",
        "        graph = nx.read_graphml(graphml_file)\n",
        "        return graph\n",
        "    else:\n",
        "        raise Exception(f\"Error downloading GraphML file. Status code: {response.status_code}\")"
      ],
      "metadata": {
        "id": "ICCyT6ozj56v"
      },
      "execution_count": null,
      "outputs": []
    },
    {
      "cell_type": "code",
      "source": [
        "# Topology dataset\n",
        "att = \"https://raw.githubusercontent.com/pipoomm/topologyzoo/main/AttMpls.graphml\"      # (25 Nodes, 57 Edges)\n",
        "geant = \"https://raw.githubusercontent.com/pipoomm/topologyzoo/main/Geant2012.graphml\"  # (37 Nodes, 58 Edges)\n",
        "\n",
        "certnet = \"https://raw.githubusercontent.com/pipoomm/topologyzoo/main/Cernet.graphml\"   # Small network (37 Nodes, 55 Edges)\n",
        "tw = \"https://raw.githubusercontent.com/pipoomm/topologyzoo/main/Tw.graphml\"            # Medium network (76 Nodes, 118 Edges)\n",
        "colt = \"https://raw.githubusercontent.com/pipoomm/topologyzoo/main/Colt.graphml\"        # Large network (149 Node, 178 Edges)\n",
        "\n",
        "# Load GraphML file\n",
        "G = read_graphml_from_url(att)"
      ],
      "metadata": {
        "id": "v2qow5pYldIM"
      },
      "execution_count": null,
      "outputs": []
    },
    {
      "cell_type": "code",
      "source": [
        "# Remove nodes without 'Latitude' or 'Longitude' attributes\n",
        "nodes_to_remove = [n for n, d in G.nodes(data=True) if 'Latitude' not in d or 'Longitude' not in d]\n",
        "G.remove_nodes_from(nodes_to_remove)\n",
        "\n",
        "# Remove isolated nodes\n",
        "isolated_nodes = list(nx.isolates(G))\n",
        "G.remove_nodes_from(isolated_nodes)"
      ],
      "metadata": {
        "id": "zq8NMWR2-BGR"
      },
      "execution_count": null,
      "outputs": []
    },
    {
      "cell_type": "markdown",
      "source": [
        "### Role assign and network topology virtualization"
      ],
      "metadata": {
        "id": "AzFWXoKj1f7C"
      }
    },
    {
      "cell_type": "code",
      "source": [
        "# Set the initial role of all nodes to \"none\"\n",
        "roles = {}\n",
        "for n in G.nodes():\n",
        "    roles[n] = \"none\""
      ],
      "metadata": {
        "id": "2xzluSk1GcYD"
      },
      "execution_count": null,
      "outputs": []
    },
    {
      "cell_type": "markdown",
      "source": [
        "#### Role assignment option 1"
      ],
      "metadata": {
        "id": "Ki-Tx33emdV4"
      }
    },
    {
      "cell_type": "code",
      "source": [
        "# target_controller_count = 100\n",
        "amount_of_controller = 0\n",
        "amount_of_switch = 0\n",
        "\n",
        "# Repeatedly identify \"controller\" and \"switch\" nodes until all nodes are defined\n",
        "while \"none\" in roles.values():\n",
        "    # Select the node with the highest number of connected neighbors and no role assigned\n",
        "    candidates = [n for n in G.nodes() if roles[n] == \"none\"]\n",
        "    node_degrees = [(n, G.degree(n)) for n in candidates]\n",
        "    node_degrees.sort(key=lambda x: (-x[1], x[0]))\n",
        "    node_i = node_degrees[0][0]\n",
        "\n",
        "    # If amount_of_controller is equal to target_controller_count, assign \"switch\" role to all remaining nodes without a role\n",
        "    # if amount_of_controller == target_controller_count:\n",
        "    #     for n in candidates:\n",
        "    #         roles[n] = \"switch\"\n",
        "    #         amount_of_switch += 1\n",
        "    #     break\n",
        "\n",
        "    # Assign the \"controller\" role to node i\n",
        "    roles[node_i] = \"controller\"\n",
        "    amount_of_controller += 1\n",
        "\n",
        "    # Assign the \"switch\" role to all 1-hop connected nodes (neighbors) of node i with no role assigned\n",
        "    for neighbor in G.neighbors(node_i):\n",
        "        if roles[neighbor] == \"none\":\n",
        "            roles[neighbor] = \"switch\"\n",
        "            amount_of_switch += 1\n",
        "\n",
        "# Set the role attribute for each node\n",
        "nx.set_node_attributes(G, roles, \"role\")\n",
        "print(f'Amount of controller: {amount_of_controller}\\nAmount of switch: {amount_of_switch}\\nTotal device: {amount_of_controller+amount_of_switch}')"
      ],
      "metadata": {
        "id": "hH7pgYfOvXDV"
      },
      "execution_count": null,
      "outputs": []
    },
    {
      "cell_type": "markdown",
      "source": [
        "#### Role assignment option 2 (for k-regular graph)"
      ],
      "metadata": {
        "id": "yT62NwRLmwUk"
      }
    },
    {
      "cell_type": "code",
      "source": [
        "target_controller_count = 130\n",
        "amount_of_controller = 0\n",
        "amount_of_switch = 0\n",
        "seed = 33400\n",
        "random.seed(seed)\n",
        "total_nodes = G.number_of_nodes()\n",
        "controller_list = [str(i) for i in random.sample(range(0, total_nodes - 1), target_controller_count)]\n",
        "\n",
        "for node_i in controller_list:\n",
        "  roles[node_i] = \"controller\"\n",
        "  amount_of_controller += 1\n",
        "for node_i in roles.items():\n",
        "  if node_i[1] == \"none\":\n",
        "    roles[node_i[0]] = \"switch\"\n",
        "    amount_of_switch += 1\n",
        "\n",
        "# Set the role attribute for each node\n",
        "nx.set_node_attributes(G, roles, \"role\")\n",
        "print(f'Amount of controller: {amount_of_controller}\\nAmount of switch: {amount_of_switch}\\nTotal device: {amount_of_controller+amount_of_switch}')"
      ],
      "metadata": {
        "id": "nVBGkm1xm8hZ"
      },
      "execution_count": null,
      "outputs": []
    },
    {
      "cell_type": "markdown",
      "source": [
        "#### Topology virtualization"
      ],
      "metadata": {
        "id": "V9-gnr0BnH-B"
      }
    },
    {
      "cell_type": "code",
      "source": [
        "num_edges = G.number_of_edges()\n",
        "print(\"Number of edges in the graph:\", num_edges)"
      ],
      "metadata": {
        "id": "eL20CV_oM2e1"
      },
      "execution_count": null,
      "outputs": []
    },
    {
      "cell_type": "code",
      "source": [
        "# Print the node roles\n",
        "for n, r in nx.get_node_attributes(G, \"role\").items():\n",
        "    print(f\"Node {n} is a {r}\")"
      ],
      "metadata": {
        "id": "NbAdveNRG0r4"
      },
      "execution_count": null,
      "outputs": []
    },
    {
      "cell_type": "code",
      "source": [
        "for n, data in G.nodes(data=True):\n",
        "    print(f\"Node {n}: {data}\")"
      ],
      "metadata": {
        "id": "_M_vk95SG6ul"
      },
      "execution_count": null,
      "outputs": []
    },
    {
      "cell_type": "code",
      "source": [
        "[n for n in G.neighbors('0')]"
      ],
      "metadata": {
        "id": "OnNGOkdnJ9Io"
      },
      "execution_count": null,
      "outputs": []
    },
    {
      "cell_type": "code",
      "source": [
        "node_positions = {}\n",
        "for node in G.nodes():\n",
        "  label = G.nodes[node]['id']\n",
        "  node_positions[node] = (G.nodes[node]['Longitude'], G.nodes[node]['Latitude'])\n",
        "\n",
        "# Define node colors based on their roles (controller: blue, switch: green)\n",
        "node_colors = {\"controller\": \"#3f84e5\", \"switch\": \"#84e296\"}\n",
        "\n",
        "# Draw the graph with node colors\n",
        "nx.draw(G, node_color=[node_colors[G.nodes[n][\"role\"]] for n in G.nodes()], pos=node_positions, labels={node: G.nodes[node]['label'] for node in G.nodes()},with_labels=True,node_size=100, font_size=9)\n",
        "\n",
        "# Show the plot\n",
        "plt.show()"
      ],
      "metadata": {
        "id": "nPrrHYO0Ball"
      },
      "execution_count": null,
      "outputs": []
    },
    {
      "cell_type": "markdown",
      "source": [
        "## Stage 1 - Matching switch wth nearest controller"
      ],
      "metadata": {
        "id": "UBNphsn1mgjv"
      }
    },
    {
      "cell_type": "code",
      "source": [
        "def haversine_distance(u, v):\n",
        "    lat1, lon1 = G.nodes[u]['Latitude'], G.nodes[u]['Longitude']\n",
        "    lat2, lon2 = G.nodes[v]['Latitude'], G.nodes[v]['Longitude']\n",
        "    \n",
        "    R = 6371  # Earth's radius in kilometers\n",
        "    \n",
        "    dlat = math.radians(lat2 - lat1)\n",
        "    dlon = math.radians(lon2 - lon1)\n",
        "    \n",
        "    a = (math.sin(dlat / 2) * math.sin(dlat / 2) +\n",
        "         math.cos(math.radians(lat1)) * math.cos(math.radians(lat2)) *\n",
        "         math.sin(dlon / 2) * math.sin(dlon / 2))\n",
        "    \n",
        "    c = 2 * math.atan2(math.sqrt(a), math.sqrt(1 - a))\n",
        "    distance = R * c\n",
        "    return distance"
      ],
      "metadata": {
        "id": "XS8s4vyXaycq"
      },
      "execution_count": null,
      "outputs": []
    },
    {
      "cell_type": "code",
      "source": [
        "# Step 4: Set `selected_con` attribute for switch nodes\n",
        "def setSelectedCon():\n",
        "  candidate_controllers = [n for n, d in G.nodes(data=True) if d['role'] == \"controller\"]\n",
        "  global switch_to_controller_list\n",
        "  switch_to_controller_list = [] \n",
        "  for node_id in G.nodes():\n",
        "    if G.nodes[node_id]['role'] == 'switch':\n",
        "      hop_counts = []\n",
        "      for con in candidate_controllers:\n",
        "        path = nx.astar_path(G, source=node_id, target=con, heuristic=haversine_distance)\n",
        "        hop_count = len(path) - 1\n",
        "        hop_counts.append([con, hop_count, 0])\n",
        "      sorted_hops = sorted(hop_counts, key=lambda x: (x[1]), reverse=False)\n",
        "      G.nodes[node_id]['selected_con'] = sorted_hops[0][0]\n",
        "      switch_to_controller_list.append([node_id,0]+sorted_hops)"
      ],
      "metadata": {
        "id": "lF3CbIJjOfps"
      },
      "execution_count": null,
      "outputs": []
    },
    {
      "cell_type": "code",
      "source": [
        "# ['SwitchID', 'Switch Load', ['ToControllerID','Hop count', 'Controller load'], ['ToControllerID','Hop count', 'Controller load']]"
      ],
      "metadata": {
        "id": "axdzGQSmy5Tl"
      },
      "execution_count": null,
      "outputs": []
    },
    {
      "cell_type": "code",
      "source": [
        "switch_to_controller_list"
      ],
      "metadata": {
        "id": "2pGL0h_WOg7U"
      },
      "execution_count": null,
      "outputs": []
    },
    {
      "cell_type": "code",
      "source": [
        "def printSwitchController(G):\n",
        "    # Find controlled switches for each controller node\n",
        "    controllers = {node_id: [] for node_id in G.nodes() if G.nodes[node_id]['role'] == 'controller'}\n",
        "    switches = {node_id: G.nodes[node_id][\"selected_con\"] for node_id in G.nodes() if G.nodes[node_id]['role'] == 'switch'}\n",
        "    controlled_switches = {controller: [switch for switch, selected_con in switches.items() if selected_con == controller] for controller in controllers}\n",
        "\n",
        "    # Print the list of controlled switches for each controller node\n",
        "    # Create a list to store the table rows\n",
        "    table_rows = []\n",
        "\n",
        "    # Iterate over the controlled switches for each controller node\n",
        "    for controller_id, switches in controlled_switches.items():\n",
        "        # Combine the switch IDs into a single string separated by commas\n",
        "        switch_list = ', '.join(switch_id for switch_id in switches)\n",
        "        \n",
        "        # Add a row to the table with the controller ID and the combined switch list\n",
        "        table_rows.append([controller_id, switch_list])\n",
        "\n",
        "    # Define the table headers\n",
        "    headers = [\"Controller node\", \"Switch nodes\"]\n",
        "\n",
        "    # Print the table using tabulate\n",
        "    print(tabulate(table_rows, headers=headers))"
      ],
      "metadata": {
        "id": "hZ0YtusXgzZb"
      },
      "execution_count": null,
      "outputs": []
    },
    {
      "cell_type": "code",
      "source": [
        "def findHopcount(switch_source, controller_dest):\n",
        "    matching_switch = next((item for item in switch_to_controller_list if item[0] == switch_source), None)\n",
        "\n",
        "    if matching_switch:\n",
        "        hop_count = next((j[1] for j in matching_switch[2:] if j[0] == controller_dest), None)\n",
        "        return hop_count\n",
        "\n",
        "    return None"
      ],
      "metadata": {
        "id": "7jNv3Zovr6o5"
      },
      "execution_count": null,
      "outputs": []
    },
    {
      "cell_type": "code",
      "source": [
        "setSelectedCon()"
      ],
      "metadata": {
        "id": "tN5Jvjsb-7E6"
      },
      "execution_count": null,
      "outputs": []
    },
    {
      "cell_type": "markdown",
      "source": [
        "# Update controller and switch (Stage 2 - Load balancing for overload controller)\n",
        "\n"
      ],
      "metadata": {
        "id": "JlXsSTg0mUTH"
      }
    },
    {
      "cell_type": "code",
      "source": [
        "def findSwitchtoMigrateList(packet_amount, controller_loads, capacity):\n",
        "  #List of ovelload controlller and swich that need to do migation list\n",
        "  switches_to_migrate = {}\n",
        "  overloaded_controllers = [node for node in G.nodes() if G.nodes[node]['role'] == 'controller' and controller_loads[node] > (capacity)]\n",
        "  for node in G.nodes():\n",
        "    if G.nodes[node]['role'] == 'switch' and G.nodes[node]['selected_con'] in overloaded_controllers:\n",
        "      overloaded_controller = G.nodes[node]['selected_con']\n",
        "      if overloaded_controller not in switches_to_migrate:\n",
        "        switches_to_migrate[overloaded_controller] = []\n",
        "      switches_to_migrate[overloaded_controller].append([node,packet_amount[node]])\n",
        "      # switches_to_migrate[node] = packet_amount[node]\n",
        "  \n",
        "  # Sort the keys of switches_to_migrate based on the values in controller_loads\n",
        "  sorted_keys = sorted(switches_to_migrate.keys(), key=lambda x: controller_loads[x], reverse=True)\n",
        "\n",
        "  # Reconstruct the switches_to_migrate dictionary using the sorted keys\n",
        "  sorted_switches_to_migrate = {key: switches_to_migrate[key] for key in sorted_keys}\n",
        "  \n",
        "  return(sorted_switches_to_migrate)\n",
        "# {'Overload ControllerID : [['SwitchID','Switch load'], ['SwitchID','Switch load'] ]'}"
      ],
      "metadata": {
        "id": "iwtyMfux2SDm"
      },
      "execution_count": null,
      "outputs": []
    },
    {
      "cell_type": "code",
      "source": [
        "def findCandidateControllerList(switches_to_migrate, controller_loads, capacity):\n",
        "    # Find new candidate controllers for overloaded controllers\n",
        "    switch_to_candidate_controller = []\n",
        "    \n",
        "    for overload_controller, switches in switches_to_migrate.items():\n",
        "        candidate_controllers = []\n",
        "        \n",
        "        for switch, load in switches:\n",
        "            selected_con = overload_controller\n",
        "            conlist = next((item for item in switch_to_controller_list if item[0] == switch), None)\n",
        "            \n",
        "            if conlist:\n",
        "                hop_count = [\n",
        "                    [con[0], con[1], capacity - controller_loads[con[0]]] for con in conlist[2:]\n",
        "                    if con[0] != selected_con and controller_loads[con[0]] < capacity\n",
        "                ]\n",
        "                \n",
        "                sorted_hop_count = sorted(hop_count, key=lambda x: (x[1], -x[2]))\n",
        "                switch_to_candidate_controller.append([switch, load] + sorted_hop_count)\n",
        "    \n",
        "    return switch_to_candidate_controller\n",
        "# ['SwitchID', 'Switch load', ['Dest.ControllerID', 'Hop count from switch to controller', 'Controller capacity left']]"
      ],
      "metadata": {
        "id": "X3gGykuJqVDP"
      },
      "execution_count": null,
      "outputs": []
    },
    {
      "cell_type": "code",
      "source": [
        "switches_to_migrate = findSwitchtoMigrateList(packet_amount, controller_loads, capacity)\n",
        "switch_to_candidate_controller = findCandidateControllerList(switches_to_migrate, controller_loads, capacity)\n",
        "\n",
        "# Show candidate controller list of switch that connected with overload controller\n",
        "for i in switch_to_candidate_controller:\n",
        "    print(f\"Switch {i[0]} ({i[1]} pps) can migrate to the following controllers:\")\n",
        "    \n",
        "    # Create a list of dictionaries for tabulate\n",
        "    data = [\n",
        "        {\"Controller\": con[0], \"Hop count\": con[1], \"Capacity left\": con[2]} for con in i[2:]\n",
        "    ]\n",
        "    \n",
        "    # Print the table\n",
        "    print(tabulate(data, headers=\"keys\"))\n",
        "    print()"
      ],
      "metadata": {
        "id": "HsTJe1WgzWqH"
      },
      "execution_count": null,
      "outputs": []
    },
    {
      "cell_type": "markdown",
      "source": [
        "## Min-Knapsack"
      ],
      "metadata": {
        "id": "tMx6317XZ2aq"
      }
    },
    {
      "cell_type": "markdown",
      "source": [
        "### By sorting lowest delta_E"
      ],
      "metadata": {
        "id": "bV4vHeo6DRt0"
      }
    },
    {
      "cell_type": "code",
      "source": [
        "def min_knapsack2_mod(switches_to_migrate, controller_loads, capacity):\n",
        "    # Calculate the target load for each overloaded controller (weight of knapsack)\n",
        "    target_loads = {overloaded_controller: controller_loads[overloaded_controller] - (0.9 * capacity) for overloaded_controller in switches_to_migrate}\n",
        "    print(f'target_loads: {target_loads}')\n",
        "\n",
        "    # Initialize the result dictionary that `min_knapsack2` will return as an output of this function\n",
        "    delta_E_per_controller = {}\n",
        "\n",
        "    for overloaded_controllers in switches_to_migrate:\n",
        "      x1 = []\n",
        "      switches = {switch[0]: switch[1] for switch in switches_to_migrate[overloaded_controllers]}\n",
        "      switch_to_candidate_controller = findCandidateControllerList(switches_to_migrate, controller_loads, capacity)\n",
        "\n",
        "      for switch, load in switches.items():\n",
        "        # Find the corresponding candidate controllers list for this switch\n",
        "        controller_candidates = [ candidate for item in switch_to_candidate_controller if item[0] == switch and overloaded_controllers == G.nodes[switch][\"selected_con\"] for candidate in item[2:] if candidate[2] >= load]\n",
        "        # Calculate delta_E for each candidate controller\n",
        "        delta_Es = [[switch, candidate[0], load * (candidate[1] - findHopcount(switch_source=switch, controller_dest=overloaded_controllers))] for candidate in controller_candidates]\n",
        "        if delta_Es:\n",
        "          min_element = min(delta_Es, key=lambda x: x[2])\n",
        "          result = [min_element]\n",
        "          x1.append(result)\n",
        "      x1 = sorted(x1, key=lambda x: min(sublist[2] for sublist in x))\n",
        "      print(f'from con{overloaded_controllers}: {x1}')\n",
        "\n",
        "      x2 = []\n",
        "      controller_load_update = {}\n",
        "      total_loads = 0\n",
        "      for sublist in x1:\n",
        "        passed_condition = True\n",
        "        new_total_loads = total_loads\n",
        "        for switch, con, delta_E in sublist:\n",
        "          passed_condition = True\n",
        "          new_total_loads = total_loads\n",
        "          for switch, con, delta_E in sublist:\n",
        "            if switch in switches and new_total_loads < target_loads[overloaded_controllers]:\n",
        "                new_total_loads += switches[switch]\n",
        "                load = switches[switch]\n",
        "                if con in controller_load_update:\n",
        "                    controller_load_update[con] += load\n",
        "                else:\n",
        "                    controller_load_update[con] = load\n",
        "            else:\n",
        "                passed_condition = False\n",
        "                break\n",
        "          \n",
        "          if passed_condition:\n",
        "              x2.append(sublist)\n",
        "              total_loads = new_total_loads\n",
        "\n",
        "      # Update controller load before going next overload controller \n",
        "      controller_loads[overloaded_controllers] -= total_loads\n",
        "      for key in controller_load_update:\n",
        "        controller_loads[key] += controller_load_update[key]\n",
        "\n",
        "      if overloaded_controllers in delta_E_per_controller:\n",
        "          delta_E_per_controller[overloaded_controllers].append(x2)\n",
        "      else:\n",
        "          delta_E_per_controller[overloaded_controllers] = x2\n",
        "    \n",
        "    return delta_E_per_controller"
      ],
      "metadata": {
        "id": "pTi9fCa-yDxf"
      },
      "execution_count": null,
      "outputs": []
    },
    {
      "cell_type": "code",
      "source": [
        "result = min_knapsack2_mod(switches_to_migrate, controller_loads, capacity)\n",
        "result"
      ],
      "metadata": {
        "id": "7S-0mNMvyKav"
      },
      "execution_count": null,
      "outputs": []
    },
    {
      "cell_type": "markdown",
      "source": [
        "### simulate"
      ],
      "metadata": {
        "id": "um_DaevYzI0J"
      }
    },
    {
      "cell_type": "markdown",
      "source": [
        "OpCon is a term used to describe the ratio of the number of switches to the number of controllers in a network topology. For example, if a network has 10 switches and 2 controllers, the OpCon value would be 5. [GreCo](https://ieeexplore.ieee.org/document/7017522)"
      ],
      "metadata": {
        "id": "gFDdTvs01SRg"
      }
    },
    {
      "cell_type": "code",
      "source": [
        "# Define the packet handling capacity for controllers (10^6 packets/second)\n",
        "capacity = 600000\n",
        "\n",
        "# Find all controller nodes\n",
        "controllers = [n for n, d in G.nodes(data=True) if d['role'] == \"controller\"]\n",
        "\n",
        "# Dictionary to keep track of controller loads\n",
        "controller_loads = {c: 0 for c in controllers}\n",
        "\n",
        "seed = 650631030  # seed value for reproducibility\n",
        "random.seed(seed)\n",
        "\n",
        "packet_rate = [15500,31500,47500]    # average rate or expected value\n",
        "\n",
        "size = amount_of_switch  # number of switch\n",
        "packet_size = {}\n",
        "p = 0\n",
        "for t in range(6):\n",
        "    # Creating a random number generator with a fixed seed\n",
        "    rng = np.random.default_rng(seed)\n",
        "    seed += seed\n",
        "    if t % 5 == 0:\n",
        "      # print(f'{\"-\"*50} Period {p} {\"-\"*50}')\n",
        "      p += 1\n",
        "      lamb = random.choices(packet_rate, k=size)\n",
        "    # Generating values from a Poisson distribution using the seeded generator\n",
        "    packet_size[t] = rng.poisson(lam=lamb)\n",
        "    # print(f'Generated Poisson samples with fixed seed t={t}: {packet_size[t]}')"
      ],
      "metadata": {
        "id": "dyLw9leXzLE7"
      },
      "execution_count": null,
      "outputs": []
    },
    {
      "cell_type": "code",
      "source": [
        "for i in packet_size:\n",
        "  print(f'{packet_size[i][0]}',end = \", \")"
      ],
      "metadata": {
        "id": "fDc6Eq3oEhHn"
      },
      "execution_count": null,
      "outputs": []
    },
    {
      "cell_type": "code",
      "source": [
        "# Simulate packet generation and handling for a given number of seconds (e.g. 10 seconds)\n",
        "sim_time = 6\n",
        "packet_amount = {}\n",
        "setSelectedCon()\n",
        "for i in range(sim_time):\n",
        "    # Generate packets for each switch and send to its selected controller\n",
        "    k = 0\n",
        "    for node in G.nodes():\n",
        "        if G.nodes[node]['role'] == 'switch':\n",
        "            selected_con = G.nodes[node]['selected_con']\n",
        "            packet_count = packet_size[i][k]\n",
        "            k += 1\n",
        "\n",
        "            if node in packet_amount:\n",
        "                packet_amount[node] += packet_count\n",
        "            else:\n",
        "                packet_amount[node] = packet_count\n",
        "            \n",
        "            controller_loads[selected_con] += packet_count\n",
        "            print(f\"Switch {node} generated {packet_count} packets and sent to controller {selected_con}\")\n",
        "    print(f'{\"*\"*5} Finish round {i}. {\"*\"*5}\\n')\n",
        "\n",
        "    # Update controller load every 5 second\n",
        "    if i != 0 and i % 5 == 0:\n",
        "        print()\n",
        "        print(\"Controller loads at\", i, \"seconds:\")\n",
        "        print(f\"Controller capacity: {capacity} Threshold: 60% ({0.6*capacity})\",end='\\n\\n')\n",
        "        for node in G.nodes():\n",
        "            if G.nodes[node]['role'] == 'controller':\n",
        "                print(f\"Controller {node} load: {controller_loads[node]} pps\")\n",
        "                if controller_loads[node] > (capacity):\n",
        "                  print(f\"Controller {node} is overloaded!\")\n",
        "            else:\n",
        "                print(f'SW {node} load:{packet_amount[node]}')\n",
        "                # packet_amount[node] = 0\n",
        "        # controller_loads = {c: 0 for c in controllers}\n",
        "        print()\n",
        "\n",
        "    "
      ],
      "metadata": {
        "id": "EjsCQaEkzUb0"
      },
      "execution_count": null,
      "outputs": []
    },
    {
      "cell_type": "code",
      "source": [
        "switches_to_migrate = findSwitchtoMigrateList(packet_amount, controller_loads, capacity)\n",
        "switch_to_candidate_controller = findCandidateControllerList(switches_to_migrate, controller_loads, capacity)"
      ],
      "metadata": {
        "id": "OoTzb9_izd8F"
      },
      "execution_count": null,
      "outputs": []
    },
    {
      "cell_type": "markdown",
      "source": [
        "### By using min-knapsack soving algorithm (**dynamic programming** approach)"
      ],
      "metadata": {
        "id": "eA7BxkntdMTR"
      }
    },
    {
      "cell_type": "code",
      "source": [
        "def min_knapsack_GPT(target_weight, items):\n",
        "    # Get the number of items\n",
        "    n = len(items)\n",
        "\n",
        "    print(f'target_weight: {target_weight}, items: {items}')\n",
        "    \n",
        "    # Calculate the maximum possible weight and initialize the dynamic programming table\n",
        "    sum_total_weight = 0\n",
        "    for x in items:\n",
        "      sum_total_weight += x[1]\n",
        "      if sum_total_weight >= target_weight:\n",
        "        break\n",
        "    # sum_total_weight = sum(item[1] for item in items)\n",
        "    \n",
        "    init_max_weight = int(sum_total_weight) + 1\n",
        "\n",
        "    print(f'Calculate knapsack weight range from 0 to {init_max_weight}')\n",
        "\n",
        "    dp = [[float('inf')] * init_max_weight for _ in range(n + 1)]\n",
        "\n",
        "    # Initialize the first column of the table with 0\n",
        "    for i in range(n + 1):\n",
        "        dp[i][0] = 0\n",
        "\n",
        "    # Iterate through the items and fill in the dynamic programming table\n",
        "    for i in range(1, n + 1):\n",
        "        weight, value = items[i - 1][1], items[i - 1][3]\n",
        "\n",
        "        for j in range(init_max_weight):\n",
        "            if weight <= j:\n",
        "                # If the item can be included, find the minimum value with or without the item\n",
        "                dp[i][j] = min(dp[i - 1][j], dp[i - 1][j - weight] + value)\n",
        "            else:\n",
        "                # If the item cannot be included, the value remains the same as the previous row\n",
        "                dp[i][j] = dp[i - 1][j]\n",
        "\n",
        "    # Find the minimum value for the target weight or greater\n",
        "    min_value = float('inf')\n",
        "    min_weight = -1\n",
        "\n",
        "    # Loop over each possible weight of the knapsack, starting from 0, and extract the corresponding minimum value from the last row of the dp list\n",
        "    for weight, value in enumerate(dp[n][target_weight:], start=target_weight):\n",
        "        if value < min_value:\n",
        "            min_value = value\n",
        "            min_weight = weight\n",
        "\n",
        "    # If there is no solution, return -1 and an empty list\n",
        "    if min_value == float('inf'):\n",
        "        return -1, []\n",
        "\n",
        "    # Backtrack through the dynamic programming table to find the selected items\n",
        "    selected_items = []\n",
        "    i, j = n, min_weight\n",
        "    while i > 0 and j > 0:\n",
        "        if dp[i][j] != dp[i - 1][j]:\n",
        "            selected_items.append([items[i - 1][0],items[i - 1][2],items[i - 1][3]])\n",
        "            j -= items[i - 1][1]\n",
        "        i -= 1\n",
        "\n",
        "    # Return the minimum value and the selected items    \n",
        "    return min_value, selected_items, min_weight"
      ],
      "metadata": {
        "id": "XMWWVvBkY2Ez"
      },
      "execution_count": null,
      "outputs": []
    },
    {
      "cell_type": "code",
      "source": [
        "def min_knapsack3_dp(switches_to_migrate, controller_loads, capacity):\n",
        "    # Calculate the target load for each overloaded controller (weight of knapsack)\n",
        "    target_loads = {overloaded_controller: controller_loads[overloaded_controller] - (1 * capacity) for overloaded_controller in switches_to_migrate}\n",
        "    print(f'target_loads: {target_loads}')\n",
        "\n",
        "    # Initialize the result dictionary that `min_knapsack3_dp` will return as an output of this function\n",
        "    delta_E_per_controller = {}\n",
        "\n",
        "    for overloaded_controllers in switches_to_migrate:\n",
        "      x1 = []\n",
        "      controller_candidates = []\n",
        "      switches = {switch[0]: switch[1] for switch in switches_to_migrate[overloaded_controllers]}\n",
        "      switch_to_candidate_controller = findCandidateControllerList(switches_to_migrate, controller_loads, capacity)\n",
        "\n",
        "      for switch, load in switches.items():\n",
        "        # Find the corresponding candidate controllers list for this switch\n",
        "        controller_candidates = [ candidate for item in switch_to_candidate_controller if item[0] == switch and overloaded_controllers == G.nodes[switch][\"selected_con\"] for candidate in item[2:] if candidate[2] >= load]\n",
        "        \n",
        "        # Calculate delta_E for each candidate controller\n",
        "        delta_Es = [[switch, load, candidate[0], load * (candidate[1] - findHopcount(switch_source=switch, controller_dest=overloaded_controllers))] for candidate in controller_candidates]\n",
        "        \n",
        "        # Select pairs of switch and controller with highest capacity controller left and lowest delta_E of each switch to filtered out of duplicate switch\n",
        "        if delta_Es:\n",
        "          min_element = min(delta_Es, key=lambda x: x[3])\n",
        "          result = min_element\n",
        "          x1.append(result)\n",
        "      sorted_x1 = sorted(x1, key=lambda sublist: sublist[3]) # Sorted by value (ASC order)\n",
        "      result_x1, x1, total_loads = min_knapsack_GPT(target_loads[overloaded_controllers], sorted_x1)\n",
        "      print(f'Selected item: {x1}')\n",
        "      print(f\"Minimum value (sum delta_E): {result_x1}\")\n",
        "      print(f\"Weight (sum switches load): {total_loads}\")\n",
        "\n",
        "      #try to migrate switch to new controller with can handle switch that migrate to\n",
        "      controller_loads_copy = copy.deepcopy(controller_loads)\n",
        "      x2 = []\n",
        "\n",
        "      #Adapted from greedy approach to prioritize switch to migrate\n",
        "      ratios = [(x1[i][2]/switches[x1[i][0]], switches[x1[i][0]], x1[i][2], i) for i in range(len(x1))]\n",
        "      ratios.sort() #Lowest value migrate first\n",
        "\n",
        "      # Create a dictionary to map the index in ratios to the index in x1\n",
        "      index_map = {ratio[3]: i for i, ratio in enumerate(ratios)}\n",
        "\n",
        "      # Sort x1 using the index_map and the index of each element in x1\n",
        "      x1 = sorted(x1, key=lambda x: index_map[x1.index(x)])\n",
        "\n",
        "      for migrate_list in x1:\n",
        "        select_switch = migrate_list[0]\n",
        "        select_controller = migrate_list[1]\n",
        "      \n",
        "        controller_loads_copy[select_controller] += switches[select_switch]\n",
        "        if controller_loads_copy[select_controller] < capacity:\n",
        "          x2.append(migrate_list)\n",
        "        else:\n",
        "          controller_loads_copy[select_controller] -= switches[select_switch]\n",
        "        \n",
        "      controller_load_update = {}\n",
        "      for switch, con, delta_E in x2:\n",
        "        load = switches[switch]\n",
        "        if con in controller_load_update:\n",
        "            controller_load_update[con] += load\n",
        "        else:\n",
        "            controller_load_update[con] = load\n",
        "\n",
        "      # Update controller load before going next overload controller \n",
        "      controller_loads[overloaded_controllers] -= total_loads\n",
        "      for key in controller_load_update:\n",
        "        controller_loads[key] += controller_load_update[key]\n",
        "      \n",
        "      if overloaded_controllers in delta_E_per_controller:\n",
        "          delta_E_per_controller[overloaded_controllers].append(x2)\n",
        "      else:\n",
        "          delta_E_per_controller[overloaded_controllers] = x2\n",
        "\n",
        "    return delta_E_per_controller"
      ],
      "metadata": {
        "id": "Tx8yVo5WdRfi"
      },
      "execution_count": null,
      "outputs": []
    },
    {
      "cell_type": "code",
      "source": [
        "result2 = min_knapsack3_dp(switches_to_migrate, capacity)\n",
        "result2"
      ],
      "metadata": {
        "id": "ExP73tlSdixf"
      },
      "execution_count": null,
      "outputs": []
    },
    {
      "cell_type": "markdown",
      "source": [
        "### By using min-knapsack soving algorithm (**greedy** approach)"
      ],
      "metadata": {
        "id": "PtTCyzQg0cHP"
      }
    },
    {
      "cell_type": "code",
      "source": [
        "def min_knapsack_GPT2(target_weight, items):\n",
        "    print(f'target_weight: {target_weight}, items{items}')\n",
        "    n = len(items)\n",
        "    ratios = [(items[i][3]/items[i][1], items[i][1], items[i][3], i) for i in range(n)]\n",
        "    ratios.sort()\n",
        "    print(f'ratios: {ratios}')\n",
        "    total_weight = 0\n",
        "    total_value = 0\n",
        "    knapsack = []\n",
        "    for i in range(n):\n",
        "        if total_weight + ratios[i][1] <= target_weight:\n",
        "            total_weight += ratios[i][1]\n",
        "            total_value += ratios[i][2]\n",
        "            knapsack.append(ratios[i][3])\n",
        "        else:\n",
        "            break\n",
        "    while total_weight < target_weight:\n",
        "        total_weight += ratios[i][1]\n",
        "        total_value += ratios[i][2]\n",
        "        knapsack.append(ratios[i][3])\n",
        "    knapsack_items = [[items[i][0], items[i][2], items[i][3]] for i in knapsack]\n",
        "\n",
        "    return total_value, total_weight, knapsack_items"
      ],
      "metadata": {
        "id": "DUqnFmi60htW"
      },
      "execution_count": null,
      "outputs": []
    },
    {
      "cell_type": "code",
      "source": [
        "def min_knapsack3_gd(switches_to_migrate, controller_loads, capacity):\n",
        "    # Calculate the target load for each overloaded controller (weight of knapsack)\n",
        "    target_loads = {overloaded_controller: controller_loads[overloaded_controller] - (1* capacity) for overloaded_controller in switches_to_migrate}\n",
        "    print(f'target_loads: {target_loads}')\n",
        "\n",
        "    # Initialize the result dictionary that `min_knapsack3_gd` will return as an output of this function\n",
        "    delta_E_per_controller = {}\n",
        "\n",
        "    for overloaded_controllers in switches_to_migrate:\n",
        "      x1 = []\n",
        "      switches = {switch[0]: switch[1] for switch in switches_to_migrate[overloaded_controllers]}\n",
        "      switch_to_candidate_controller = findCandidateControllerList(switches_to_migrate, controller_loads, capacity)\n",
        "\n",
        "      for switch, load in switches.items():\n",
        "        # Find the corresponding candidate controllers list for this switch\n",
        "        controller_candidates = [ candidate for item in switch_to_candidate_controller if item[0] == switch and overloaded_controllers == G.nodes[switch][\"selected_con\"] for candidate in item[2:] if candidate[2] >= load]\n",
        "        # Calculate delta_E for each candidate controller\n",
        "        delta_Es = [[switch, load, candidate[0], load * (candidate[1] - findHopcount(switch_source=switch, controller_dest=overloaded_controllers))] for candidate in controller_candidates]\n",
        "        # Select pairs of switch and controller with highest capacity controller left and lowest delta_E of each switch to filtered out of duplicate switch\n",
        "        if delta_Es:\n",
        "          min_element = min(delta_Es, key=lambda x: x[3])\n",
        "          result = min_element\n",
        "          x1.append(result)\n",
        "      result_x1, total_loads, x1 = min_knapsack_GPT2(target_loads[overloaded_controllers], x1)\n",
        "\n",
        "      print(\"Minimum value:\", result_x1)\n",
        "      print(\"Total weight of the knapsack:\", total_loads)\n",
        "      print(\"Selected items:\", x1)\n",
        "\n",
        "\n",
        "      #try to migrate switch to new controller with can handle switch that migrate to\n",
        "      controller_loads_copy = copy.deepcopy(controller_loads)\n",
        "      x2 = []\n",
        "      for migrate_list in x1:\n",
        "        select_switch = migrate_list[0]\n",
        "        select_controller = migrate_list[1]\n",
        "\n",
        "        controller_loads_copy[select_controller] += switches[select_switch]\n",
        "        if controller_loads_copy[select_controller] < capacity:\n",
        "          x2.append(migrate_list)\n",
        "        else:\n",
        "          break\n",
        "\n",
        "\n",
        "      controller_load_update = {}\n",
        "      for switch, con, delta_E in x1:\n",
        "        load = switches[switch]\n",
        "        if con in controller_load_update:\n",
        "            controller_load_update[con] += load\n",
        "        else:\n",
        "            controller_load_update[con] = load\n",
        "      # Update controller load before going next overload controller \n",
        "      controller_loads[overloaded_controllers] -= total_loads\n",
        "      for key in controller_load_update:\n",
        "        controller_loads[key] += controller_load_update[key]\n",
        "\n",
        "      if overloaded_controllers in delta_E_per_controller:\n",
        "          delta_E_per_controller[overloaded_controllers].append(x1)\n",
        "      else:\n",
        "          delta_E_per_controller[overloaded_controllers] = x1\n",
        "\n",
        "    \n",
        "    return delta_E_per_controller"
      ],
      "metadata": {
        "id": "ZrNTAGFe0n4i"
      },
      "execution_count": null,
      "outputs": []
    },
    {
      "cell_type": "code",
      "source": [
        "result3 = min_knapsack3_gd(switches_to_migrate, controller_loads, capacity)\n",
        "result3"
      ],
      "metadata": {
        "id": "x0F0Os2u02o1"
      },
      "execution_count": null,
      "outputs": []
    },
    {
      "cell_type": "markdown",
      "source": [
        "### By fill lowest hop item first (greedy approach)"
      ],
      "metadata": {
        "id": "7_VemJRFrcNp"
      }
    },
    {
      "cell_type": "code",
      "source": [
        "def lhf_gd(target_weight, items):\n",
        "  n = len(items)\n",
        "  total_weight = 0\n",
        "  items_list = [(items[i][1], i) for i in range(n)]\n",
        "\n",
        "  knapsack = []\n",
        "  knapsack_items = []\n",
        "\n",
        "  for i in range(n):\n",
        "      if total_weight + items_list[i][0] <= target_weight:\n",
        "          total_weight += items_list[i][0]\n",
        "          knapsack.append(items_list[i][1])\n",
        "      else:\n",
        "          break\n",
        "  while total_weight < target_weight:\n",
        "      total_weight += items_list[i][0]\n",
        "      knapsack.append(items_list[i][1])\n",
        "\n",
        "  knapsack_items = [[items[i][0], items[i][2], items[i][4]] for i in knapsack]\n",
        "\n",
        "  return total_weight, knapsack_items"
      ],
      "metadata": {
        "id": "c1QEVX0sy-oc"
      },
      "execution_count": null,
      "outputs": []
    },
    {
      "cell_type": "code",
      "source": [
        "def fill_lowest_gd(switches_to_migrate, controller_loads, capacity):\n",
        "    # Calculate the target load for each overloaded controller (weight of knapsack)\n",
        "    target_loads = {overloaded_controller: controller_loads[overloaded_controller] - (1* capacity) for overloaded_controller in switches_to_migrate}\n",
        "    print(f'target_loads: {target_loads}')\n",
        "\n",
        "    # Initialize the result dictionary that `fill_lowest_gd` will return as an output of this function\n",
        "    delta_E_per_controller = {}\n",
        "\n",
        "    for overloaded_controllers in switches_to_migrate:\n",
        "      x1 = []\n",
        "      switches = {switch[0]: switch[1] for switch in switches_to_migrate[overloaded_controllers]}\n",
        "      switch_to_candidate_controller = findCandidateControllerList(switches_to_migrate, controller_loads, capacity)\n",
        "\n",
        "      for switch, load in switches.items():\n",
        "        # Find the corresponding candidate controllers list for this switch\n",
        "        controller_candidates = [ candidate for item in switch_to_candidate_controller if item[0] == switch and overloaded_controllers == G.nodes[switch][\"selected_con\"] for candidate in item[2:] if candidate[2] >= load]\n",
        "        # Calculate delta_E for each candidate controller\n",
        "        hop_candidate_con = [[switch, load, candidate[0],candidate[1], (load * (candidate[1] - findHopcount(switch_source=switch, controller_dest=overloaded_controllers)))] for candidate in controller_candidates]\n",
        "        # Select pairs of switch and controller with highest capacity controller left and lowest delta_E of each switch to filtered out of duplicate switch\n",
        "        if hop_candidate_con:\n",
        "          min_element = min(hop_candidate_con, key=lambda x: x[3])\n",
        "          result = min_element\n",
        "          x1.append(result)\n",
        "      sorted_x1 = sorted(x1, key=lambda sublist: (sublist[3], sublist[1]))\n",
        "      load, x1 = lhf_gd(target_loads[overloaded_controllers], sorted_x1)\n",
        "\n",
        "      # print(\"Minimum cost:\", result_x1)\n",
        "      # print(\"Total weight of the knapsack:\", load)\n",
        "      # print(\"Selected items:\", x1)\n",
        "\n",
        "      # controller_load_update = {}\n",
        "      # for switch, con, delta_E in x1:\n",
        "      #   load = switches[switch]\n",
        "      #   if con in controller_load_update:\n",
        "      #       controller_load_update[con] += load\n",
        "      #   else:\n",
        "      #       controller_load_update[con] = load\n",
        "      # Update controller load before going next overload controller \n",
        "      # controller_loads[overloaded_controllers] -= load\n",
        "      # for key in controller_load_update:\n",
        "      #   controller_loads[key] += controller_load_update[key]\n",
        "\n",
        "      # if overloaded_controllers in delta_E_per_controller:\n",
        "      #     delta_E_per_controller[overloaded_controllers].append(x1)\n",
        "      # else:\n",
        "      #     delta_E_per_controller[overloaded_controllers] = x1\n",
        "\n",
        "    \n",
        "    return delta_E_per_controller"
      ],
      "metadata": {
        "id": "3zAvY5PirpGK"
      },
      "execution_count": null,
      "outputs": []
    },
    {
      "cell_type": "code",
      "source": [
        "result3 = fill_lowest_gd(switches_to_migrate, capacity)\n",
        "result3"
      ],
      "metadata": {
        "id": "eyqRxR1Yrwmj"
      },
      "execution_count": null,
      "outputs": []
    },
    {
      "cell_type": "markdown",
      "source": [
        "## Optimal Switch Migration Approach (Paper: [1](https://ieeexplore.ieee.org/abstract/document/8264762))"
      ],
      "metadata": {
        "id": "K2BP_yC5wjzq"
      }
    },
    {
      "cell_type": "code",
      "source": [
        "def algorithm_1(capacity, packet_amount, controller_loads):\n",
        "    # Initialize the result dictionary that `algorithm_1` will return as an output of this function\n",
        "    delta_E_per_controller = {}\n",
        "    x1 = []\n",
        "\n",
        "    queue = sorted(packet_amount.items(), key=lambda item: item[1], reverse=True)\n",
        "\n",
        "    while queue:\n",
        "        min_load_con = min(controller_loads.items(), key=lambda x: x[1])[0]\n",
        "        # Process the first item in the queue\n",
        "        node = queue[0][0]\n",
        "        load = queue[0][1]\n",
        "        prev_con = G.nodes[node]['selected_con']\n",
        "\n",
        "        controller_loads[prev_con] -= load\n",
        "        controller_loads[min_load_con] += load\n",
        "        \n",
        "        deltaE = load * (findHopcount(switch_source=node, controller_dest=min_load_con) - findHopcount(switch_source=node, controller_dest=prev_con))\n",
        "        x1.append([prev_con, node,min_load_con,deltaE])\n",
        "        \n",
        "        # Remove the first item from the queue\n",
        "        queue.pop(0)\n",
        "\n",
        "    for sublist in x1:\n",
        "        key = sublist[0]\n",
        "        value = sublist[1:]\n",
        "        if key in delta_E_per_controller:\n",
        "            delta_E_per_controller[key].append(value)\n",
        "        else:\n",
        "            delta_E_per_controller[key] = [value]\n",
        "    return delta_E_per_controller"
      ],
      "metadata": {
        "id": "KwjmM_wSxABL"
      },
      "execution_count": null,
      "outputs": []
    },
    {
      "cell_type": "code",
      "source": [
        "result4 = algorithm_1(capacity, packet_amount, controller_loads)\n",
        "result4"
      ],
      "metadata": {
        "id": "Hj85rdfxWf1U"
      },
      "execution_count": null,
      "outputs": []
    },
    {
      "cell_type": "markdown",
      "source": [
        "## LDOP Approach (Paper: [2](https://ieeexplore.ieee.org/document/8457348))"
      ],
      "metadata": {
        "id": "zhChDhxW8Nzf"
      }
    },
    {
      "cell_type": "code",
      "source": [
        "def algorithm_2(switches_to_migrate, controller_loads, capacity):\n",
        "    # Initialize the result dictionary that `algorithm_2` will return as an output of this function\n",
        "    delta_E_per_controller = {}\n",
        "    \n",
        "    switches_to_migrate_copy = copy.deepcopy(switches_to_migrate)\n",
        "    controller_threshold = copy.deepcopy(capacity)\n",
        "    controller_loads_copy = copy.deepcopy(controller_loads)\n",
        "\n",
        "    while max(controller_loads_copy.values()) > controller_threshold:\n",
        "      # find the key with maximum value\n",
        "      max_key = max(controller_loads_copy, key=controller_loads_copy.get)\n",
        "\n",
        "      switch_load = {}\n",
        "      # Check if the max_key is in switches_to_migrate\n",
        "      if max_key in switches_to_migrate_copy:\n",
        "          for item in switches_to_migrate_copy[max_key]:\n",
        "              switch_load[item[0]] = item[1]\n",
        "      # print(f'\\n\\nSwitch load: {switch_load}')\n",
        "\n",
        "      remaining_controller_load = {}\n",
        "      for con, load in controller_loads_copy.items(): \n",
        "        if load < controller_threshold:\n",
        "          if con in remaining_controller_load:\n",
        "              remaining_controller_load[con].append(controller_threshold - load)\n",
        "          else:\n",
        "              remaining_controller_load[con] = controller_threshold - load\n",
        "\n",
        "      # print(f'Remaining controller load: {remaining_controller_load}')\n",
        "\n",
        "      listOfSwitch = []\t\n",
        "      for switch, load in switch_load.items():\n",
        "        if (sum(switch_load.values()) - load) < controller_threshold:\n",
        "          listOfSwitch.append(switch)\n",
        "      \n",
        "      # Check, this is a normal stage or a heavy stage.\n",
        "      if listOfSwitch:\n",
        "        # print(f'Normal Stage')\n",
        "        # This is a normal stage, switches can migrate. \n",
        "        max_value_key = max(remaining_controller_load, key=remaining_controller_load.get)\n",
        "        E = max_value_key\n",
        "        for i in listOfSwitch:\n",
        "          # print(f'list of switch {listOfSwitch}')\n",
        "          # print(f'switch_load[i]{i} {switch_load[i]} > controller_loads_copy[E]{E} {remaining_controller_load[E]}:')\n",
        "          if switch_load[i] > remaining_controller_load[E]:\n",
        "            listOfSwitch.remove(i)\n",
        "        if listOfSwitch:\n",
        "          min_value_key = min(switch_load, key=switch_load.get)\n",
        "          Sm = min_value_key\n",
        "      else:\n",
        "        # This is a heavy stage\n",
        "        # print(f'Heavy Stage')\n",
        "        if (min(switch_load.values()) - max(remaining_controller_load.values())) < sum(switch_load.values()) - controller_threshold:\n",
        "          min_value_key = min(switch_load, key=switch_load.get)\n",
        "          Sm = min_value_key\n",
        "          max_value_key = max(remaining_controller_load, key=remaining_controller_load.get)\n",
        "          E = max_value_key\n",
        "\n",
        "      if Sm and E :\n",
        "        controller_loads_copy[E] += switch_load[Sm]\n",
        "        controller_loads_copy[max_key] -= switch_load[Sm]\n",
        "\n",
        "        # remove value from the list inside the dict\n",
        "        switches_to_migrate_copy[max_key] = [item for item in switches_to_migrate_copy[max_key] if item[0] != Sm]\n",
        "        # print(f'Switch to migrate: {switches_to_migrate_copy}')\n",
        "        # print(controller_loads_copy)\n",
        "        # print(f'Switch {Sm}  ({switch_load[Sm]} PIM) From controller {max_key} To controller {E} / with value {switch_load[Sm] * findHopcount(switch_source = Sm, controller_dest = E)}')\n",
        "        x1 = [Sm,E,(switch_load[Sm] * findHopcount(switch_source = Sm, controller_dest = E))]\n",
        "        # print(f'x1: {x1}')\n",
        "        if max_key in delta_E_per_controller:\n",
        "            delta_E_per_controller[max_key].append(x1)\n",
        "        else:\n",
        "            delta_E_per_controller[max_key] = [x1]\n",
        "    \n",
        "    return delta_E_per_controller"
      ],
      "metadata": {
        "id": "3M3F-2GW8iag"
      },
      "execution_count": null,
      "outputs": []
    },
    {
      "cell_type": "code",
      "source": [
        "result5 = algorithm_2(switches_to_migrate, controller_loads, capacity)\n",
        "result5"
      ],
      "metadata": {
        "id": "zpxMn9Ntz7FW"
      },
      "execution_count": null,
      "outputs": []
    },
    {
      "cell_type": "markdown",
      "source": [
        "# Print result"
      ],
      "metadata": {
        "id": "s43NIJKzGDqw"
      }
    },
    {
      "cell_type": "code",
      "source": [
        "def removeInnerlist(result):\n",
        "  for key in result:\n",
        "    result[key] = [item[0] for item in result[key]]\n",
        "  return result\n",
        "# result = removeInnerlist(result)"
      ],
      "metadata": {
        "id": "gpztL_B7GU0V"
      },
      "execution_count": null,
      "outputs": []
    },
    {
      "cell_type": "code",
      "source": [
        "result = removeInnerlist(result)"
      ],
      "metadata": {
        "id": "qHl5nKoQcdN5"
      },
      "execution_count": null,
      "outputs": []
    },
    {
      "cell_type": "code",
      "source": [
        "result"
      ],
      "metadata": {
        "id": "tbXvr2cOGguh"
      },
      "execution_count": null,
      "outputs": []
    },
    {
      "cell_type": "code",
      "source": [
        "def printResult(result):\n",
        "  for controller, switches in result.items():\n",
        "    print(f\"From Controller {controller}\")\n",
        "    table_data = []\n",
        "    for switch in switches:\n",
        "        table_data.append([switch[0], switch[1], switch[2]])\n",
        "    print(tabulate(table_data, headers=[\"Switch\", \"To Controller\", \"ΔE\"]))\n",
        "    print()"
      ],
      "metadata": {
        "id": "y6RKOLGWGBev"
      },
      "execution_count": null,
      "outputs": []
    },
    {
      "cell_type": "code",
      "source": [
        "# Print result from `min_knapsack2_mod`\n",
        "printResult(result)"
      ],
      "metadata": {
        "id": "ckm6KGTnJie-"
      },
      "execution_count": null,
      "outputs": []
    },
    {
      "cell_type": "code",
      "source": [
        "# Print result from `min_knapsack3_dp`\n",
        "printResult(result2)"
      ],
      "metadata": {
        "id": "L36onHgjdivZ"
      },
      "execution_count": null,
      "outputs": []
    },
    {
      "cell_type": "markdown",
      "source": [
        "# Migrate"
      ],
      "metadata": {
        "id": "tzy5cUMlD5Yt"
      }
    },
    {
      "cell_type": "code",
      "source": [
        "def doMigrate(result):\n",
        "  count = 0\n",
        "  for switches in result.items():\n",
        "    for switch in switches[1:]:\n",
        "      for i in switch:\n",
        "        node_id = i[0]\n",
        "        G.nodes[node_id]['selected_con'] = i[1]\n",
        "        count += 1\n",
        "  return count"
      ],
      "metadata": {
        "id": "pjprUQy2D9N4"
      },
      "execution_count": null,
      "outputs": []
    },
    {
      "cell_type": "code",
      "source": [
        "doMigrate(result)"
      ],
      "metadata": {
        "id": "EdzEVtbYEdOd"
      },
      "execution_count": null,
      "outputs": []
    },
    {
      "cell_type": "code",
      "source": [
        "printSwitchController(G)"
      ],
      "metadata": {
        "id": "iHEq5T1OLFFT"
      },
      "execution_count": null,
      "outputs": []
    },
    {
      "cell_type": "markdown",
      "source": [
        "# Evaluate energy cost"
      ],
      "metadata": {
        "id": "ztu41av3ASiO"
      }
    },
    {
      "cell_type": "code",
      "source": [
        "def energycostCalculate(G):\n",
        "  hop_counts = 0\n",
        "  energycost_oneswitch = {}\n",
        "  total_energyconsume = 0\n",
        "  for node in G.nodes():\n",
        "    if G.nodes[node]['role'] == 'switch':\n",
        "      selected_con = G.nodes[node]['selected_con']\n",
        "      hop_counts = findHopcount(switch_source = node, controller_dest = selected_con)\n",
        "      # print(f'from switch {node} ({packet_amount[node]} pim) to controller {selected_con} using {hop_counts} hops')\n",
        "      energycost_oneswitch[node] = packet_amount[node] * hop_counts\n",
        "  \n",
        "  # Calculate energy cost from all switches by its load and hop counts to its controller\n",
        "  for switch, ec_oneswitch in energycost_oneswitch.items():\n",
        "      total_energyconsume += ec_oneswitch\n",
        "  \n",
        "  return total_energyconsume"
      ],
      "metadata": {
        "id": "-PGDMyXSTqq0"
      },
      "execution_count": null,
      "outputs": []
    },
    {
      "cell_type": "markdown",
      "source": [
        "# Simulation and Evaluation"
      ],
      "metadata": {
        "id": "I-fxN9u9mOaO"
      }
    },
    {
      "cell_type": "markdown",
      "source": [
        "## DP Approach"
      ],
      "metadata": {
        "id": "-nY6xGzM_Ykb"
      }
    },
    {
      "cell_type": "code",
      "source": [
        "# Define the packet handling capacity for controllers (10^6 packets/second)\n",
        "capacity = 600000\n",
        "\n",
        "# Find all controller nodes\n",
        "controllers = [n for n, d in G.nodes(data=True) if d['role'] == \"controller\"]\n",
        "\n",
        "# Dictionary to keep track of controller loads\n",
        "controller_loads = {c: 0 for c in controllers}"
      ],
      "metadata": {
        "id": "Fu8ruj6D7zf2"
      },
      "execution_count": null,
      "outputs": []
    },
    {
      "cell_type": "code",
      "source": [
        "seed = 650631030  # seed value for reproducibility\n",
        "random.seed(seed)\n",
        "\n",
        "packet_rate = [15500,31500,47500]    # average rate or expected value\n",
        "\n",
        "size = amount_of_switch  # number of switch\n",
        "packet_size = {}\n",
        "p = 1\n",
        "for t in range(260):\n",
        "    # Creating a random number generator with a fixed seed\n",
        "    rng = np.random.default_rng(seed)\n",
        "    seed += seed\n",
        "    if t % 5 == 0:\n",
        "      # print(f'{\"-\"*50} Period {p} {\"-\"*50}')\n",
        "      p += 1\n",
        "      lamb = random.choices(packet_rate, k=size)\n",
        "    # Generating values from a Poisson distribution using the seeded generator\n",
        "    packet_size[t] = rng.poisson(lam=lamb)\n",
        "    # print(f'Generated Poisson samples with fixed seed t={t}: {packet_size[t]}')"
      ],
      "metadata": {
        "id": "-7IreV9o39J9"
      },
      "execution_count": null,
      "outputs": []
    },
    {
      "cell_type": "code",
      "source": [
        "# Simulate packet generation and handling for a given number of seconds (e.g. 10 seconds)\n",
        "setSelectedCon()\n",
        "sim_time = 260\n",
        "avg_en = 0\n",
        "migration_times = 0\n",
        "overload_times = 0\n",
        "deltaE = 0\n",
        "packet_amount = {}\n",
        "\n",
        "for i in range(sim_time):\n",
        "    # Update controller load every 5 second\n",
        "    if i != 0 and i % 5 == 0:\n",
        "        print()\n",
        "        print(\"Controller loads after\", i, \"seconds:\")\n",
        "        print(f\"Controller capacity: {capacity}\",end='\\n\\n')\n",
        "        for node in G.nodes():\n",
        "            if G.nodes[node]['role'] == 'controller':\n",
        "                print(f\"Controller {node} load: {controller_loads[node]} pps\")\n",
        "                if controller_loads[node] > capacity:\n",
        "                  print(f\"Controller {node} is overloaded!\")\n",
        "                  overload_times += 1\n",
        "        print()\n",
        "        \n",
        "        # Added code part for migration process\n",
        "        try:\n",
        "            printSwitchController(G)\n",
        "            energycost_before = energycostCalculate(G)\n",
        "            switches_to_migrate = findSwitchtoMigrateList(packet_amount, controller_loads, capacity)\n",
        "            result2 = min_knapsack3_dp(switches_to_migrate, controller_loads, capacity)\n",
        "            print()\n",
        "            printResult(result2)\n",
        "            migration_times += doMigrate(result2)\n",
        "            print()\n",
        "            printSwitchController(G)\n",
        "            print()\n",
        "        except Exception:\n",
        "            traceback.print_exc()\n",
        "\n",
        "        controller_loads = {c: 0 for c in controllers}\n",
        "        energycost_after = energycostCalculate(G)\n",
        "        # print(f'packet_amound bf remove: {packet_amount}')\n",
        "        packet_amount = {}\n",
        "        avg_en += energycost_after\n",
        "        print(f'Energy consume from topology before migrate: {energycost_before}')\n",
        "        print(f'Energy consume from topology after migrate: {energycost_after}', end='\\n\\n')\n",
        "        deltaE += (energycost_after - energycost_before)\n",
        "        print(f'ΔE = {energycost_after - energycost_before}')\n",
        "        \n",
        "        # End of added code part\n",
        "\n",
        "    # Generate packets for each switch and send to its selected controller\n",
        "    k = 0\n",
        "    \n",
        "    for node in G.nodes():\n",
        "        if G.nodes[node]['role'] == 'switch':\n",
        "            selected_con = G.nodes[node]['selected_con']\n",
        "            packet_count = packet_size[i][k]\n",
        "            k += 1\n",
        "            if node in packet_amount:\n",
        "                packet_amount[node] += packet_count\n",
        "            else:\n",
        "                packet_amount[node] = packet_count\n",
        "\n",
        "            controller_loads[selected_con] += packet_count\n",
        "            # print(f\"Switch {node} generated {packet_count} packets and sent to controller {selected_con}\")\n",
        "\n",
        "    print(f'{\"*\"*5} Finish round {i}. {\"*\"*5}\\n')\n",
        "\n",
        "\n",
        "print(f'Avg energy consumption: {avg_en/(sim_time/5)}')\n",
        "print(f'Total migration use: {migration_times} \\nTotal overload controller occurs: {overload_times}')\n",
        "print(f'Total ΔE change: {deltaE}')"
      ],
      "metadata": {
        "id": "-UbmvoKuOtju"
      },
      "execution_count": null,
      "outputs": []
    },
    {
      "cell_type": "markdown",
      "source": [
        "## Greedy"
      ],
      "metadata": {
        "id": "rSA7lEvr_fdE"
      }
    },
    {
      "cell_type": "code",
      "source": [
        "# Define the packet handling capacity for controllers (10^6 packets/second)\n",
        "capacity = 600000\n",
        "\n",
        "# Find all controller nodes\n",
        "controllers = [n for n, d in G.nodes(data=True) if d['role'] == \"controller\"]\n",
        "\n",
        "# Dictionary to keep track of controller loads\n",
        "controller_loads = {c: 0 for c in controllers}"
      ],
      "metadata": {
        "id": "V_lFPhQ9_i0g"
      },
      "execution_count": null,
      "outputs": []
    },
    {
      "cell_type": "code",
      "source": [
        "seed = 650631030  # seed value for reproducibility\n",
        "random.seed(seed)\n",
        "\n",
        "packet_rate = [15500,31500,47500]    # average rate or expected value\n",
        "\n",
        "size = amount_of_switch  # number of switch\n",
        "packet_size = {}\n",
        "p = 1\n",
        "for t in range(260):\n",
        "    # Creating a random number generator with a fixed seed\n",
        "    rng = np.random.default_rng(seed)\n",
        "    seed += seed\n",
        "    if t % 5 == 0:\n",
        "      # print(f'{\"-\"*50} Period {p} {\"-\"*50}')\n",
        "      p += 1\n",
        "      lamb = random.choices(packet_rate, k=size)\n",
        "    # Generating values from a Poisson distribution using the seeded generator\n",
        "    packet_size[t] = rng.poisson(lam=lamb)\n",
        "    # print(f'Generated Poisson samples with fixed seed t={t}: {packet_size[t]}')"
      ],
      "metadata": {
        "id": "-WCc4TML_mUj"
      },
      "execution_count": null,
      "outputs": []
    },
    {
      "cell_type": "code",
      "source": [
        "# Simulate packet generation and handling for a given number of seconds (e.g. 10 seconds)\n",
        "setSelectedCon()\n",
        "sim_time = 260\n",
        "avg_en = 0\n",
        "migration_times = 0\n",
        "overload_times = 0\n",
        "deltaE = 0\n",
        "packet_amount = {}\n",
        "# sys.stdout = open('gd_att_result.txt','wt')\n",
        "\n",
        "\n",
        "for i in range(sim_time):\n",
        "    # Update controller load every 5 second\n",
        "    if i != 0 and i % 5 == 0:\n",
        "        print()\n",
        "        print(\"Controller loads after\", i, \"seconds:\")\n",
        "        print(f\"Controller capacity: {capacity}\",end='\\n\\n')\n",
        "        for node in G.nodes():\n",
        "            if G.nodes[node]['role'] == 'controller':\n",
        "                print(f\"Controller {node} load: {controller_loads[node]} pps\")\n",
        "                if controller_loads[node] > capacity:\n",
        "                  print(f\"Controller {node} is overloaded!\")\n",
        "                  overload_times += 1\n",
        "        print()\n",
        "        \n",
        "        # Added code part for migration process\n",
        "        try:\n",
        "            printSwitchController(G)\n",
        "            energycost_before = energycostCalculate(G)\n",
        "            switches_to_migrate = findSwitchtoMigrateList(packet_amount, controller_loads, capacity)\n",
        "            result2 = min_knapsack3_gd(switches_to_migrate, controller_loads, capacity)\n",
        "            print()\n",
        "            printResult(result2)\n",
        "            migration_times += doMigrate(result2)\n",
        "            print()\n",
        "            printSwitchController(G)\n",
        "            print()\n",
        "        except Exception:\n",
        "            traceback.print_exc()\n",
        "\n",
        "        controller_loads = {c: 0 for c in controllers}\n",
        "        energycost_after = energycostCalculate(G)\n",
        "        # print(f'packet_amound bf remove: {packet_amount}')\n",
        "        packet_amount = {}\n",
        "        avg_en += energycost_after\n",
        "        print(f'Energy consume from topology before migrate: {energycost_before}')\n",
        "        print(f'Energy consume from topology after migrate: {energycost_after}', end='\\n\\n')\n",
        "        deltaE += (energycost_after - energycost_before)\n",
        "        print(f'ΔE = {energycost_after - energycost_before}')\n",
        "        \n",
        "        # End of added code part\n",
        "\n",
        "    # Generate packets for each switch and send to its selected controller\n",
        "    k = 0\n",
        "    \n",
        "    for node in G.nodes():\n",
        "        if G.nodes[node]['role'] == 'switch':\n",
        "            selected_con = G.nodes[node]['selected_con']\n",
        "            packet_count = packet_size[i][k]\n",
        "            k += 1\n",
        "            if node in packet_amount:\n",
        "                packet_amount[node] += packet_count\n",
        "            else:\n",
        "                packet_amount[node] = packet_count\n",
        "\n",
        "            controller_loads[selected_con] += packet_count\n",
        "            # print(f\"Switch {node} generated {packet_count} packets and sent to controller {selected_con}\")\n",
        "\n",
        "    print(f'{\"*\"*5} Finish round {i}. {\"*\"*5}\\n')\n",
        "\n",
        "    \n",
        "print(f'Avg energy consumption: {avg_en/(sim_time/5)}')\n",
        "print(f'Total migration use: {migration_times} \\nTotal overload controller occurs: {overload_times}')\n",
        "print(f'Total ΔE change: {deltaE}')"
      ],
      "metadata": {
        "id": "3fR8jQ4H_otC"
      },
      "execution_count": null,
      "outputs": []
    },
    {
      "cell_type": "markdown",
      "source": [
        "## LDOP"
      ],
      "metadata": {
        "id": "ppksaJfZ9DaJ"
      }
    },
    {
      "cell_type": "code",
      "source": [
        "# Define the packet handling capacity for controllers (10^6 packets/second)\n",
        "capacity = 600000\n",
        "\n",
        "# Find all controller nodes\n",
        "controllers = [n for n, d in G.nodes(data=True) if d['role'] == \"controller\"]\n",
        "\n",
        "# Dictionary to keep track of controller loads\n",
        "controller_loads = {c: 0 for c in controllers}"
      ],
      "metadata": {
        "id": "3uG1U9ro9DaS"
      },
      "execution_count": null,
      "outputs": []
    },
    {
      "cell_type": "code",
      "source": [
        "seed = 650631030  # seed value for reproducibility\n",
        "random.seed(seed)\n",
        "\n",
        "packet_rate = [15500,31500,47500]    # average rate or expected value\n",
        "\n",
        "size = amount_of_switch  # number of switch\n",
        "packet_size = {}\n",
        "p = 1\n",
        "for t in range(260):\n",
        "    # Creating a random number generator with a fixed seed\n",
        "    rng = np.random.default_rng(seed)\n",
        "    seed += seed\n",
        "    if t % 5 == 0:\n",
        "      # print(f'{\"-\"*50} Period {p} {\"-\"*50}')\n",
        "      p += 1\n",
        "      lamb = random.choices(packet_rate, k=size)\n",
        "    # Generating values from a Poisson distribution using the seeded generator\n",
        "    packet_size[t] = rng.poisson(lam=lamb)\n",
        "    # print(f'Generated Poisson samples with fixed seed t={t}: {packet_size[t]}')"
      ],
      "metadata": {
        "id": "loqrY6ut9DaS"
      },
      "execution_count": null,
      "outputs": []
    },
    {
      "cell_type": "code",
      "source": [
        "# Simulate packet generation and handling for a given number of seconds (e.g. 10 seconds)\n",
        "setSelectedCon()\n",
        "sim_time = 260\n",
        "avg_en = 0\n",
        "migration_times = 0\n",
        "overload_times = 0\n",
        "deltaE = 0\n",
        "packet_amount = {}\n",
        "# sys.stdout = open('ldop_att_result.txt','wt')\n",
        "\n",
        "for i in range(sim_time):\n",
        "    # Update controller load every 5 second\n",
        "    if i != 0 and i % 5 == 0:\n",
        "        print()\n",
        "        print(\"Controller loads after\", i, \"seconds:\")\n",
        "        print(f\"Controller capacity: {capacity}\",end='\\n\\n')\n",
        "        for node in G.nodes():\n",
        "            if G.nodes[node]['role'] == 'controller':\n",
        "                print(f\"Controller {node} load: {controller_loads[node]} pps\")\n",
        "                if controller_loads[node] > capacity:\n",
        "                  print(f\"Controller {node} is overloaded!\")\n",
        "                  overload_times += 1\n",
        "        print()\n",
        "        \n",
        "        # Added code part for migration process\n",
        "        try:\n",
        "            printSwitchController(G)\n",
        "            energycost_before = energycostCalculate(G)\n",
        "            switches_to_migrate = findSwitchtoMigrateList(packet_amount, controller_loads, capacity)\n",
        "            result2 = algorithm_2(switches_to_migrate, controller_loads, capacity)\n",
        "            print()\n",
        "            printResult(result2)\n",
        "            migration_times += doMigrate(result2)\n",
        "            print()\n",
        "            printSwitchController(G)\n",
        "            print()\n",
        "        except Exception:\n",
        "            traceback.print_exc()\n",
        "\n",
        "        controller_loads = {c: 0 for c in controllers}\n",
        "        energycost_after = energycostCalculate(G)\n",
        "        # print(f'packet_amound bf remove: {packet_amount}')\n",
        "        packet_amount = {}\n",
        "        avg_en += energycost_after\n",
        "        print(f'Energy consume from topology before migrate: {energycost_before}')\n",
        "        print(f'Energy consume from topology after migrate: {energycost_after}', end='\\n\\n')\n",
        "        deltaE += (energycost_after - energycost_before)\n",
        "        print(f'ΔE = {energycost_after - energycost_before}')\n",
        "        \n",
        "        # End of added code part\n",
        "\n",
        "    # Generate packets for each switch and send to its selected controller\n",
        "    k = 0\n",
        "    \n",
        "    for node in G.nodes():\n",
        "        if G.nodes[node]['role'] == 'switch':\n",
        "            selected_con = G.nodes[node]['selected_con']\n",
        "            packet_count = packet_size[i][k]\n",
        "            k += 1\n",
        "            if node in packet_amount:\n",
        "                packet_amount[node] += packet_count\n",
        "            else:\n",
        "                packet_amount[node] = packet_count\n",
        "\n",
        "            controller_loads[selected_con] += packet_count\n",
        "            # print(f\"Switch {node} generated {packet_count} packets and sent to controller {selected_con}\")\n",
        "\n",
        "    print(f'{\"*\"*5} Finish round {i}. {\"*\"*5}\\n')\n",
        "\n",
        "    \n",
        "print(f'Avg energy consumption: {avg_en/(sim_time/5)}')\n",
        "print(f'Total migration use: {migration_times} \\nTotal overload controller occurs: {overload_times}')\n",
        "print(f'Total ΔE change: {deltaE}')"
      ],
      "metadata": {
        "id": "aNTylTvc9DaS"
      },
      "execution_count": null,
      "outputs": []
    }
  ]
}